{
 "cells": [
  {
   "cell_type": "markdown",
   "id": "44c8ba95",
   "metadata": {},
   "source": [
    "# Spatial data integration\n",
    "Places have names and identifiers used in databases such as OpenStreeMap and administrations. We can link information about a place using its identifier and standard vocabularies. "
   ]
  },
  {
   "cell_type": "code",
   "execution_count": 1,
   "id": "ce62dc6d",
   "metadata": {},
   "outputs": [
    {
     "name": "stdout",
     "output_type": "stream",
     "text": [
      "Timothy Berners-Lee\n"
     ]
    }
   ],
   "source": [
    "from rdflib import Graph\n",
    "\n",
    "# Create a Graph, pare in Internet data\n",
    "g = Graph().parse(\"http://www.w3.org/People/Berners-Lee/card\")\n",
    "\n",
    "# Query the data in g using SPARQL\n",
    "# This query returns the 'name' of all ``foaf:Person`` instances\n",
    "q = \"\"\"\n",
    "    PREFIX foaf: <http://xmlns.com/foaf/0.1/>\n",
    "\n",
    "    SELECT ?name\n",
    "    WHERE {\n",
    "        ?p rdf:type foaf:Person .\n",
    "\n",
    "        ?p foaf:name ?name .\n",
    "    }\n",
    "\"\"\"\n",
    "\n",
    "# Apply the query to the graph and iterate through results\n",
    "for r in g.query(q):\n",
    "    print(r[\"name\"])"
   ]
  },
  {
   "cell_type": "code",
   "execution_count": null,
   "id": "bb22cd07",
   "metadata": {},
   "outputs": [],
   "source": []
  }
 ],
 "metadata": {
  "kernelspec": {
   "display_name": "Python 3 (ipykernel)",
   "language": "python",
   "name": "python3"
  },
  "language_info": {
   "codemirror_mode": {
    "name": "ipython",
    "version": 3
   },
   "file_extension": ".py",
   "mimetype": "text/x-python",
   "name": "python",
   "nbconvert_exporter": "python",
   "pygments_lexer": "ipython3",
   "version": "3.9.13"
  }
 },
 "nbformat": 4,
 "nbformat_minor": 5
}
