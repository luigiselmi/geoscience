{
 "cells": [
  {
   "cell_type": "markdown",
   "id": "bc02e799-ee3f-4d0f-964c-da8c5cc38772",
   "metadata": {},
   "source": [
    "# Ordinary kridging\n",
    "[Kridging](https://en.wikipedia.org/wiki/Kriging) is a spatial interpolation algorithm. This example is taken from the [PyKrige](https://geostat-framework.readthedocs.io/projects/pykrige/en/stable/examples/00_ordinary.html) documentation. In this example a 2D array is used to represent the x and y coordinates of 4 data points with the corresponding z value.\n",
    "The dataset is passed to the OrdinaryKriging that computes the variogram according to a model, e.g. linear, and the kriged data for all the 11x11 points in the grid. The variogram $\\gamma(h)$ is a function, computed using a data sample, that represents the variation of a variable of interest within a region\n",
    "\n",
    "$$\\gamma(h) = \\frac{1}{2m(h)} \\sum_{i=1}^{m(h)} [z(x_i) - z(x_i + h)]^2 $$\n",
    "\n",
    "Here h is the lag, that is the distance between two data points, and m(h) is the number of paired comparisons at lag h. The variogram is used to compute the weights of the kridging.\n",
    "\n",
    "$$\\hat Z(x_0) = \\sum_{i=1}^N \\lambda_i z(x_i)$$\n",
    "\n",
    "$Z(x_0)$ is the kridged value of the z variable computed at a point $x_0$ based on the values at the sample data points. The formula is used to compute the Z values at the grid points."
   ]
  },
  {
   "cell_type": "code",
   "execution_count": 1,
   "id": "2f176de8-0999-4321-ad11-fd2754f8d965",
   "metadata": {},
   "outputs": [],
   "source": [
    "import matplotlib.pyplot as plt\n",
    "import numpy as np\n",
    "import pykrige.kriging_tools as kt\n",
    "from pykrige.ok import OrdinaryKriging"
   ]
  },
  {
   "cell_type": "markdown",
   "id": "c7cbe421-a26e-4c92-b612-4356a46d0691",
   "metadata": {},
   "source": [
    "## The observations dataset\n",
    "We use a 2D NumPy array with the [x, y, z] columns to store the observations. These observations will be used to compute the variogram and predict the z values for the nodes in a grid."
   ]
  },
  {
   "cell_type": "code",
   "execution_count": 34,
   "id": "fe49c278-b6b7-4348-96f6-3e481afa6e09",
   "metadata": {},
   "outputs": [],
   "source": [
    "data = np.array(\n",
    "    [\n",
    "        [0.3, 1.2, 0.47],\n",
    "        [1.9, 0.6, 0.56],\n",
    "        [1.1, 3.2, 0.74],\n",
    "        [3.3, 4.4, 1.47],\n",
    "        [4.7, 3.8, 1.74],\n",
    "    ]\n",
    ")"
   ]
  },
  {
   "cell_type": "markdown",
   "id": "703faafb-5908-4ad2-9d95-a78891df1a7e",
   "metadata": {},
   "source": [
    "## The grid\n",
    "We create a grid of 11x11 nodes spaced 0.5 units over our area of interest, in some unspecified projected reference system that contains our datapoints"
   ]
  },
  {
   "cell_type": "code",
   "execution_count": 35,
   "id": "3d34067b-5ce8-4977-92b9-0a40723b9028",
   "metadata": {},
   "outputs": [],
   "source": [
    "gridx = np.arange(0.0, 5.5, 0.5)\n",
    "gridy = np.arange(0.0, 5.5, 0.5)"
   ]
  },
  {
   "cell_type": "markdown",
   "id": "cda4e1bd-1f6c-45e4-b76f-ef18cf6c8a93",
   "metadata": {},
   "source": [
    "## Computing the variogram and the kridged data\n",
    "We use the OrdinaryKriging module to compute the variogram according to a model among linear, exponential or gaussian. The linear, exponential and gaussian models show similar results."
   ]
  },
  {
   "cell_type": "code",
   "execution_count": 24,
   "id": "2dc6dfcf-5ece-4ed7-9d12-647a7216e940",
   "metadata": {},
   "outputs": [],
   "source": [
    "OK = OrdinaryKriging(\n",
    "    data[:, 0],  # x coordinates\n",
    "    data[:, 1],  # y coordinates\n",
    "    data[:, 2],  # z values at (x, y)\n",
    "    variogram_model='linear', \n",
    "    verbose=False,\n",
    "    enable_plotting=False,\n",
    ")"
   ]
  },
  {
   "cell_type": "code",
   "execution_count": 37,
   "id": "632875f6-e9ba-472d-9495-3f6a6fc00391",
   "metadata": {},
   "outputs": [],
   "source": [
    "z, ss = OK.execute(\"grid\", gridx, gridy)"
   ]
  },
  {
   "cell_type": "markdown",
   "id": "ab9b4ec7-96d0-4989-a107-44dac9faa12e",
   "metadata": {},
   "source": [
    "## Kridging visualization"
   ]
  },
  {
   "cell_type": "code",
   "execution_count": 27,
   "id": "0848a49a-279b-4be0-87b5-79a8ac7c923a",
   "metadata": {},
   "outputs": [
    {
     "data": {
      "image/png": "[encoded data removed]",
      "text/plain": [
       "<Figure size 640x480 with 1 Axes>"
      ]
     },
     "metadata": {},
     "output_type": "display_data"
    }
   ],
   "source": [
    "kt.write_asc_grid(gridx, gridy, z, filename=\"kridging_output.asc\")\n",
    "plt.imshow(z)\n",
    "plt.show()"
   ]
  }
 ],
 "metadata": {
  "kernelspec": {
   "display_name": "Python 3 (ipykernel)",
   "language": "python",
   "name": "python3"
  },
  "language_info": {
   "codemirror_mode": {
    "name": "ipython",
    "version": 3
   },
   "file_extension": ".py",
   "mimetype": "text/x-python",
   "name": "python",
   "nbconvert_exporter": "python",
   "pygments_lexer": "ipython3",
   "version": "3.12.5"
  }
 },
 "nbformat": 4,
 "nbformat_minor": 5
}
