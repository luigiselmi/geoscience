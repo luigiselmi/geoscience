{
 "cells": [
  {
   "cell_type": "markdown",
   "id": "20e138a0-4348-493c-a9ba-c04039662c52",
   "metadata": {},
   "source": [
    "# Geometric kriging\n",
    "In this example, taken from the [PyKrige](https://geostat-framework.readthedocs.io/projects/pykrige/en/stable/examples/04_krige_geometric.html) documentation, we use a dataset of observations with latitude and longitude coordinates"
   ]
  },
  {
   "cell_type": "code",
   "execution_count": 1,
   "id": "fb9218a7-8fb7-4bb3-b341-ef4bcfc5d3eb",
   "metadata": {},
   "outputs": [],
   "source": [
    "import matplotlib.pyplot as plt\n",
    "import numpy as np\n",
    "import pykrige.kriging_tools as kt\n",
    "from pykrige.ok import OrdinaryKriging"
   ]
  },
  {
   "cell_type": "code",
   "execution_count": 12,
   "id": "28492e19-9c95-4c63-8dfa-8a2bc629a8e7",
   "metadata": {},
   "outputs": [],
   "source": [
    "# Make this example reproducible:\n",
    "np.random.seed(89239413)"
   ]
  },
  {
   "cell_type": "markdown",
   "id": "2e014dde-4d6e-48a9-ac52-4ce5d1a1a73d",
   "metadata": {},
   "source": [
    "## The observations dataset"
   ]
  },
  {
   "cell_type": "code",
   "execution_count": 13,
   "id": "f5b4da7d-667a-41ac-bd98-87b428be2e59",
   "metadata": {},
   "outputs": [
    {
     "data": {
      "text/plain": [
       "array([2.74878016, 3.36196987, 2.23655655, 3.06696569, 3.36542928,\n",
       "       5.24849692, 2.82391007])"
      ]
     },
     "execution_count": 13,
     "metadata": {},
     "output_type": "execute_result"
    }
   ],
   "source": [
    "# Generate random data following a uniform spatial distribution\n",
    "# of nodes and a uniform distribution of values in the interval\n",
    "# [2.0, 5.5]:\n",
    "N = 7\n",
    "lon = 360.0 * np.random.random(N)\n",
    "lat = 180.0 / np.pi * np.arcsin(2 * np.random.random(N) - 1)\n",
    "z = 3.5 * np.random.rand(N) + 2.0\n",
    "z"
   ]
  },
  {
   "cell_type": "markdown",
   "id": "01db8a49-1b73-4340-b4cd-564bfb5f7933",
   "metadata": {},
   "source": [
    "## The grid"
   ]
  },
  {
   "cell_type": "code",
   "execution_count": 22,
   "id": "ebeb78a3-8cde-4094-a9df-75b6d38efe9b",
   "metadata": {},
   "outputs": [
    {
     "data": {
      "text/plain": [
       "array([  0.,  60., 120., 180., 240., 300., 360.])"
      ]
     },
     "execution_count": 22,
     "metadata": {},
     "output_type": "execute_result"
    }
   ],
   "source": [
    "# Generate a regular grid with 60° longitude and 30° latitude steps:\n",
    "grid_lon = np.linspace(0.0, 360.0, 7)\n",
    "grid_lon"
   ]
  },
  {
   "cell_type": "code",
   "execution_count": 21,
   "id": "7ef69c05-1f18-4b65-ba9e-a8c4542ab5ca",
   "metadata": {},
   "outputs": [
    {
     "data": {
      "text/plain": [
       "array([-90., -60., -30.,   0.,  30.,  60.,  90.])"
      ]
     },
     "execution_count": 21,
     "metadata": {},
     "output_type": "execute_result"
    }
   ],
   "source": [
    "grid_lat = np.linspace(-90.0, 90.0, 7)\n",
    "grid_lat"
   ]
  },
  {
   "cell_type": "markdown",
   "id": "9389c6da-2851-415d-b29a-8e5482b7f9be",
   "metadata": {},
   "source": [
    "## Computing the variogram and the kridged data\n",
    "We use the 'geographic' coordinates type so that the distance between the data points and the nodes of the grid is computed taking into account that they are points over a sphere."
   ]
  },
  {
   "cell_type": "code",
   "execution_count": 15,
   "id": "58ba1433-3c0a-465a-9e9f-7f6daf34d74d",
   "metadata": {},
   "outputs": [],
   "source": [
    "# Create ordinary kriging object:\n",
    "OK = OrdinaryKriging(\n",
    "    lon,\n",
    "    lat,\n",
    "    z,\n",
    "    variogram_model=\"linear\",\n",
    "    verbose=False,\n",
    "    enable_plotting=False,\n",
    "    coordinates_type=\"geographic\",\n",
    ")"
   ]
  },
  {
   "cell_type": "code",
   "execution_count": 16,
   "id": "fcdf0719-839c-4ac7-85b4-6c5a517d5434",
   "metadata": {},
   "outputs": [],
   "source": [
    "# Execute on grid:\n",
    "z1, ss1 = OK.execute(\"grid\", grid_lon, grid_lat)"
   ]
  },
  {
   "cell_type": "markdown",
   "id": "ad2c3de4-22d6-48fb-9d58-aa8172353c3e",
   "metadata": {},
   "source": [
    "We also compute the kriging using the default coordinates type, 'euclidean', to see the difference with the correct metric."
   ]
  },
  {
   "cell_type": "code",
   "execution_count": 17,
   "id": "d27c0e24-9f91-45b9-b7b1-6147a32cdf8b",
   "metadata": {},
   "outputs": [],
   "source": [
    "# Create ordinary kriging object ignoring curvature:\n",
    "OK = OrdinaryKriging(\n",
    "    lon, \n",
    "    lat, \n",
    "    z, \n",
    "    variogram_model=\"linear\", \n",
    "    verbose=False, \n",
    "    enable_plotting=False\n",
    ")\n"
   ]
  },
  {
   "cell_type": "code",
   "execution_count": 18,
   "id": "765e801d-13f4-4374-9747-c3accf87e5e2",
   "metadata": {},
   "outputs": [],
   "source": [
    "# Execute on grid:\n",
    "z2, ss2 = OK.execute(\"grid\", grid_lon, grid_lat)"
   ]
  },
  {
   "cell_type": "code",
   "execution_count": 19,
   "id": "09a78fcd-e532-4fdb-b2d8-39701fe89818",
   "metadata": {},
   "outputs": [
    {
     "name": "stdout",
     "output_type": "stream",
     "text": [
      "Original data:\n",
      "Longitude: [122 166  92 138  86 122 136]\n",
      "Latitude:  [-46 -36 -25 -73 -25  50 -29]\n",
      "z:         [2.75 3.36 2.24 3.07 3.37 5.25 2.82]\n",
      "\n",
      "Krige at 60° latitude:\n",
      "======================\n",
      "Longitude: [  0.  60. 120. 180. 240. 300. 360.]\n",
      "Value:     [5.29 5.11 5.27 5.17 5.35 5.63 5.29]\n",
      "Sigma²:    [2.22 1.32 0.42 1.21 2.07 2.48 2.22]\n",
      "\n",
      "Ignoring curvature:\n",
      "=====================\n",
      "Value:     [4.55 4.72 5.25 4.82 4.61 4.53 4.48]\n",
      "Sigma²:    [3.79 2.   0.39 1.85 3.54 5.46 7.53]\n"
     ]
    }
   ],
   "source": [
    "print(\"Original data:\")\n",
    "print(\"Longitude:\", lon.astype(int))\n",
    "print(\"Latitude: \", lat.astype(int))\n",
    "print(\"z:        \", np.array_str(z, precision=2))\n",
    "print(\"\\nKrige at 60° latitude:\\n======================\")\n",
    "print(\"Longitude:\", grid_lon)\n",
    "print(\"Value:    \", np.array_str(z1[5, :], precision=2))\n",
    "print(\"Sigma²:   \", np.array_str(ss1[5, :], precision=2))\n",
    "print(\"\\nIgnoring curvature:\\n=====================\")\n",
    "print(\"Value:    \", np.array_str(z2[5, :], precision=2))\n",
    "print(\"Sigma²:   \", np.array_str(ss2[5, :], precision=2))"
   ]
  },
  {
   "cell_type": "markdown",
   "id": "d98ad62c-f7e2-4405-889f-c7742c2186a5",
   "metadata": {},
   "source": [
    "## Kriging visualization\n",
    "We plot the z function computed using the curvature and without. We can see in the latter case that the region with high values is erronously shifted westwards"
   ]
  },
  {
   "cell_type": "code",
   "execution_count": 20,
   "id": "970ec63e-8842-4fae-b5e0-5d5b8a29d153",
   "metadata": {},
   "outputs": [
    {
     "data": {
      "image/png": "[encoded data removed]",
      "text/plain": [
       "<Figure size 640x480 with 2 Axes>"
      ]
     },
     "metadata": {},
     "output_type": "display_data"
    }
   ],
   "source": [
    "fig, (ax1, ax2) = plt.subplots(1, 2)\n",
    "ax1.imshow(z1, extent=[0, 360, -90, 90], origin=\"lower\")\n",
    "ax1.set_title(\"geo-coordinates\")\n",
    "ax2.imshow(z2, extent=[0, 360, -90, 90], origin=\"lower\")\n",
    "ax2.set_title(\"non geo-coordinates\")\n",
    "plt.show()"
   ]
  },
  {
   "cell_type": "code",
   "execution_count": null,
   "id": "1ac2a9d3-9f04-48fd-bee3-692d5dae0149",
   "metadata": {},
   "outputs": [],
   "source": []
  }
 ],
 "metadata": {
  "kernelspec": {
   "display_name": "Python 3 (ipykernel)",
   "language": "python",
   "name": "python3"
  },
  "language_info": {
   "codemirror_mode": {
    "name": "ipython",
    "version": 3
   },
   "file_extension": ".py",
   "mimetype": "text/x-python",
   "name": "python",
   "nbconvert_exporter": "python",
   "pygments_lexer": "ipython3",
   "version": "3.12.5"
  }
 },
 "nbformat": 4,
 "nbformat_minor": 5
}
