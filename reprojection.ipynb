{
 "cells": [
  {
   "cell_type": "markdown",
   "id": "ea689d6b",
   "metadata": {},
   "source": [
    "# Reprojection \n",
    "In this example we will create GeoDataFrames using an unprojected reference system WGS84 [EPSG:4326](https://epsg.io/4326)  adding some points and polygons, then we will change the CRS into a WGS84 Transverse Mercator coordinate reference system [EPSG:32632](https://epsg.io/32632), and finally we change again the CRS using [EPSG:3035](https://epsg.io/3035), another projected reference system with a different datum and projection."
   ]
  },
  {
   "cell_type": "code",
   "execution_count": 1,
   "id": "67cb4d78",
   "metadata": {},
   "outputs": [],
   "source": [
    "import geopandas as gpd\n",
    "from shapely.geometry import Point, LineString, Polygon\n",
    "import matplotlib.pyplot as plt"
   ]
  },
  {
   "cell_type": "markdown",
   "id": "4247795b",
   "metadata": {},
   "source": [
    "## Points and Polygons\n",
    "We create some points of (latitude, longitude) coordinate pairs and polygons using the unprojected coordinate system WGS84 ([EPSG:4326](https://epsg.io/4326)). The polygons will have different spatial relationships among them.  "
   ]
  },
  {
   "cell_type": "code",
   "execution_count": 125,
   "id": "e4c9c69e",
   "metadata": {},
   "outputs": [],
   "source": [
    "ancona = Point(13.507224906316003, 43.603167575429865)\n",
    "jesi = Point(13.242730375837372, 43.52126425797635)\n",
    "corinaldo = Point(13.049195930621709, 43.648832985051826)\n",
    "pergola = Point(12.836472564469215, 43.56165937486001)\n",
    "fabriano = Point(12.904426736174587, 43.333135653018644)\n",
    "camerino = Point(13.069720952624685, 43.13575640876881)\n",
    "tolentino = Point(13.285526127229707, 43.20802624129122)\n",
    "civitanova = Point(13.730063928797744, 43.30743501558867)"
   ]
  },
  {
   "cell_type": "markdown",
   "id": "f5564662",
   "metadata": {},
   "source": [
    "We create a geodataframe by setting the geometry of each record and the coordnate reference system"
   ]
  },
  {
   "cell_type": "code",
   "execution_count": 126,
   "id": "b907f7f4",
   "metadata": {},
   "outputs": [
    {
     "data": {
      "text/plain": [
       "<Geographic 2D CRS: EPSG:4326>\n",
       "Name: WGS 84\n",
       "Axis Info [ellipsoidal]:\n",
       "- Lat[north]: Geodetic latitude (degree)\n",
       "- Lon[east]: Geodetic longitude (degree)\n",
       "Area of Use:\n",
       "- name: World.\n",
       "- bounds: (-180.0, -90.0, 180.0, 90.0)\n",
       "Datum: World Geodetic System 1984 ensemble\n",
       "- Ellipsoid: WGS 84\n",
       "- Prime Meridian: Greenwich"
      ]
     },
     "execution_count": 126,
     "metadata": {},
     "output_type": "execute_result"
    }
   ],
   "source": [
    "names = ['Ancona', 'Jesi', 'Corinaldo', 'Pergola', 'Fabriano', 'Camerino', 'Tolentino', 'Civitanova']\n",
    "geometries = [ancona, jesi, corinaldo, pergola, fabriano, camerino, tolentino, civitanova]\n",
    "places = {'Place': names, 'geometry': geometries}\n",
    "\n",
    "places_gdf = gpd.GeoDataFrame(places, crs=\"EPSG:4326\")\n",
    "places_gdf.crs"
   ]
  },
  {
   "cell_type": "code",
   "execution_count": 127,
   "id": "76541ccd",
   "metadata": {},
   "outputs": [
    {
     "data": {
      "text/html": [
       "<div>\n",
       "<style scoped>\n",
       "    .dataframe tbody tr th:only-of-type {\n",
       "        vertical-align: middle;\n",
       "    }\n",
       "\n",
       "    .dataframe tbody tr th {\n",
       "        vertical-align: top;\n",
       "    }\n",
       "\n",
       "    .dataframe thead th {\n",
       "        text-align: right;\n",
       "    }\n",
       "</style>\n",
       "<table border=\"1\" class=\"dataframe\">\n",
       "  <thead>\n",
       "    <tr style=\"text-align: right;\">\n",
       "      <th></th>\n",
       "      <th>Place</th>\n",
       "      <th>geometry</th>\n",
       "    </tr>\n",
       "  </thead>\n",
       "  <tbody>\n",
       "    <tr>\n",
       "      <th>0</th>\n",
       "      <td>Ancona</td>\n",
       "      <td>POINT (13.50722 43.60317)</td>\n",
       "    </tr>\n",
       "    <tr>\n",
       "      <th>1</th>\n",
       "      <td>Jesi</td>\n",
       "      <td>POINT (13.24273 43.52126)</td>\n",
       "    </tr>\n",
       "    <tr>\n",
       "      <th>2</th>\n",
       "      <td>Corinaldo</td>\n",
       "      <td>POINT (13.04920 43.64883)</td>\n",
       "    </tr>\n",
       "    <tr>\n",
       "      <th>3</th>\n",
       "      <td>Pergola</td>\n",
       "      <td>POINT (12.83647 43.56166)</td>\n",
       "    </tr>\n",
       "    <tr>\n",
       "      <th>4</th>\n",
       "      <td>Fabriano</td>\n",
       "      <td>POINT (12.90443 43.33314)</td>\n",
       "    </tr>\n",
       "    <tr>\n",
       "      <th>5</th>\n",
       "      <td>Camerino</td>\n",
       "      <td>POINT (13.06972 43.13576)</td>\n",
       "    </tr>\n",
       "    <tr>\n",
       "      <th>6</th>\n",
       "      <td>Tolentino</td>\n",
       "      <td>POINT (13.28553 43.20803)</td>\n",
       "    </tr>\n",
       "    <tr>\n",
       "      <th>7</th>\n",
       "      <td>Civitanova</td>\n",
       "      <td>POINT (13.73006 43.30744)</td>\n",
       "    </tr>\n",
       "  </tbody>\n",
       "</table>\n",
       "</div>"
      ],
      "text/plain": [
       "        Place                   geometry\n",
       "0      Ancona  POINT (13.50722 43.60317)\n",
       "1        Jesi  POINT (13.24273 43.52126)\n",
       "2   Corinaldo  POINT (13.04920 43.64883)\n",
       "3     Pergola  POINT (12.83647 43.56166)\n",
       "4    Fabriano  POINT (12.90443 43.33314)\n",
       "5    Camerino  POINT (13.06972 43.13576)\n",
       "6   Tolentino  POINT (13.28553 43.20803)\n",
       "7  Civitanova  POINT (13.73006 43.30744)"
      ]
     },
     "execution_count": 127,
     "metadata": {},
     "output_type": "execute_result"
    }
   ],
   "source": [
    "places_gdf"
   ]
  },
  {
   "cell_type": "code",
   "execution_count": 128,
   "id": "4ce27131",
   "metadata": {},
   "outputs": [
    {
     "data": {
      "text/plain": [
       "<AxesSubplot:>"
      ]
     },
     "execution_count": 128,
     "metadata": {},
     "output_type": "execute_result"
    },
    {
     "data": {
      "image/png": "[encoded data removed]",
      "text/plain": [
       "<Figure size 720x360 with 1 Axes>"
      ]
     },
     "metadata": {
      "needs_background": "light"
     },
     "output_type": "display_data"
    }
   ],
   "source": [
    "fig, ax = plt.subplots(1, figsize=(10, 5))\n",
    "places_gdf.plot(ax=ax)"
   ]
  },
  {
   "cell_type": "markdown",
   "id": "f5696f17",
   "metadata": {},
   "source": [
    "We create a polygon from the points that have been defined and a geo dataframe using the same WGS84 coordinate reference system. A polygon starts and ends with the same point."
   ]
  },
  {
   "cell_type": "code",
   "execution_count": 129,
   "id": "ea95a2dd",
   "metadata": {},
   "outputs": [],
   "source": [
    "geometries.append(ancona)\n",
    "places_poligon = Polygon(geometries)\n",
    "blue_polygon = {'Polygon': 'Blue Polygon', 'geometry': places_poligon}\n",
    "blue_polygon_df = gpd.GeoDataFrame(blue_polygon, crs =\"EPSG:4326\", index=range(0,1))"
   ]
  },
  {
   "cell_type": "code",
   "execution_count": 130,
   "id": "69be8f6b",
   "metadata": {},
   "outputs": [
    {
     "data": {
      "text/plain": [
       "<AxesSubplot:>"
      ]
     },
     "execution_count": 130,
     "metadata": {},
     "output_type": "execute_result"
    },
    {
     "data": {
      "image/png": "[encoded data removed]",
      "text/plain": [
       "<Figure size 720x360 with 1 Axes>"
      ]
     },
     "metadata": {
      "needs_background": "light"
     },
     "output_type": "display_data"
    }
   ],
   "source": [
    "fig, ax = plt.subplots(1, figsize=(10, 5))\n",
    "blue_polygon_df.plot(ax=ax)"
   ]
  },
  {
   "cell_type": "markdown",
   "id": "a05243ce",
   "metadata": {},
   "source": [
    "We create a 2nd polygon that lies within the 1st one"
   ]
  },
  {
   "cell_type": "code",
   "execution_count": 75,
   "id": "7d4c808a",
   "metadata": {},
   "outputs": [],
   "source": [
    "pollenza = Point(13.348327008723794, 43.267747099681664)\n",
    "macerata = Point(13.453648702662996, 43.29998523010854)\n",
    "recanati = Point(13.549725428303592, 43.402275676832225)\n",
    "cingoli = Point(13.215093036131329, 43.3753164922384)\n",
    "\n",
    "names = ['Pollenza', 'Macerata', 'Recanati', 'Cingoli']\n",
    "geometries = [pollenza, macerata, recanati, cingoli]\n",
    "places = {'Place': names, 'geometry': geometries}\n",
    "\n",
    "places2_gdf = gpd.GeoDataFrame(places, crs=\"EPSG:4326\")"
   ]
  },
  {
   "cell_type": "code",
   "execution_count": 76,
   "id": "002fc2bb",
   "metadata": {},
   "outputs": [],
   "source": [
    "geometries.append(pollenza) \n",
    "places_poligon = Polygon(geometries)\n",
    "orange_polygon = {'Polygon': 'Orange Polygon', 'geometry': places_poligon}\n",
    "orange_polygon_df = gpd.GeoDataFrame(orange_polygon, crs ='EPSG:4326', index=range(0,1))"
   ]
  },
  {
   "cell_type": "code",
   "execution_count": 77,
   "id": "f08d08d8",
   "metadata": {},
   "outputs": [
    {
     "data": {
      "text/plain": [
       "<AxesSubplot:>"
      ]
     },
     "execution_count": 77,
     "metadata": {},
     "output_type": "execute_result"
    },
    {
     "data": {
      "image/png": "[encoded data removed]",
      "text/plain": [
       "<Figure size 720x360 with 1 Axes>"
      ]
     },
     "metadata": {
      "needs_background": "light"
     },
     "output_type": "display_data"
    }
   ],
   "source": [
    "fig, ax = plt.subplots(1, figsize=(10, 5))\n",
    "blue_polygon_df.plot(ax=ax)\n",
    "orange_polygon_df.plot(ax=ax, color='orange')"
   ]
  },
  {
   "cell_type": "markdown",
   "id": "64bb495d",
   "metadata": {},
   "source": [
    "A 3rd polygon intersects the 1st one and touches the 2nd one"
   ]
  },
  {
   "cell_type": "code",
   "execution_count": 78,
   "id": "f18e0a1e",
   "metadata": {},
   "outputs": [],
   "source": [
    "assisi = Point(12.614701534142005, 43.07119190994771)\n",
    "foligno = Point(12.703168606899375, 42.9562108203491)\n",
    "\n",
    "names = ['Assisi', 'Foligno', 'Cingoli']\n",
    "geometries = [assisi, foligno, cingoli]\n",
    "places = {'Place': names, 'geometry': geometries}\n",
    "\n",
    "geometries.append(assisi)\n",
    "places_polygon = Polygon(geometries)\n",
    "red_polygon = {'Polygon': 'Red Polygon', 'geometry': places_polygon}\n",
    "red_polygon_df = gpd.GeoDataFrame(red_polygon, crs ='EPSG:4326', index=range(0,1))"
   ]
  },
  {
   "cell_type": "markdown",
   "id": "a3f0739e",
   "metadata": {},
   "source": [
    "The green polygon will not have any relationship with the other polygons, i.e. all the spatial relationships between the green polygon an the other polygon will be false."
   ]
  },
  {
   "cell_type": "code",
   "execution_count": 79,
   "id": "628d8914",
   "metadata": {},
   "outputs": [],
   "source": [
    "#ascoli = Point(13.575433954979674, 42.853814381937084)\n",
    "#sanbenedetto = Point(13.877999980019567, 42.95218639154696)\n",
    "montalto = Point(13.60881384827591, 42.98873215474887)\n",
    "fermo = Point(13.717626058195096, 43.16110296285725)\n",
    "gualdo = Point(13.338057750138939, 43.067169218394255)\n",
    "\n",
    "names = ['Montalto delle Marche', 'Fermo', 'Gualdo']\n",
    "geometries = [montalto, fermo, gualdo]\n",
    "places = {'Place': names, 'geometry': geometries}\n",
    "\n",
    "geometries.append(montalto)\n",
    "places_poligon = Polygon(geometries)\n",
    "green_polygon = {'Polygon': 'Green Polygon', 'geometry': places_poligon}\n",
    "green_polygon_df = gpd.GeoDataFrame(green_polygon, crs ='EPSG:4326', index=range(0,1))"
   ]
  },
  {
   "cell_type": "markdown",
   "id": "f19622ee",
   "metadata": {},
   "source": [
    "We create a collection with the red, green and orange polygons."
   ]
  },
  {
   "cell_type": "code",
   "execution_count": 80,
   "id": "5a5ecfa0",
   "metadata": {},
   "outputs": [],
   "source": [
    "rgo_polygons = [red_polygon, orange_polygon, green_polygon]\n",
    "rgo_polygons_df = gpd.GeoDataFrame(rgo_polygons, crs='EPSG:4326', index=range(0, 3))"
   ]
  },
  {
   "cell_type": "code",
   "execution_count": 81,
   "id": "c6a3415c",
   "metadata": {},
   "outputs": [
    {
     "data": {
      "text/plain": [
       "<AxesSubplot:>"
      ]
     },
     "execution_count": 81,
     "metadata": {},
     "output_type": "execute_result"
    },
    {
     "data": {
      "image/png": "[encoded data removed]",
      "text/plain": [
       "<Figure size 720x360 with 1 Axes>"
      ]
     },
     "metadata": {
      "needs_background": "light"
     },
     "output_type": "display_data"
    }
   ],
   "source": [
    "fig, ax = plt.subplots(1, figsize=(10, 5))\n",
    "blue_polygon_df.plot(ax=ax)\n",
    "orange_polygon_df.plot(ax=ax, color='orange')\n",
    "red_polygon_df.plot(ax=ax, color='red')\n",
    "green_polygon_df.plot(ax=ax, color='green')"
   ]
  },
  {
   "cell_type": "markdown",
   "id": "8eb729b3",
   "metadata": {},
   "source": [
    "## Spatial relationship\n",
    "We apply the topological operators within, intersects and touch, between the polygons that we have defined. We will apply the topological operators to pairs of polygons from two different geodataframes. The operators take one operand from a row of the 1st dataframe and the second operand from the corresponding row of the other geodataframe.  \n",
    "\n",
    "### within\n",
    "From the [operator definition](https://geopandas.org/en/stable/docs/reference/api/geopandas.GeoSeries.within.html) in Geopandas: \"An object is said to be within another if at least one of its points is located in the interior and no points are located in the exterior of the other.\""
   ]
  },
  {
   "cell_type": "code",
   "execution_count": 82,
   "id": "d77ef885",
   "metadata": {},
   "outputs": [
    {
     "data": {
      "text/plain": [
       "0    True\n",
       "dtype: bool"
      ]
     },
     "execution_count": 82,
     "metadata": {},
     "output_type": "execute_result"
    }
   ],
   "source": [
    "orange_polygon_df.within(blue_polygon_df)"
   ]
  },
  {
   "cell_type": "code",
   "execution_count": 83,
   "id": "f4dd0c7f",
   "metadata": {},
   "outputs": [
    {
     "data": {
      "text/plain": [
       "0    False\n",
       "dtype: bool"
      ]
     },
     "execution_count": 83,
     "metadata": {},
     "output_type": "execute_result"
    }
   ],
   "source": [
    "red_polygon_df.within(blue_polygon_df)"
   ]
  },
  {
   "cell_type": "code",
   "execution_count": 86,
   "id": "0f01c071",
   "metadata": {},
   "outputs": [
    {
     "data": {
      "text/html": [
       "<div>\n",
       "<style scoped>\n",
       "    .dataframe tbody tr th:only-of-type {\n",
       "        vertical-align: middle;\n",
       "    }\n",
       "\n",
       "    .dataframe tbody tr th {\n",
       "        vertical-align: top;\n",
       "    }\n",
       "\n",
       "    .dataframe thead th {\n",
       "        text-align: right;\n",
       "    }\n",
       "</style>\n",
       "<table border=\"1\" class=\"dataframe\">\n",
       "  <thead>\n",
       "    <tr style=\"text-align: right;\">\n",
       "      <th></th>\n",
       "      <th>Polygon</th>\n",
       "      <th>geometry</th>\n",
       "    </tr>\n",
       "  </thead>\n",
       "  <tbody>\n",
       "    <tr>\n",
       "      <th>0</th>\n",
       "      <td>Red Polygon</td>\n",
       "      <td>POLYGON ((12.61470 43.07119, 12.70317 42.95621...</td>\n",
       "    </tr>\n",
       "    <tr>\n",
       "      <th>1</th>\n",
       "      <td>Orange Polygon</td>\n",
       "      <td>POLYGON ((13.34833 43.26775, 13.45365 43.29999...</td>\n",
       "    </tr>\n",
       "    <tr>\n",
       "      <th>2</th>\n",
       "      <td>Green Polygon</td>\n",
       "      <td>POLYGON ((13.60881 42.98873, 13.71763 43.16110...</td>\n",
       "    </tr>\n",
       "  </tbody>\n",
       "</table>\n",
       "</div>"
      ],
      "text/plain": [
       "          Polygon                                           geometry\n",
       "0     Red Polygon  POLYGON ((12.61470 43.07119, 12.70317 42.95621...\n",
       "1  Orange Polygon  POLYGON ((13.34833 43.26775, 13.45365 43.29999...\n",
       "2   Green Polygon  POLYGON ((13.60881 42.98873, 13.71763 43.16110..."
      ]
     },
     "execution_count": 86,
     "metadata": {},
     "output_type": "execute_result"
    }
   ],
   "source": [
    "rgo_polygons_df"
   ]
  },
  {
   "cell_type": "markdown",
   "id": "4279b217",
   "metadata": {},
   "source": [
    "We can apply the within() operator between the set of red, orange and green polygons and the blue one"
   ]
  },
  {
   "cell_type": "code",
   "execution_count": 231,
   "id": "fc206311",
   "metadata": {},
   "outputs": [
    {
     "data": {
      "text/plain": [
       "0    False\n",
       "1     True\n",
       "2    False\n",
       "dtype: bool"
      ]
     },
     "execution_count": 231,
     "metadata": {},
     "output_type": "execute_result"
    }
   ],
   "source": [
    "rgo_polygons_df.within(blue_polygon_df.loc[0, 'geometry'])"
   ]
  },
  {
   "cell_type": "markdown",
   "id": "95f6a786",
   "metadata": {},
   "source": [
    "### intersects\n",
    "From the [operator definition](https://geopandas.org/en/stable/docs/reference/api/geopandas.GeoSeries.intersects.html) in GeoPandas: \"An object is said to intersect another if its boundary and interior intersects in any way with those of the other.\""
   ]
  },
  {
   "cell_type": "code",
   "execution_count": 88,
   "id": "4cadf22f",
   "metadata": {},
   "outputs": [
    {
     "data": {
      "text/plain": [
       "0    True\n",
       "dtype: bool"
      ]
     },
     "execution_count": 88,
     "metadata": {},
     "output_type": "execute_result"
    }
   ],
   "source": [
    "orange_polygon_df.intersects(blue_polygon_df)"
   ]
  },
  {
   "cell_type": "code",
   "execution_count": 89,
   "id": "c5e70dea",
   "metadata": {},
   "outputs": [
    {
     "data": {
      "text/plain": [
       "0    True\n",
       "dtype: bool"
      ]
     },
     "execution_count": 89,
     "metadata": {},
     "output_type": "execute_result"
    }
   ],
   "source": [
    "red_polygon_df.intersects(blue_polygon_df)"
   ]
  },
  {
   "cell_type": "code",
   "execution_count": 90,
   "id": "6f487f7f",
   "metadata": {},
   "outputs": [
    {
     "data": {
      "text/plain": [
       "0    True\n",
       "dtype: bool"
      ]
     },
     "execution_count": 90,
     "metadata": {},
     "output_type": "execute_result"
    }
   ],
   "source": [
    "red_polygon_df.intersects(orange_polygon_df)"
   ]
  },
  {
   "cell_type": "markdown",
   "id": "f76fb4b2",
   "metadata": {},
   "source": [
    "### touches\n",
    "From the [operator definition](https://geopandas.org/en/stable/docs/reference/api/geopandas.GeoSeries.touches.html): \"An object is said to touch another if it has at least one point in common with other and its interior does not intersect with any part of the other. Overlapping features therefore do not touch.\" "
   ]
  },
  {
   "cell_type": "code",
   "execution_count": 91,
   "id": "ee75558b",
   "metadata": {},
   "outputs": [
    {
     "data": {
      "text/plain": [
       "0    False\n",
       "dtype: bool"
      ]
     },
     "execution_count": 91,
     "metadata": {},
     "output_type": "execute_result"
    }
   ],
   "source": [
    "orange_polygon_df.touches(blue_polygon_df)"
   ]
  },
  {
   "cell_type": "code",
   "execution_count": 92,
   "id": "a9cbc020",
   "metadata": {},
   "outputs": [
    {
     "data": {
      "text/plain": [
       "0    False\n",
       "dtype: bool"
      ]
     },
     "execution_count": 92,
     "metadata": {},
     "output_type": "execute_result"
    }
   ],
   "source": [
    "red_polygon_df.touches(blue_polygon_df)"
   ]
  },
  {
   "cell_type": "code",
   "execution_count": 93,
   "id": "eb67a8ad",
   "metadata": {},
   "outputs": [
    {
     "data": {
      "text/plain": [
       "0    True\n",
       "dtype: bool"
      ]
     },
     "execution_count": 93,
     "metadata": {},
     "output_type": "execute_result"
    }
   ],
   "source": [
    "red_polygon_df.touches(orange_polygon_df)"
   ]
  },
  {
   "cell_type": "markdown",
   "id": "33f4c9ea",
   "metadata": {},
   "source": [
    "## Projections\n",
    "Now we change the CRS to project the coordinates of the points and polygons onto a plane. We use the Transverse Mercato projection. We will replace the unprojected EPSG:4362 CRS that we have used so far to the EPSG:32632 CRS that uses the same datum and also a Transverse Mercator projection. The coordinate will be in meters instead of degrees. We reproject all the three polygons."
   ]
  },
  {
   "cell_type": "code",
   "execution_count": 131,
   "id": "7f85aec0",
   "metadata": {},
   "outputs": [
    {
     "data": {
      "text/plain": [
       "<Derived Projected CRS: EPSG:32632>\n",
       "Name: WGS 84 / UTM zone 32N\n",
       "Axis Info [cartesian]:\n",
       "- E[east]: Easting (metre)\n",
       "- N[north]: Northing (metre)\n",
       "Area of Use:\n",
       "- name: Between 6°E and 12°E, northern hemisphere between equator and 84°N, onshore and offshore. Algeria. Austria. Cameroon. Denmark. Equatorial Guinea. France. Gabon. Germany. Italy. Libya. Liechtenstein. Monaco. Netherlands. Niger. Nigeria. Norway. Sao Tome and Principe. Svalbard. Sweden. Switzerland. Tunisia. Vatican City State.\n",
       "- bounds: (6.0, 0.0, 12.0, 84.0)\n",
       "Coordinate Operation:\n",
       "- name: UTM zone 32N\n",
       "- method: Transverse Mercator\n",
       "Datum: World Geodetic System 1984 ensemble\n",
       "- Ellipsoid: WGS 84\n",
       "- Prime Meridian: Greenwich"
      ]
     },
     "execution_count": 131,
     "metadata": {},
     "output_type": "execute_result"
    }
   ],
   "source": [
    "blue_polygon_df_epsg32632 = blue_polygon_df.copy()\n",
    "blue_polygon_df_epsg32632.to_crs(epsg=32632, inplace=True)\n",
    "blue_polygon_df_epsg32632.crs"
   ]
  },
  {
   "cell_type": "markdown",
   "id": "212adaca",
   "metadata": {},
   "source": [
    "Let's print the coordinates of one polygon in the EPSG:32362 CRS"
   ]
  },
  {
   "cell_type": "code",
   "execution_count": 132,
   "id": "c9eb6343",
   "metadata": {},
   "outputs": [
    {
     "data": {
      "text/plain": [
       "'POLYGON ((863781.1855847789 4837677.633231176, 842896.7866065938 4827453.760055961, 826562.4360335513 4840842.432184465, 809853.1380987542 4830343.608222753, 816533.230693284 4805217.116145946, 831003.4436524143 4783935.166874516, 848146.0962037805 4792838.988502411, 883638.0862401193 4805830.531473042, 863781.1855847789 4837677.633231176))'"
      ]
     },
     "execution_count": 132,
     "metadata": {},
     "output_type": "execute_result"
    }
   ],
   "source": [
    "str(blue_polygon_df_epsg32632.loc[0]['geometry'])"
   ]
  },
  {
   "cell_type": "code",
   "execution_count": 133,
   "id": "f9e1c19b",
   "metadata": {},
   "outputs": [],
   "source": [
    "orange_polygon_df_epsg32632 = orange_polygon_df.copy()\n",
    "orange_polygon_df_epsg32632.to_crs(epsg=32632, inplace=True)"
   ]
  },
  {
   "cell_type": "code",
   "execution_count": 134,
   "id": "3b3cc37c",
   "metadata": {},
   "outputs": [],
   "source": [
    "red_polygon_df_epsg32632 = red_polygon_df.copy()\n",
    "red_polygon_df_epsg32632.to_crs(epsg=32632, inplace=True)"
   ]
  },
  {
   "cell_type": "code",
   "execution_count": 135,
   "id": "80043855",
   "metadata": {},
   "outputs": [],
   "source": [
    "green_polygon_df_epsg32632 = green_polygon_df.copy()\n",
    "green_polygon_df_epsg32632.to_crs(epsg=32632, inplace=True)"
   ]
  },
  {
   "cell_type": "markdown",
   "id": "c52f99b2",
   "metadata": {},
   "source": [
    "## Spatial relationship using a projected coordinate reference system\n",
    "We use the topological operators to see whether the spatial relationships between the polygons still hold true after the change of the CRS. As we can see all of them are still valid.\n",
    "\n",
    "### From EPSG:4326 to EPSG:32632"
   ]
  },
  {
   "cell_type": "markdown",
   "id": "cdeb51b9",
   "metadata": {},
   "source": [
    "### within"
   ]
  },
  {
   "cell_type": "code",
   "execution_count": 136,
   "id": "93fac020",
   "metadata": {},
   "outputs": [
    {
     "data": {
      "text/plain": [
       "0    True\n",
       "dtype: bool"
      ]
     },
     "execution_count": 136,
     "metadata": {},
     "output_type": "execute_result"
    }
   ],
   "source": [
    "orange_polygon_df_epsg32632.within(blue_polygon_df_epsg32632)"
   ]
  },
  {
   "cell_type": "code",
   "execution_count": 137,
   "id": "e6f9f576",
   "metadata": {},
   "outputs": [
    {
     "data": {
      "text/plain": [
       "0    False\n",
       "dtype: bool"
      ]
     },
     "execution_count": 137,
     "metadata": {},
     "output_type": "execute_result"
    }
   ],
   "source": [
    "red_polygon_df_epsg32632.within(blue_polygon_df_epsg32632)"
   ]
  },
  {
   "cell_type": "markdown",
   "id": "15108213",
   "metadata": {},
   "source": [
    "### intersects"
   ]
  },
  {
   "cell_type": "code",
   "execution_count": 138,
   "id": "c5db3d29",
   "metadata": {},
   "outputs": [
    {
     "data": {
      "text/plain": [
       "0    True\n",
       "dtype: bool"
      ]
     },
     "execution_count": 138,
     "metadata": {},
     "output_type": "execute_result"
    }
   ],
   "source": [
    "orange_polygon_df_epsg32632.intersects(blue_polygon_df_epsg32632)"
   ]
  },
  {
   "cell_type": "code",
   "execution_count": 139,
   "id": "54e8353f",
   "metadata": {},
   "outputs": [
    {
     "data": {
      "text/plain": [
       "0    True\n",
       "dtype: bool"
      ]
     },
     "execution_count": 139,
     "metadata": {},
     "output_type": "execute_result"
    }
   ],
   "source": [
    "red_polygon_df_epsg32632.intersects(blue_polygon_df_epsg32632)"
   ]
  },
  {
   "cell_type": "code",
   "execution_count": 140,
   "id": "2548b9fe",
   "metadata": {},
   "outputs": [
    {
     "data": {
      "text/plain": [
       "0    True\n",
       "dtype: bool"
      ]
     },
     "execution_count": 140,
     "metadata": {},
     "output_type": "execute_result"
    }
   ],
   "source": [
    "red_polygon_df_epsg32632.intersects(orange_polygon_df_epsg32632)"
   ]
  },
  {
   "cell_type": "markdown",
   "id": "85e90dd4",
   "metadata": {},
   "source": [
    "### touches"
   ]
  },
  {
   "cell_type": "code",
   "execution_count": 141,
   "id": "d950ff9e",
   "metadata": {},
   "outputs": [
    {
     "data": {
      "text/plain": [
       "0    False\n",
       "dtype: bool"
      ]
     },
     "execution_count": 141,
     "metadata": {},
     "output_type": "execute_result"
    }
   ],
   "source": [
    "orange_polygon_df_epsg32632.touches(blue_polygon_df_epsg32632)"
   ]
  },
  {
   "cell_type": "code",
   "execution_count": 142,
   "id": "8f159db2",
   "metadata": {},
   "outputs": [
    {
     "data": {
      "text/plain": [
       "0    False\n",
       "dtype: bool"
      ]
     },
     "execution_count": 142,
     "metadata": {},
     "output_type": "execute_result"
    }
   ],
   "source": [
    "red_polygon_df_epsg32632.touches(blue_polygon_df_epsg32632)"
   ]
  },
  {
   "cell_type": "code",
   "execution_count": 143,
   "id": "fdb91d80",
   "metadata": {},
   "outputs": [
    {
     "data": {
      "text/plain": [
       "0    True\n",
       "dtype: bool"
      ]
     },
     "execution_count": 143,
     "metadata": {},
     "output_type": "execute_result"
    }
   ],
   "source": [
    "red_polygon_df_epsg32632.touches(orange_polygon_df_epsg32632)"
   ]
  },
  {
   "cell_type": "code",
   "execution_count": 144,
   "id": "00667ec8",
   "metadata": {},
   "outputs": [
    {
     "data": {
      "text/plain": [
       "<AxesSubplot:>"
      ]
     },
     "execution_count": 144,
     "metadata": {},
     "output_type": "execute_result"
    },
    {
     "data": {
      "image/png": "[encoded data removed]",
      "text/plain": [
       "<Figure size 720x360 with 1 Axes>"
      ]
     },
     "metadata": {
      "needs_background": "light"
     },
     "output_type": "display_data"
    }
   ],
   "source": [
    "fig, ax = plt.subplots(1, figsize=(10, 5))\n",
    "blue_polygon_df_epsg32632.plot(ax=ax)\n",
    "orange_polygon_df_epsg32632.plot(ax=ax, color='orange')\n",
    "red_polygon_df_epsg32632.plot(ax=ax, color='red')\n",
    "green_polygon_df_epsg32632.plot(ax=ax, color='green')"
   ]
  },
  {
   "cell_type": "markdown",
   "id": "01193fd6",
   "metadata": {},
   "source": [
    "### From EPSG:32632 to EPSG:3035"
   ]
  },
  {
   "cell_type": "code",
   "execution_count": 145,
   "id": "5df4f8f1",
   "metadata": {},
   "outputs": [
    {
     "data": {
      "text/plain": [
       "<Derived Projected CRS: EPSG:3035>\n",
       "Name: ETRS89-extended / LAEA Europe\n",
       "Axis Info [cartesian]:\n",
       "- Y[north]: Northing (metre)\n",
       "- X[east]: Easting (metre)\n",
       "Area of Use:\n",
       "- name: Europe - European Union (EU) countries and candidates. Europe - onshore and offshore: Albania; Andorra; Austria; Belgium; Bosnia and Herzegovina; Bulgaria; Croatia; Cyprus; Czechia; Denmark; Estonia; Faroe Islands; Finland; France; Germany; Gibraltar; Greece; Hungary; Iceland; Ireland; Italy; Kosovo; Latvia; Liechtenstein; Lithuania; Luxembourg; Malta; Monaco; Montenegro; Netherlands; North Macedonia; Norway including Svalbard and Jan Mayen; Poland; Portugal including Madeira and Azores; Romania; San Marino; Serbia; Slovakia; Slovenia; Spain including Canary Islands; Sweden; Switzerland; Turkey; United Kingdom (UK) including Channel Islands and Isle of Man; Vatican City State.\n",
       "- bounds: (-35.58, 24.6, 44.83, 84.73)\n",
       "Coordinate Operation:\n",
       "- name: Europe Equal Area 2001\n",
       "- method: Lambert Azimuthal Equal Area\n",
       "Datum: European Terrestrial Reference System 1989 ensemble\n",
       "- Ellipsoid: GRS 1980\n",
       "- Prime Meridian: Greenwich"
      ]
     },
     "execution_count": 145,
     "metadata": {},
     "output_type": "execute_result"
    }
   ],
   "source": [
    "blue_polygon_df_epsg3035 = blue_polygon_df_epsg32632.copy()\n",
    "blue_polygon_df_epsg3035.to_crs(epsg=3035, inplace=True)\n",
    "blue_polygon_df_epsg3035.crs"
   ]
  },
  {
   "cell_type": "markdown",
   "id": "f53661d5",
   "metadata": {},
   "source": [
    "Let's print the coordinates of one polygon in the EPSG:3035 CRS"
   ]
  },
  {
   "cell_type": "code",
   "execution_count": 146,
   "id": "f0b252f9",
   "metadata": {},
   "outputs": [
    {
     "data": {
      "text/plain": [
       "'POLYGON ((4604768.279640143 2283779.7407224784, 4583753.073756432 2273747.0385039896, 4567540.52834565 2287218.5921846647, 4550694.510169499 2276888.226263894, 4557115.667771904 2251790.026471015, 4571383.917539243 2230470.078828498, 4588645.409445256 2239214.90777178, 4624313.065379609 2251908.9035745705, 4604768.279640143 2283779.7407224784))'"
      ]
     },
     "execution_count": 146,
     "metadata": {},
     "output_type": "execute_result"
    }
   ],
   "source": [
    "str(blue_polygon_df_epsg3035.loc[0]['geometry'])"
   ]
  },
  {
   "cell_type": "code",
   "execution_count": 147,
   "id": "c47bfd35",
   "metadata": {},
   "outputs": [],
   "source": [
    "orange_polygon_df_epsg3035 = orange_polygon_df_epsg32632.copy()\n",
    "orange_polygon_df_epsg3035.to_crs(epsg=3035, inplace=True)"
   ]
  },
  {
   "cell_type": "code",
   "execution_count": 148,
   "id": "034b7a20",
   "metadata": {},
   "outputs": [],
   "source": [
    "red_polygon_df_epsg3035 = red_polygon_df_epsg32632.copy()\n",
    "red_polygon_df_epsg3035.to_crs(epsg=3035, inplace=True)"
   ]
  },
  {
   "cell_type": "markdown",
   "id": "f99451a0",
   "metadata": {},
   "source": [
    "### within"
   ]
  },
  {
   "cell_type": "code",
   "execution_count": 149,
   "id": "d13194c7",
   "metadata": {},
   "outputs": [
    {
     "data": {
      "text/plain": [
       "0    True\n",
       "dtype: bool"
      ]
     },
     "execution_count": 149,
     "metadata": {},
     "output_type": "execute_result"
    }
   ],
   "source": [
    "orange_polygon_df_epsg3035.within(blue_polygon_df_epsg3035)"
   ]
  },
  {
   "cell_type": "code",
   "execution_count": 150,
   "id": "6648d4a1",
   "metadata": {},
   "outputs": [
    {
     "data": {
      "text/plain": [
       "0    False\n",
       "dtype: bool"
      ]
     },
     "execution_count": 150,
     "metadata": {},
     "output_type": "execute_result"
    }
   ],
   "source": [
    "red_polygon_df_epsg3035.within(blue_polygon_df_epsg3035)"
   ]
  },
  {
   "cell_type": "markdown",
   "id": "c555fb51",
   "metadata": {},
   "source": [
    "### intersects"
   ]
  },
  {
   "cell_type": "code",
   "execution_count": 151,
   "id": "f4b53860",
   "metadata": {},
   "outputs": [
    {
     "data": {
      "text/plain": [
       "0    True\n",
       "dtype: bool"
      ]
     },
     "execution_count": 151,
     "metadata": {},
     "output_type": "execute_result"
    }
   ],
   "source": [
    "orange_polygon_df_epsg3035.intersects(blue_polygon_df_epsg3035)"
   ]
  },
  {
   "cell_type": "code",
   "execution_count": 152,
   "id": "0a66acf9",
   "metadata": {},
   "outputs": [
    {
     "data": {
      "text/plain": [
       "0    True\n",
       "dtype: bool"
      ]
     },
     "execution_count": 152,
     "metadata": {},
     "output_type": "execute_result"
    }
   ],
   "source": [
    "red_polygon_df_epsg3035.intersects(blue_polygon_df_epsg3035)"
   ]
  },
  {
   "cell_type": "code",
   "execution_count": 153,
   "id": "879a49ed",
   "metadata": {},
   "outputs": [
    {
     "data": {
      "text/plain": [
       "0    True\n",
       "dtype: bool"
      ]
     },
     "execution_count": 153,
     "metadata": {},
     "output_type": "execute_result"
    }
   ],
   "source": [
    "red_polygon_df_epsg3035.intersects(orange_polygon_df_epsg3035)"
   ]
  },
  {
   "cell_type": "markdown",
   "id": "3975b5fe",
   "metadata": {},
   "source": [
    "### touches"
   ]
  },
  {
   "cell_type": "code",
   "execution_count": 154,
   "id": "f1b0cf7d",
   "metadata": {},
   "outputs": [
    {
     "data": {
      "text/plain": [
       "0    False\n",
       "dtype: bool"
      ]
     },
     "execution_count": 154,
     "metadata": {},
     "output_type": "execute_result"
    }
   ],
   "source": [
    "orange_polygon_df_epsg3035.touches(blue_polygon_df_epsg3035)"
   ]
  },
  {
   "cell_type": "code",
   "execution_count": 155,
   "id": "2af5cf61",
   "metadata": {},
   "outputs": [
    {
     "data": {
      "text/plain": [
       "0    False\n",
       "dtype: bool"
      ]
     },
     "execution_count": 155,
     "metadata": {},
     "output_type": "execute_result"
    }
   ],
   "source": [
    "red_polygon_df_epsg3035.touches(blue_polygon_df_epsg3035)"
   ]
  },
  {
   "cell_type": "code",
   "execution_count": 156,
   "id": "373067d8",
   "metadata": {},
   "outputs": [
    {
     "data": {
      "text/plain": [
       "0    True\n",
       "dtype: bool"
      ]
     },
     "execution_count": 156,
     "metadata": {},
     "output_type": "execute_result"
    }
   ],
   "source": [
    "red_polygon_df_epsg3035.touches(orange_polygon_df_epsg3035)"
   ]
  },
  {
   "cell_type": "markdown",
   "id": "72002a24",
   "metadata": {},
   "source": [
    "## The Marche region\n",
    "Since the points and the polygons that join them represent towns and areas in the Marche region we will find out out what spatial relationships between them hold true and what do not. For this test we use the polygon of the Marche region and the polygon of the blue area."
   ]
  },
  {
   "cell_type": "code",
   "execution_count": 157,
   "id": "646b8dff",
   "metadata": {},
   "outputs": [
    {
     "data": {
      "text/plain": [
       "<Derived Projected CRS: EPSG:32632>\n",
       "Name: WGS 84 / UTM zone 32N\n",
       "Axis Info [cartesian]:\n",
       "- E[east]: Easting (metre)\n",
       "- N[north]: Northing (metre)\n",
       "Area of Use:\n",
       "- name: Between 6°E and 12°E, northern hemisphere between equator and 84°N, onshore and offshore. Algeria. Austria. Cameroon. Denmark. Equatorial Guinea. France. Gabon. Germany. Italy. Libya. Liechtenstein. Monaco. Netherlands. Niger. Nigeria. Norway. Sao Tome and Principe. Svalbard. Sweden. Switzerland. Tunisia. Vatican City State.\n",
       "- bounds: (6.0, 0.0, 12.0, 84.0)\n",
       "Coordinate Operation:\n",
       "- name: UTM zone 32N\n",
       "- method: Transverse Mercator\n",
       "Datum: World Geodetic System 1984 ensemble\n",
       "- Ellipsoid: WGS 84\n",
       "- Prime Meridian: Greenwich"
      ]
     },
     "execution_count": 157,
     "metadata": {},
     "output_type": "execute_result"
    }
   ],
   "source": [
    "confini_marche_gdf = gpd.read_file('data/vector/italy/istat_confini_regioni/confini_marche/confini_marche.shp')\n",
    "confini_marche_gdf.crs"
   ]
  },
  {
   "cell_type": "code",
   "execution_count": 191,
   "id": "f5684e4a",
   "metadata": {},
   "outputs": [
    {
     "data": {
      "text/plain": [
       "0    True\n",
       "dtype: bool"
      ]
     },
     "execution_count": 191,
     "metadata": {},
     "output_type": "execute_result"
    }
   ],
   "source": [
    "blue_polygon_df_epsg32632.within(confini_marche_gdf)"
   ]
  },
  {
   "cell_type": "code",
   "execution_count": 197,
   "id": "dcb005df",
   "metadata": {},
   "outputs": [
    {
     "data": {
      "text/plain": [
       "0    True\n",
       "dtype: bool"
      ]
     },
     "execution_count": 197,
     "metadata": {},
     "output_type": "execute_result"
    }
   ],
   "source": [
    "blue_polygon_df_epsg32632.intersects(confini_marche_gdf)"
   ]
  },
  {
   "cell_type": "code",
   "execution_count": 198,
   "id": "f2557c98",
   "metadata": {},
   "outputs": [
    {
     "data": {
      "text/plain": [
       "0    False\n",
       "dtype: bool"
      ]
     },
     "execution_count": 198,
     "metadata": {},
     "output_type": "execute_result"
    }
   ],
   "source": [
    "blue_polygon_df_epsg32632.touches(confini_marche_gdf)"
   ]
  },
  {
   "cell_type": "code",
   "execution_count": 199,
   "id": "faa90aa0",
   "metadata": {},
   "outputs": [
    {
     "data": {
      "text/plain": [
       "0    False\n",
       "dtype: bool"
      ]
     },
     "execution_count": 199,
     "metadata": {},
     "output_type": "execute_result"
    }
   ],
   "source": [
    "blue_polygon_df_epsg32632.contains(confini_marche_gdf)"
   ]
  },
  {
   "cell_type": "markdown",
   "id": "0a1373b9",
   "metadata": {},
   "source": [
    "We can see that the relations found hold by looking at a map of the Marche region with the blue area superimposed over it"
   ]
  },
  {
   "cell_type": "code",
   "execution_count": 228,
   "id": "c93708a8",
   "metadata": {},
   "outputs": [
    {
     "data": {
      "text/plain": [
       "<AxesSubplot:>"
      ]
     },
     "execution_count": 228,
     "metadata": {},
     "output_type": "execute_result"
    },
    {
     "data": {
      "image/png": "[encoded data removed]",
      "text/plain": [
       "<Figure size 1080x720 with 1 Axes>"
      ]
     },
     "metadata": {
      "needs_background": "light"
     },
     "output_type": "display_data"
    }
   ],
   "source": [
    "fig, ax = plt.subplots(1, figsize=(15, 10))\n",
    "confini_marche_gdf.plot(ax=ax, color='orange')\n",
    "blue_polygon_df_epsg32632.plot(ax=ax)"
   ]
  },
  {
   "cell_type": "markdown",
   "id": "515ce44e",
   "metadata": {},
   "source": [
    "## Municipalities of the Marche region\n",
    "We want to see which municipality lies within the polygon of the blue area. We start by opening the dataset of the municipalities of the Marche region."
   ]
  },
  {
   "cell_type": "code",
   "execution_count": 209,
   "id": "43bd0b23",
   "metadata": {},
   "outputs": [
    {
     "data": {
      "text/html": [
       "<div>\n",
       "<style scoped>\n",
       "    .dataframe tbody tr th:only-of-type {\n",
       "        vertical-align: middle;\n",
       "    }\n",
       "\n",
       "    .dataframe tbody tr th {\n",
       "        vertical-align: top;\n",
       "    }\n",
       "\n",
       "    .dataframe thead th {\n",
       "        text-align: right;\n",
       "    }\n",
       "</style>\n",
       "<table border=\"1\" class=\"dataframe\">\n",
       "  <thead>\n",
       "    <tr style=\"text-align: right;\">\n",
       "      <th></th>\n",
       "      <th>COD_RIP</th>\n",
       "      <th>COD_REG</th>\n",
       "      <th>COD_PROV</th>\n",
       "      <th>COD_CM</th>\n",
       "      <th>COD_UTS</th>\n",
       "      <th>PRO_COM</th>\n",
       "      <th>PRO_COM_T</th>\n",
       "      <th>COMUNE</th>\n",
       "      <th>COMUNE_A</th>\n",
       "      <th>CC_UTS</th>\n",
       "      <th>Shape_Area</th>\n",
       "      <th>Shape_Leng</th>\n",
       "      <th>geometry</th>\n",
       "    </tr>\n",
       "  </thead>\n",
       "  <tbody>\n",
       "    <tr>\n",
       "      <th>0</th>\n",
       "      <td>3</td>\n",
       "      <td>11</td>\n",
       "      <td>44</td>\n",
       "      <td>0</td>\n",
       "      <td>44</td>\n",
       "      <td>44073</td>\n",
       "      <td>044073</td>\n",
       "      <td>Venarotta</td>\n",
       "      <td>None</td>\n",
       "      <td>0</td>\n",
       "      <td>3.020961e+07</td>\n",
       "      <td>35147.593496</td>\n",
       "      <td>POLYGON ((866075.377 4763076.292, 866110.876 4...</td>\n",
       "    </tr>\n",
       "    <tr>\n",
       "      <th>1</th>\n",
       "      <td>3</td>\n",
       "      <td>11</td>\n",
       "      <td>44</td>\n",
       "      <td>0</td>\n",
       "      <td>44</td>\n",
       "      <td>44065</td>\n",
       "      <td>044065</td>\n",
       "      <td>Rotella</td>\n",
       "      <td>None</td>\n",
       "      <td>0</td>\n",
       "      <td>2.743726e+07</td>\n",
       "      <td>30282.443322</td>\n",
       "      <td>POLYGON ((870717.596 4769636.484, 870729.346 4...</td>\n",
       "    </tr>\n",
       "  </tbody>\n",
       "</table>\n",
       "</div>"
      ],
      "text/plain": [
       "   COD_RIP  COD_REG  COD_PROV  COD_CM  COD_UTS  PRO_COM PRO_COM_T     COMUNE  \\\n",
       "0        3       11        44       0       44    44073    044073  Venarotta   \n",
       "1        3       11        44       0       44    44065    044065    Rotella   \n",
       "\n",
       "  COMUNE_A  CC_UTS    Shape_Area    Shape_Leng  \\\n",
       "0     None       0  3.020961e+07  35147.593496   \n",
       "1     None       0  2.743726e+07  30282.443322   \n",
       "\n",
       "                                            geometry  \n",
       "0  POLYGON ((866075.377 4763076.292, 866110.876 4...  \n",
       "1  POLYGON ((870717.596 4769636.484, 870729.346 4...  "
      ]
     },
     "execution_count": 209,
     "metadata": {},
     "output_type": "execute_result"
    }
   ],
   "source": [
    "path_municipalities_marche = 'data/vector/italy/istat_confini_comuni/marche/marche.shp'\n",
    "comuni_marche_gdf = gpd.read_file(path_municipalities_marche)\n",
    "comuni_marche_gdf[:2]"
   ]
  },
  {
   "cell_type": "markdown",
   "id": "dc08fbb5",
   "metadata": {},
   "source": [
    "The coordinate reference system used for the dataset is EPSG:32632, i.e WGS84 projected using Transverse Mercator"
   ]
  },
  {
   "cell_type": "code",
   "execution_count": 207,
   "id": "223e3454",
   "metadata": {},
   "outputs": [
    {
     "data": {
      "text/plain": [
       "<Derived Projected CRS: EPSG:32632>\n",
       "Name: WGS 84 / UTM zone 32N\n",
       "Axis Info [cartesian]:\n",
       "- E[east]: Easting (metre)\n",
       "- N[north]: Northing (metre)\n",
       "Area of Use:\n",
       "- name: Between 6°E and 12°E, northern hemisphere between equator and 84°N, onshore and offshore. Algeria. Austria. Cameroon. Denmark. Equatorial Guinea. France. Gabon. Germany. Italy. Libya. Liechtenstein. Monaco. Netherlands. Niger. Nigeria. Norway. Sao Tome and Principe. Svalbard. Sweden. Switzerland. Tunisia. Vatican City State.\n",
       "- bounds: (6.0, 0.0, 12.0, 84.0)\n",
       "Coordinate Operation:\n",
       "- name: UTM zone 32N\n",
       "- method: Transverse Mercator\n",
       "Datum: World Geodetic System 1984 ensemble\n",
       "- Ellipsoid: WGS 84\n",
       "- Prime Meridian: Greenwich"
      ]
     },
     "execution_count": 207,
     "metadata": {},
     "output_type": "execute_result"
    }
   ],
   "source": [
    "comuni_marche_gdf.crs"
   ]
  },
  {
   "cell_type": "markdown",
   "id": "c4fe16d3",
   "metadata": {},
   "source": [
    "We can see that all the geometries of the municipalities, that is their polygons, lie within the geometry of the Marche region "
   ]
  },
  {
   "cell_type": "code",
   "execution_count": 210,
   "id": "c87722d6",
   "metadata": {},
   "outputs": [
    {
     "data": {
      "text/plain": [
       "True"
      ]
     },
     "execution_count": 210,
     "metadata": {},
     "output_type": "execute_result"
    }
   ],
   "source": [
    "marche_geometry = confini_marche_gdf.loc[0, 'geometry']\n",
    "comuni_marche_mask = comuni_marche_gdf.within(marche_geometry)\n",
    "comuni_marche_mask.all() == True"
   ]
  },
  {
   "cell_type": "markdown",
   "id": "3f055bcb",
   "metadata": {},
   "source": [
    "Now we want to see which municipality lies within the blue area"
   ]
  },
  {
   "cell_type": "code",
   "execution_count": 214,
   "id": "5edf390a",
   "metadata": {},
   "outputs": [
    {
     "data": {
      "text/plain": [
       "True"
      ]
     },
     "execution_count": 214,
     "metadata": {},
     "output_type": "execute_result"
    }
   ],
   "source": [
    "blue_polygon_geom = blue_polygon_df_epsg32632.loc[0, 'geometry']\n",
    "blue_polygon_mask = comuni_marche_gdf.within(blue_polygon_geom)\n",
    "blue_polygon_mask.any() == True"
   ]
  },
  {
   "cell_type": "markdown",
   "id": "ddf2428f",
   "metadata": {},
   "source": [
    "There are 34 municipalities that lie within the blue area"
   ]
  },
  {
   "cell_type": "code",
   "execution_count": 223,
   "id": "f84bdd1f",
   "metadata": {},
   "outputs": [
    {
     "data": {
      "text/plain": [
       "34"
      ]
     },
     "execution_count": 223,
     "metadata": {},
     "output_type": "execute_result"
    }
   ],
   "source": [
    "len(comuni_marche_gdf[blue_polygon_mask])"
   ]
  },
  {
   "cell_type": "markdown",
   "id": "ca799417",
   "metadata": {},
   "source": [
    "We can plot them"
   ]
  },
  {
   "cell_type": "code",
   "execution_count": 227,
   "id": "9434c901",
   "metadata": {},
   "outputs": [
    {
     "data": {
      "text/plain": [
       "(749704.6458300003, 908702.3213699996, 4728429.965085, 4882348.7634149995)"
      ]
     },
     "execution_count": 227,
     "metadata": {},
     "output_type": "execute_result"
    },
    {
     "data": {
      "image/png": "[encoded data removed]",
      "text/plain": [
       "<Figure size 1080x720 with 1 Axes>"
      ]
     },
     "metadata": {
      "needs_background": "light"
     },
     "output_type": "display_data"
    }
   ],
   "source": [
    "fig, ax = plt.subplots(1, figsize=(15, 10))\n",
    "blue_polygon_df_epsg32632.plot(ax=ax, edgecolor='0.3', color='0.5')\n",
    "comuni_marche_gdf.plot(color='None', ax=ax, edgecolor='0.7')\n",
    "confini_marche_gdf.plot(ax=ax, color='None', linewidth=1.5, edgecolor='0.3')\n",
    "comuni_marche_gdf[blue_polygon_mask].plot(ax=ax, edgecolor='0.7')\n",
    "ax.axis('off')"
   ]
  },
  {
   "cell_type": "code",
   "execution_count": null,
   "id": "65cebcf0",
   "metadata": {},
   "outputs": [],
   "source": []
  }
 ],
 "metadata": {
  "kernelspec": {
   "display_name": "Python 3 (ipykernel)",
   "language": "python",
   "name": "python3"
  },
  "language_info": {
   "codemirror_mode": {
    "name": "ipython",
    "version": 3
   },
   "file_extension": ".py",
   "mimetype": "text/x-python",
   "name": "python",
   "nbconvert_exporter": "python",
   "pygments_lexer": "ipython3",
   "version": "3.9.13"
  }
 },
 "nbformat": 4,
 "nbformat_minor": 5
}
