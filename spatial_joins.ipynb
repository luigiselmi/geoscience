{
 "cells": [
  {
   "cell_type": "markdown",
   "id": "1b8f89a6",
   "metadata": {},
   "source": [
    "# Spatial joins\n",
    "Often we want to add an attribute of a spatial object to another spatial object with which it shares a spatial relationship. For example an object is an element of layer A that contains the administrative regions of a country and the other object is an element of a layer B that contains the areas that are at risk of flooding. A polygon of layer B, that represents an area at risk of flooding, may have a topological relationship with one or more administrative regions. With a spatial join of the objects in the two layers that share a certain topological relationship we will be able to associate the risk of flood to the administrative regions. \n",
    "\n",
    "We start with a simple example of two datasets, a set of points of interest (POI) and a set of polygons that represents neighborhoods in New York City. We want to add the name of the neighborhood to the point that lies within it."
   ]
  },
  {
   "cell_type": "code",
   "execution_count": 1,
   "id": "c033b4c2",
   "metadata": {},
   "outputs": [
    {
     "data": {
      "text/html": [
       "<div>\n",
       "<style scoped>\n",
       "    .dataframe tbody tr th:only-of-type {\n",
       "        vertical-align: middle;\n",
       "    }\n",
       "\n",
       "    .dataframe tbody tr th {\n",
       "        vertical-align: top;\n",
       "    }\n",
       "\n",
       "    .dataframe thead th {\n",
       "        text-align: right;\n",
       "    }\n",
       "</style>\n",
       "<table border=\"1\" class=\"dataframe\">\n",
       "  <thead>\n",
       "    <tr style=\"text-align: right;\">\n",
       "      <th></th>\n",
       "      <th>BoroCode</th>\n",
       "      <th>BoroName</th>\n",
       "      <th>Shape_Leng</th>\n",
       "      <th>Shape_Area</th>\n",
       "      <th>geometry</th>\n",
       "    </tr>\n",
       "  </thead>\n",
       "  <tbody>\n",
       "    <tr>\n",
       "      <th>0</th>\n",
       "      <td>5</td>\n",
       "      <td>Staten Island</td>\n",
       "      <td>330470.010332</td>\n",
       "      <td>1.623820e+09</td>\n",
       "      <td>MULTIPOLYGON (((970217.022 145643.332, 970227....</td>\n",
       "    </tr>\n",
       "    <tr>\n",
       "      <th>1</th>\n",
       "      <td>4</td>\n",
       "      <td>Queens</td>\n",
       "      <td>896344.047763</td>\n",
       "      <td>3.045213e+09</td>\n",
       "      <td>MULTIPOLYGON (((1029606.077 156073.814, 102957...</td>\n",
       "    </tr>\n",
       "    <tr>\n",
       "      <th>2</th>\n",
       "      <td>3</td>\n",
       "      <td>Brooklyn</td>\n",
       "      <td>741080.523166</td>\n",
       "      <td>1.937479e+09</td>\n",
       "      <td>MULTIPOLYGON (((1021176.479 151374.797, 102100...</td>\n",
       "    </tr>\n",
       "    <tr>\n",
       "      <th>3</th>\n",
       "      <td>1</td>\n",
       "      <td>Manhattan</td>\n",
       "      <td>359299.096471</td>\n",
       "      <td>6.364715e+08</td>\n",
       "      <td>MULTIPOLYGON (((981219.056 188655.316, 980940....</td>\n",
       "    </tr>\n",
       "    <tr>\n",
       "      <th>4</th>\n",
       "      <td>2</td>\n",
       "      <td>Bronx</td>\n",
       "      <td>464392.991824</td>\n",
       "      <td>1.186925e+09</td>\n",
       "      <td>MULTIPOLYGON (((1012821.806 229228.265, 101278...</td>\n",
       "    </tr>\n",
       "  </tbody>\n",
       "</table>\n",
       "</div>"
      ],
      "text/plain": [
       "   BoroCode       BoroName     Shape_Leng    Shape_Area  \\\n",
       "0         5  Staten Island  330470.010332  1.623820e+09   \n",
       "1         4         Queens  896344.047763  3.045213e+09   \n",
       "2         3       Brooklyn  741080.523166  1.937479e+09   \n",
       "3         1      Manhattan  359299.096471  6.364715e+08   \n",
       "4         2          Bronx  464392.991824  1.186925e+09   \n",
       "\n",
       "                                            geometry  \n",
       "0  MULTIPOLYGON (((970217.022 145643.332, 970227....  \n",
       "1  MULTIPOLYGON (((1029606.077 156073.814, 102957...  \n",
       "2  MULTIPOLYGON (((1021176.479 151374.797, 102100...  \n",
       "3  MULTIPOLYGON (((981219.056 188655.316, 980940....  \n",
       "4  MULTIPOLYGON (((1012821.806 229228.265, 101278...  "
      ]
     },
     "execution_count": 1,
     "metadata": {},
     "output_type": "execute_result"
    }
   ],
   "source": [
    "%matplotlib inline\n",
    "from shapely.geometry import Point\n",
    "from geopandas import datasets, GeoDataFrame, read_file\n",
    "\n",
    "# NYC Boros\n",
    "zippath = datasets.get_path('nybb')\n",
    "neighborhoods_df = read_file(zippath)\n",
    "neighborhoods_df"
   ]
  },
  {
   "cell_type": "markdown",
   "id": "b72e72dd",
   "metadata": {},
   "source": [
    "We create some POIs in the same area"
   ]
  },
  {
   "cell_type": "code",
   "execution_count": 3,
   "id": "15485a94",
   "metadata": {},
   "outputs": [],
   "source": [
    "b = [int(x) for x in neighborhoods_df.total_bounds]\n",
    "N = 8\n",
    "pois_df = GeoDataFrame([\n",
    "    {'geometry': Point(x, y), 'value1': x + y, 'value2': x - y}\n",
    "    for x, y in zip(range(b[0], b[2], int((b[2] - b[0]) / N)),\n",
    "                    range(b[1], b[3], int((b[3] - b[1]) / N)))])"
   ]
  },
  {
   "cell_type": "markdown",
   "id": "0b55aaf7",
   "metadata": {},
   "source": [
    "We assign to these points the same Coordinate Reference System of the neighborhoods"
   ]
  },
  {
   "cell_type": "code",
   "execution_count": 4,
   "id": "04294bbc",
   "metadata": {},
   "outputs": [
    {
     "data": {
      "text/html": [
       "<div>\n",
       "<style scoped>\n",
       "    .dataframe tbody tr th:only-of-type {\n",
       "        vertical-align: middle;\n",
       "    }\n",
       "\n",
       "    .dataframe tbody tr th {\n",
       "        vertical-align: top;\n",
       "    }\n",
       "\n",
       "    .dataframe thead th {\n",
       "        text-align: right;\n",
       "    }\n",
       "</style>\n",
       "<table border=\"1\" class=\"dataframe\">\n",
       "  <thead>\n",
       "    <tr style=\"text-align: right;\">\n",
       "      <th></th>\n",
       "      <th>geometry</th>\n",
       "      <th>value1</th>\n",
       "      <th>value2</th>\n",
       "    </tr>\n",
       "  </thead>\n",
       "  <tbody>\n",
       "    <tr>\n",
       "      <th>0</th>\n",
       "      <td>POINT (913175.000 120121.000)</td>\n",
       "      <td>1033296</td>\n",
       "      <td>793054</td>\n",
       "    </tr>\n",
       "    <tr>\n",
       "      <th>1</th>\n",
       "      <td>POINT (932450.000 139211.000)</td>\n",
       "      <td>1071661</td>\n",
       "      <td>793239</td>\n",
       "    </tr>\n",
       "    <tr>\n",
       "      <th>2</th>\n",
       "      <td>POINT (951725.000 158301.000)</td>\n",
       "      <td>1110026</td>\n",
       "      <td>793424</td>\n",
       "    </tr>\n",
       "    <tr>\n",
       "      <th>3</th>\n",
       "      <td>POINT (971000.000 177391.000)</td>\n",
       "      <td>1148391</td>\n",
       "      <td>793609</td>\n",
       "    </tr>\n",
       "    <tr>\n",
       "      <th>4</th>\n",
       "      <td>POINT (990275.000 196481.000)</td>\n",
       "      <td>1186756</td>\n",
       "      <td>793794</td>\n",
       "    </tr>\n",
       "    <tr>\n",
       "      <th>5</th>\n",
       "      <td>POINT (1009550.000 215571.000)</td>\n",
       "      <td>1225121</td>\n",
       "      <td>793979</td>\n",
       "    </tr>\n",
       "    <tr>\n",
       "      <th>6</th>\n",
       "      <td>POINT (1028825.000 234661.000)</td>\n",
       "      <td>1263486</td>\n",
       "      <td>794164</td>\n",
       "    </tr>\n",
       "    <tr>\n",
       "      <th>7</th>\n",
       "      <td>POINT (1048100.000 253751.000)</td>\n",
       "      <td>1301851</td>\n",
       "      <td>794349</td>\n",
       "    </tr>\n",
       "    <tr>\n",
       "      <th>8</th>\n",
       "      <td>POINT (1067375.000 272841.000)</td>\n",
       "      <td>1340216</td>\n",
       "      <td>794534</td>\n",
       "    </tr>\n",
       "  </tbody>\n",
       "</table>\n",
       "</div>"
      ],
      "text/plain": [
       "                         geometry   value1  value2\n",
       "0   POINT (913175.000 120121.000)  1033296  793054\n",
       "1   POINT (932450.000 139211.000)  1071661  793239\n",
       "2   POINT (951725.000 158301.000)  1110026  793424\n",
       "3   POINT (971000.000 177391.000)  1148391  793609\n",
       "4   POINT (990275.000 196481.000)  1186756  793794\n",
       "5  POINT (1009550.000 215571.000)  1225121  793979\n",
       "6  POINT (1028825.000 234661.000)  1263486  794164\n",
       "7  POINT (1048100.000 253751.000)  1301851  794349\n",
       "8  POINT (1067375.000 272841.000)  1340216  794534"
      ]
     },
     "execution_count": 4,
     "metadata": {},
     "output_type": "execute_result"
    }
   ],
   "source": [
    "pois_df.crs = neighborhoods_df.crs\n",
    "pois_df"
   ]
  },
  {
   "cell_type": "code",
   "execution_count": 12,
   "id": "3e6fcece",
   "metadata": {},
   "outputs": [
    {
     "data": {
      "text/plain": [
       "(905464.6245788574, 1075092.8838439942, 112484.83531799316, 280480.45832214353)"
      ]
     },
     "execution_count": 12,
     "metadata": {},
     "output_type": "execute_result"
    },
    {
     "data": {
      "image/png": "[encoded data removed]",
      "text/plain": [
       "<Figure size 432x288 with 1 Axes>"
      ]
     },
     "metadata": {
      "needs_background": "light"
     },
     "output_type": "display_data"
    }
   ],
   "source": [
    "import matplotlib.pyplot as plt\n",
    "fig, ax = plt.subplots()\n",
    "neighborhoods_df.plot(ax=ax, facecolor='green')\n",
    "pois_df.plot(ax=ax, color='blue');\n",
    "ax.axis('off')"
   ]
  },
  {
   "cell_type": "markdown",
   "id": "20b8f33e",
   "metadata": {},
   "source": [
    "Now we can create the spatial join between points and polygons based of their topological relationships. Between points and polygons two relationships are valid: $within$ and $contain$. We can add the information about the neighborhood where the POIs are located to the POIs dataset."
   ]
  },
  {
   "cell_type": "code",
   "execution_count": 5,
   "id": "cbdacce9",
   "metadata": {},
   "outputs": [
    {
     "data": {
      "text/html": [
       "<div>\n",
       "<style scoped>\n",
       "    .dataframe tbody tr th:only-of-type {\n",
       "        vertical-align: middle;\n",
       "    }\n",
       "\n",
       "    .dataframe tbody tr th {\n",
       "        vertical-align: top;\n",
       "    }\n",
       "\n",
       "    .dataframe thead th {\n",
       "        text-align: right;\n",
       "    }\n",
       "</style>\n",
       "<table border=\"1\" class=\"dataframe\">\n",
       "  <thead>\n",
       "    <tr style=\"text-align: right;\">\n",
       "      <th></th>\n",
       "      <th>geometry</th>\n",
       "      <th>value1</th>\n",
       "      <th>value2</th>\n",
       "      <th>BoroCode</th>\n",
       "      <th>BoroName</th>\n",
       "    </tr>\n",
       "  </thead>\n",
       "  <tbody>\n",
       "    <tr>\n",
       "      <th>1</th>\n",
       "      <td>POINT (932450.000 139211.000)</td>\n",
       "      <td>1071661</td>\n",
       "      <td>793239</td>\n",
       "      <td>5</td>\n",
       "      <td>Staten Island</td>\n",
       "    </tr>\n",
       "    <tr>\n",
       "      <th>2</th>\n",
       "      <td>POINT (951725.000 158301.000)</td>\n",
       "      <td>1110026</td>\n",
       "      <td>793424</td>\n",
       "      <td>5</td>\n",
       "      <td>Staten Island</td>\n",
       "    </tr>\n",
       "    <tr>\n",
       "      <th>5</th>\n",
       "      <td>POINT (1009550.000 215571.000)</td>\n",
       "      <td>1225121</td>\n",
       "      <td>793979</td>\n",
       "      <td>4</td>\n",
       "      <td>Queens</td>\n",
       "    </tr>\n",
       "    <tr>\n",
       "      <th>6</th>\n",
       "      <td>POINT (1028825.000 234661.000)</td>\n",
       "      <td>1263486</td>\n",
       "      <td>794164</td>\n",
       "      <td>2</td>\n",
       "      <td>Bronx</td>\n",
       "    </tr>\n",
       "  </tbody>\n",
       "</table>\n",
       "</div>"
      ],
      "text/plain": [
       "                         geometry   value1  value2  BoroCode       BoroName\n",
       "1   POINT (932450.000 139211.000)  1071661  793239         5  Staten Island\n",
       "2   POINT (951725.000 158301.000)  1110026  793424         5  Staten Island\n",
       "5  POINT (1009550.000 215571.000)  1225121  793979         4         Queens\n",
       "6  POINT (1028825.000 234661.000)  1263486  794164         2          Bronx"
      ]
     },
     "execution_count": 5,
     "metadata": {},
     "output_type": "execute_result"
    }
   ],
   "source": [
    "join_inner_df = pois_df.sjoin(neighborhoods_df, how=\"inner\")[['geometry', 'value1', 'value2','BoroCode', 'BoroName']]\n",
    "join_inner_df"
   ]
  },
  {
   "cell_type": "code",
   "execution_count": 11,
   "id": "21faeb04",
   "metadata": {},
   "outputs": [
    {
     "data": {
      "text/plain": [
       "(905464.7390380859, 1075092.8783935546, 112485.76063504723, 280480.4142594267)"
      ]
     },
     "execution_count": 11,
     "metadata": {},
     "output_type": "execute_result"
    },
    {
     "data": {
      "image/png": "[encoded data removed]",
      "text/plain": [
       "<Figure size 432x288 with 1 Axes>"
      ]
     },
     "metadata": {
      "needs_background": "light"
     },
     "output_type": "display_data"
    }
   ],
   "source": [
    "fig, ax = plt.subplots()\n",
    "neighborhoods_df.plot(ax=ax, facecolor='green')\n",
    "join_inner_df.plot(ax=ax, color='blue');\n",
    "ax.axis('off')"
   ]
  },
  {
   "cell_type": "markdown",
   "id": "948bd907",
   "metadata": {},
   "source": [
    "## References\n",
    "* [Intro to Python GIS](https://automating-gis-processes.github.io/CSC18/lessons/L4/spatial-join.html)\n",
    "* [GeoPandas - Spatial Joins](https://geopandas.org/en/stable/gallery/spatial_joins.html)"
   ]
  },
  {
   "cell_type": "code",
   "execution_count": null,
   "id": "4e7ec529",
   "metadata": {},
   "outputs": [],
   "source": []
  }
 ],
 "metadata": {
  "kernelspec": {
   "display_name": "Python 3 (ipykernel)",
   "language": "python",
   "name": "python3"
  },
  "language_info": {
   "codemirror_mode": {
    "name": "ipython",
    "version": 3
   },
   "file_extension": ".py",
   "mimetype": "text/x-python",
   "name": "python",
   "nbconvert_exporter": "python",
   "pygments_lexer": "ipython3",
   "version": "3.9.13"
  }
 },
 "nbformat": 4,
 "nbformat_minor": 5
}
