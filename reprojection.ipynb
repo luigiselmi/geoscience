{
 "cells": [
  {
   "cell_type": "markdown",
   "id": "ea689d6b",
   "metadata": {},
   "source": [
    "# Reprojection \n",
    "In this example we will create GeoDataFrames using an unprojected reference system WGS84 [EPSG:4326](https://epsg.io/4326)  adding some points and polygons, then we will change the CRS into a WGS84 Transverse Mercator coordinate reference system [EPSG:32632](https://epsg.io/32632), and finally we change again the CRS using [EPSG:3035](https://epsg.io/3035), another projected reference system with a different datum and projection."
   ]
  },
  {
   "cell_type": "code",
   "execution_count": 320,
   "id": "67cb4d78",
   "metadata": {},
   "outputs": [],
   "source": [
    "import geopandas as gpd\n",
    "from shapely.geometry import Point, LineString, Polygon\n",
    "import matplotlib.pyplot as plt"
   ]
  },
  {
   "cell_type": "markdown",
   "id": "4247795b",
   "metadata": {},
   "source": [
    "## Points and Polygons\n",
    "We create some points of (latitude, longitude) coordinate pairs and polygons using the unprojected coordinate system WGS84 ([EPSG:4326](https://epsg.io/4326)). The polygons will have different spatial relationships among them.  "
   ]
  },
  {
   "cell_type": "code",
   "execution_count": 321,
   "id": "e4c9c69e",
   "metadata": {},
   "outputs": [],
   "source": [
    "ancona = Point(13.516759030178973, 43.616981322253174)\n",
    "corinaldo = Point(13.049195930621709, 43.648832985051826)\n",
    "pergola = Point(12.836472564469215, 43.56165937486001)\n",
    "fabriano = Point(12.904426736174587, 43.333135653018644)\n",
    "camerino = Point(13.069720952624685, 43.13575640876881)\n",
    "tolentino = Point(13.285526127229707, 43.20802624129122)\n",
    "civitanova = Point(13.730063928797744, 43.30743501558867)"
   ]
  },
  {
   "cell_type": "markdown",
   "id": "f5564662",
   "metadata": {},
   "source": [
    "We create a geodataframe by setting the geometry of each record and the coordnate reference system"
   ]
  },
  {
   "cell_type": "code",
   "execution_count": 322,
   "id": "b907f7f4",
   "metadata": {},
   "outputs": [
    {
     "data": {
      "text/plain": [
       "<Geographic 2D CRS: EPSG:4326>\n",
       "Name: WGS 84\n",
       "Axis Info [ellipsoidal]:\n",
       "- Lat[north]: Geodetic latitude (degree)\n",
       "- Lon[east]: Geodetic longitude (degree)\n",
       "Area of Use:\n",
       "- name: World.\n",
       "- bounds: (-180.0, -90.0, 180.0, 90.0)\n",
       "Datum: World Geodetic System 1984 ensemble\n",
       "- Ellipsoid: WGS 84\n",
       "- Prime Meridian: Greenwich"
      ]
     },
     "execution_count": 322,
     "metadata": {},
     "output_type": "execute_result"
    }
   ],
   "source": [
    "names = ['Ancona', 'Corinaldo', 'Pergola', 'Fabriano', 'Camerino', 'Tolentino', 'Civitanova']\n",
    "geometries = [ancona, corinaldo, pergola, fabriano, camerino, tolentino, civitanova]\n",
    "places = {'Place': names, 'geometry': geometries}\n",
    "\n",
    "places_gdf = gpd.GeoDataFrame(places, crs=\"EPSG:4326\")\n",
    "places_gdf.crs"
   ]
  },
  {
   "cell_type": "code",
   "execution_count": 323,
   "id": "76541ccd",
   "metadata": {},
   "outputs": [
    {
     "data": {
      "text/html": [
       "<div>\n",
       "<style scoped>\n",
       "    .dataframe tbody tr th:only-of-type {\n",
       "        vertical-align: middle;\n",
       "    }\n",
       "\n",
       "    .dataframe tbody tr th {\n",
       "        vertical-align: top;\n",
       "    }\n",
       "\n",
       "    .dataframe thead th {\n",
       "        text-align: right;\n",
       "    }\n",
       "</style>\n",
       "<table border=\"1\" class=\"dataframe\">\n",
       "  <thead>\n",
       "    <tr style=\"text-align: right;\">\n",
       "      <th></th>\n",
       "      <th>Place</th>\n",
       "      <th>geometry</th>\n",
       "    </tr>\n",
       "  </thead>\n",
       "  <tbody>\n",
       "    <tr>\n",
       "      <th>0</th>\n",
       "      <td>Ancona</td>\n",
       "      <td>POINT (13.51676 43.61698)</td>\n",
       "    </tr>\n",
       "    <tr>\n",
       "      <th>1</th>\n",
       "      <td>Corinaldo</td>\n",
       "      <td>POINT (13.04920 43.64883)</td>\n",
       "    </tr>\n",
       "    <tr>\n",
       "      <th>2</th>\n",
       "      <td>Pergola</td>\n",
       "      <td>POINT (12.83647 43.56166)</td>\n",
       "    </tr>\n",
       "    <tr>\n",
       "      <th>3</th>\n",
       "      <td>Fabriano</td>\n",
       "      <td>POINT (12.90443 43.33314)</td>\n",
       "    </tr>\n",
       "    <tr>\n",
       "      <th>4</th>\n",
       "      <td>Camerino</td>\n",
       "      <td>POINT (13.06972 43.13576)</td>\n",
       "    </tr>\n",
       "    <tr>\n",
       "      <th>5</th>\n",
       "      <td>Tolentino</td>\n",
       "      <td>POINT (13.28553 43.20803)</td>\n",
       "    </tr>\n",
       "    <tr>\n",
       "      <th>6</th>\n",
       "      <td>Civitanova</td>\n",
       "      <td>POINT (13.73006 43.30744)</td>\n",
       "    </tr>\n",
       "  </tbody>\n",
       "</table>\n",
       "</div>"
      ],
      "text/plain": [
       "        Place                   geometry\n",
       "0      Ancona  POINT (13.51676 43.61698)\n",
       "1   Corinaldo  POINT (13.04920 43.64883)\n",
       "2     Pergola  POINT (12.83647 43.56166)\n",
       "3    Fabriano  POINT (12.90443 43.33314)\n",
       "4    Camerino  POINT (13.06972 43.13576)\n",
       "5   Tolentino  POINT (13.28553 43.20803)\n",
       "6  Civitanova  POINT (13.73006 43.30744)"
      ]
     },
     "execution_count": 323,
     "metadata": {},
     "output_type": "execute_result"
    }
   ],
   "source": [
    "places_gdf"
   ]
  },
  {
   "cell_type": "code",
   "execution_count": 324,
   "id": "4ce27131",
   "metadata": {},
   "outputs": [
    {
     "data": {
      "text/plain": [
       "<AxesSubplot:>"
      ]
     },
     "execution_count": 324,
     "metadata": {},
     "output_type": "execute_result"
    },
    {
     "data": {
      "image/png": "[encoded data removed]",
      "text/plain": [
       "<Figure size 720x360 with 1 Axes>"
      ]
     },
     "metadata": {
      "needs_background": "light"
     },
     "output_type": "display_data"
    }
   ],
   "source": [
    "fig, ax = plt.subplots(1, figsize=(10, 5))\n",
    "places_gdf.plot(ax=ax)"
   ]
  },
  {
   "cell_type": "markdown",
   "id": "f5696f17",
   "metadata": {},
   "source": [
    "We create a polygon from the points that have been defined and a geo dataframe using the same WGS84 coordinate reference system. A polygon starts and ends with the same point."
   ]
  },
  {
   "cell_type": "code",
   "execution_count": 325,
   "id": "ea95a2dd",
   "metadata": {},
   "outputs": [],
   "source": [
    "geometries.append(ancona)\n",
    "places_poligon = Polygon(geometries)\n",
    "blue_polygon = {'Polygon': 'Blue Polygon', 'geometry': places_poligon}\n",
    "blue_polygon_df = gpd.GeoDataFrame(blue_polygon, crs =\"EPSG:4326\", index=range(0,1))"
   ]
  },
  {
   "cell_type": "code",
   "execution_count": 326,
   "id": "69be8f6b",
   "metadata": {},
   "outputs": [
    {
     "data": {
      "text/plain": [
       "<AxesSubplot:>"
      ]
     },
     "execution_count": 326,
     "metadata": {},
     "output_type": "execute_result"
    },
    {
     "data": {
      "image/png": "[encoded data removed]",
      "text/plain": [
       "<Figure size 720x360 with 1 Axes>"
      ]
     },
     "metadata": {
      "needs_background": "light"
     },
     "output_type": "display_data"
    }
   ],
   "source": [
    "fig, ax = plt.subplots(1, figsize=(10, 5))\n",
    "blue_polygon_df.plot(ax=ax)"
   ]
  },
  {
   "cell_type": "markdown",
   "id": "a05243ce",
   "metadata": {},
   "source": [
    "We create a 2nd polygon that lies within the 1st one"
   ]
  },
  {
   "cell_type": "code",
   "execution_count": 327,
   "id": "7d4c808a",
   "metadata": {},
   "outputs": [],
   "source": [
    "pollenza = Point(13.348327008723794, 43.267747099681664)\n",
    "macerata = Point(13.453648702662996, 43.29998523010854)\n",
    "recanati = Point(13.549725428303592, 43.402275676832225)\n",
    "cingoli = Point(13.215093036131329, 43.3753164922384)\n",
    "\n",
    "names = ['Pollenza', 'Macerata', 'Recanati', 'Cingoli']\n",
    "geometries = [pollenza, macerata, recanati, cingoli]\n",
    "places = {'Place': names, 'geometry': geometries}\n",
    "\n",
    "places2_gdf = gpd.GeoDataFrame(places, crs=\"EPSG:4326\")"
   ]
  },
  {
   "cell_type": "code",
   "execution_count": 328,
   "id": "002fc2bb",
   "metadata": {},
   "outputs": [],
   "source": [
    "geometries.append(pollenza) \n",
    "places_poligon = Polygon(geometries)\n",
    "orange_polygon = {'Polygon': 'Orange Polygon', 'geometry': places_poligon}\n",
    "orange_polygon_df = gpd.GeoDataFrame(orange_polygon, crs ='EPSG:4326', index=range(0,1))"
   ]
  },
  {
   "cell_type": "code",
   "execution_count": 329,
   "id": "f08d08d8",
   "metadata": {},
   "outputs": [
    {
     "data": {
      "text/plain": [
       "<AxesSubplot:>"
      ]
     },
     "execution_count": 329,
     "metadata": {},
     "output_type": "execute_result"
    },
    {
     "data": {
      "image/png": "[encoded data removed]",
      "text/plain": [
       "<Figure size 720x360 with 1 Axes>"
      ]
     },
     "metadata": {
      "needs_background": "light"
     },
     "output_type": "display_data"
    }
   ],
   "source": [
    "fig, ax = plt.subplots(1, figsize=(10, 5))\n",
    "blue_polygon_df.plot(ax=ax)\n",
    "orange_polygon_df.plot(ax=ax, color='orange')"
   ]
  },
  {
   "cell_type": "markdown",
   "id": "64bb495d",
   "metadata": {},
   "source": [
    "A 3rd polygon intersects the 1st one and touches the 2nd one"
   ]
  },
  {
   "cell_type": "code",
   "execution_count": 330,
   "id": "f18e0a1e",
   "metadata": {},
   "outputs": [],
   "source": [
    "assisi = Point(12.614701534142005, 43.07119190994771)\n",
    "foligno = Point(12.703168606899375, 42.9562108203491)\n",
    "\n",
    "names = ['Assisi', 'Foligno', 'Cingoli']\n",
    "geometries = [assisi, foligno, cingoli]\n",
    "places = {'Place': names, 'geometry': geometries}\n",
    "\n",
    "geometries.append(assisi)\n",
    "places_polygon = Polygon(geometries)\n",
    "red_polygon = {'Polygon': 'Red Polygon', 'geometry': places_polygon}\n",
    "red_polygon_df = gpd.GeoDataFrame(red_polygon, crs ='EPSG:4326', index=range(0,1))"
   ]
  },
  {
   "cell_type": "markdown",
   "id": "a3f0739e",
   "metadata": {},
   "source": [
    "The green polygon will not have any relationship with the other polygons, i.e. all the spatial relationships between the green polygon an the other polygon will be false."
   ]
  },
  {
   "cell_type": "code",
   "execution_count": 331,
   "id": "628d8914",
   "metadata": {},
   "outputs": [],
   "source": [
    "#ascoli = Point(13.575433954979674, 42.853814381937084)\n",
    "#sanbenedetto = Point(13.877999980019567, 42.95218639154696)\n",
    "montalto = Point(13.60881384827591, 42.98873215474887)\n",
    "fermo = Point(13.717626058195096, 43.16110296285725)\n",
    "gualdo = Point(13.338057750138939, 43.067169218394255)\n",
    "\n",
    "names = ['Montalto delle Marche', 'Fermo', 'Gualdo']\n",
    "geometries = [montalto, fermo, gualdo]\n",
    "places = {'Place': names, 'geometry': geometries}\n",
    "\n",
    "geometries.append(montalto)\n",
    "places_poligon = Polygon(geometries)\n",
    "green_polygon = {'Polygon': 'Green Polygon', 'geometry': places_poligon}\n",
    "green_polygon_df = gpd.GeoDataFrame(green_polygon, crs ='EPSG:4326', index=range(0,1))"
   ]
  },
  {
   "cell_type": "markdown",
   "id": "f19622ee",
   "metadata": {},
   "source": [
    "We create a collection with the red, green and orange polygons."
   ]
  },
  {
   "cell_type": "code",
   "execution_count": 341,
   "id": "5a5ecfa0",
   "metadata": {},
   "outputs": [
    {
     "name": "stderr",
     "output_type": "stream",
     "text": [
      "C:\\Users\\Luigi\\Anaconda3\\envs\\wekeo\\lib\\site-packages\\geopandas\\base.py:31: UserWarning: The indices of the two GeoSeries are different.\n",
      "  warn(\"The indices of the two GeoSeries are different.\")\n"
     ]
    },
    {
     "data": {
      "text/plain": [
       "0     True\n",
       "1    False\n",
       "2    False\n",
       "dtype: bool"
      ]
     },
     "execution_count": 341,
     "metadata": {},
     "output_type": "execute_result"
    }
   ],
   "source": [
    "rgo_polygons = [red_polygon, orange_polygon, green_polygon]\n",
    "rgo_polygons_df = gpd.GeoDataFrame(rgo_polygons, crs='EPSG:4326', index=range(0, 3))\n",
    "rgo_polygons_df.intersects(blue_polygon_df)"
   ]
  },
  {
   "cell_type": "code",
   "execution_count": 289,
   "id": "c6a3415c",
   "metadata": {},
   "outputs": [
    {
     "data": {
      "text/plain": [
       "<AxesSubplot:>"
      ]
     },
     "execution_count": 289,
     "metadata": {},
     "output_type": "execute_result"
    },
    {
     "data": {
      "image/png": "[encoded data removed]",
      "text/plain": [
       "<Figure size 720x360 with 1 Axes>"
      ]
     },
     "metadata": {
      "needs_background": "light"
     },
     "output_type": "display_data"
    }
   ],
   "source": [
    "fig, ax = plt.subplots(1, figsize=(10, 5))\n",
    "blue_polygon_df.plot(ax=ax)\n",
    "orange_polygon_df.plot(ax=ax, color='orange')\n",
    "red_polygon_df.plot(ax=ax, color='red')\n",
    "green_polygon_df.plot(ax=ax, color='green')"
   ]
  },
  {
   "cell_type": "markdown",
   "id": "8eb729b3",
   "metadata": {},
   "source": [
    "## Spatial relationship\n",
    "We apply the topological operators within, intersects and touch, between the polygons that we have defined. We will apply the topological operators to pairs of polygons from two different geodataframes. The operators take one operand from a row of the 1st dataframe and the second operand from the corresponding row of the other geodataframe.  \n",
    "\n",
    "### within\n",
    "From the [operator definition](https://geopandas.org/en/stable/docs/reference/api/geopandas.GeoSeries.within.html) in Geopandas: \"An object is said to be within another if at least one of its points is located in the interior and no points are located in the exterior of the other.\""
   ]
  },
  {
   "cell_type": "code",
   "execution_count": 290,
   "id": "d77ef885",
   "metadata": {},
   "outputs": [
    {
     "data": {
      "text/plain": [
       "0    True\n",
       "dtype: bool"
      ]
     },
     "execution_count": 290,
     "metadata": {},
     "output_type": "execute_result"
    }
   ],
   "source": [
    "orange_polygon_df.within(blue_polygon_df)"
   ]
  },
  {
   "cell_type": "code",
   "execution_count": 291,
   "id": "f4dd0c7f",
   "metadata": {},
   "outputs": [
    {
     "data": {
      "text/plain": [
       "0    False\n",
       "dtype: bool"
      ]
     },
     "execution_count": 291,
     "metadata": {},
     "output_type": "execute_result"
    }
   ],
   "source": [
    "red_polygon_df.within(blue_poligon_df)"
   ]
  },
  {
   "cell_type": "code",
   "execution_count": 292,
   "id": "b2e31569",
   "metadata": {},
   "outputs": [],
   "source": [
    "def withinBlue(geom):\n",
    "    #print(geom)\n",
    "    return geom.within(blue_poligon_df)"
   ]
  },
  {
   "cell_type": "code",
   "execution_count": 293,
   "id": "bd62c404",
   "metadata": {},
   "outputs": [
    {
     "ename": "IndentationError",
     "evalue": "unexpected indent (3779094812.py, line 2)",
     "output_type": "error",
     "traceback": [
      "\u001b[1;36m  Input \u001b[1;32mIn [293]\u001b[1;36m\u001b[0m\n\u001b[1;33m    blue_poligon_df.intersects(rgo_polygons_df.loc[i])\u001b[0m\n\u001b[1;37m    ^\u001b[0m\n\u001b[1;31mIndentationError\u001b[0m\u001b[1;31m:\u001b[0m unexpected indent\n"
     ]
    }
   ],
   "source": [
    "#for i in range(0, len(rgo_polygons_df)):\n",
    "    blue_poligon_df.intersects(rgo_polygons_df.loc[i])"
   ]
  },
  {
   "cell_type": "code",
   "execution_count": 294,
   "id": "0f01c071",
   "metadata": {},
   "outputs": [
    {
     "data": {
      "text/html": [
       "<div>\n",
       "<style scoped>\n",
       "    .dataframe tbody tr th:only-of-type {\n",
       "        vertical-align: middle;\n",
       "    }\n",
       "\n",
       "    .dataframe tbody tr th {\n",
       "        vertical-align: top;\n",
       "    }\n",
       "\n",
       "    .dataframe thead th {\n",
       "        text-align: right;\n",
       "    }\n",
       "</style>\n",
       "<table border=\"1\" class=\"dataframe\">\n",
       "  <thead>\n",
       "    <tr style=\"text-align: right;\">\n",
       "      <th></th>\n",
       "      <th>Polygon</th>\n",
       "      <th>geometry</th>\n",
       "    </tr>\n",
       "  </thead>\n",
       "  <tbody>\n",
       "    <tr>\n",
       "      <th>0</th>\n",
       "      <td>Red Polygon</td>\n",
       "      <td>POLYGON ((12.61470 43.07119, 12.70317 42.95621...</td>\n",
       "    </tr>\n",
       "    <tr>\n",
       "      <th>1</th>\n",
       "      <td>Orange Polygon</td>\n",
       "      <td>POLYGON ((13.34833 43.26775, 13.45365 43.29999...</td>\n",
       "    </tr>\n",
       "    <tr>\n",
       "      <th>2</th>\n",
       "      <td>Green Polygon</td>\n",
       "      <td>POLYGON ((13.60881 42.98873, 13.71763 43.16110...</td>\n",
       "    </tr>\n",
       "  </tbody>\n",
       "</table>\n",
       "</div>"
      ],
      "text/plain": [
       "          Polygon                                           geometry\n",
       "0     Red Polygon  POLYGON ((12.61470 43.07119, 12.70317 42.95621...\n",
       "1  Orange Polygon  POLYGON ((13.34833 43.26775, 13.45365 43.29999...\n",
       "2   Green Polygon  POLYGON ((13.60881 42.98873, 13.71763 43.16110..."
      ]
     },
     "execution_count": 294,
     "metadata": {},
     "output_type": "execute_result"
    }
   ],
   "source": [
    "rgo_polygons_df"
   ]
  },
  {
   "cell_type": "code",
   "execution_count": 298,
   "id": "fc206311",
   "metadata": {},
   "outputs": [
    {
     "name": "stderr",
     "output_type": "stream",
     "text": [
      "C:\\Users\\Luigi\\Anaconda3\\envs\\wekeo\\lib\\site-packages\\geopandas\\base.py:31: UserWarning: The indices of the two GeoSeries are different.\n",
      "  warn(\"The indices of the two GeoSeries are different.\")\n"
     ]
    },
    {
     "data": {
      "text/plain": [
       "0     True\n",
       "1    False\n",
       "2    False\n",
       "dtype: bool"
      ]
     },
     "execution_count": 298,
     "metadata": {},
     "output_type": "execute_result"
    }
   ],
   "source": [
    "rgo_polygons_df.intersects(blue_polygon_df)"
   ]
  },
  {
   "cell_type": "markdown",
   "id": "95f6a786",
   "metadata": {},
   "source": [
    "### intersects\n",
    "From the [operator definition](https://geopandas.org/en/stable/docs/reference/api/geopandas.GeoSeries.intersects.html) in GeoPandas: \"An object is said to intersect another if its boundary and interior intersects in any way with those of the other.\""
   ]
  },
  {
   "cell_type": "code",
   "execution_count": 16,
   "id": "4cadf22f",
   "metadata": {},
   "outputs": [
    {
     "data": {
      "text/plain": [
       "0    True\n",
       "dtype: bool"
      ]
     },
     "execution_count": 16,
     "metadata": {},
     "output_type": "execute_result"
    }
   ],
   "source": [
    "orange_polygon_df.intersects(blue_poligon_df)"
   ]
  },
  {
   "cell_type": "code",
   "execution_count": 17,
   "id": "c5e70dea",
   "metadata": {},
   "outputs": [
    {
     "data": {
      "text/plain": [
       "0    True\n",
       "dtype: bool"
      ]
     },
     "execution_count": 17,
     "metadata": {},
     "output_type": "execute_result"
    }
   ],
   "source": [
    "red_polygon_df.intersects(blue_poligon_df)"
   ]
  },
  {
   "cell_type": "code",
   "execution_count": 18,
   "id": "6f487f7f",
   "metadata": {},
   "outputs": [
    {
     "data": {
      "text/plain": [
       "0    True\n",
       "dtype: bool"
      ]
     },
     "execution_count": 18,
     "metadata": {},
     "output_type": "execute_result"
    }
   ],
   "source": [
    "red_polygon_df.intersects(orange_polygon_df)"
   ]
  },
  {
   "cell_type": "markdown",
   "id": "f76fb4b2",
   "metadata": {},
   "source": [
    "### touches\n",
    "From the [operator definition](https://geopandas.org/en/stable/docs/reference/api/geopandas.GeoSeries.touches.html): \"An object is said to touch another if it has at least one point in common with other and its interior does not intersect with any part of the other. Overlapping features therefore do not touch.\" "
   ]
  },
  {
   "cell_type": "code",
   "execution_count": 19,
   "id": "ee75558b",
   "metadata": {},
   "outputs": [
    {
     "data": {
      "text/plain": [
       "0    False\n",
       "dtype: bool"
      ]
     },
     "execution_count": 19,
     "metadata": {},
     "output_type": "execute_result"
    }
   ],
   "source": [
    "orange_polygon_df.touches(blue_poligon_df)"
   ]
  },
  {
   "cell_type": "code",
   "execution_count": 20,
   "id": "a9cbc020",
   "metadata": {},
   "outputs": [
    {
     "data": {
      "text/plain": [
       "0    False\n",
       "dtype: bool"
      ]
     },
     "execution_count": 20,
     "metadata": {},
     "output_type": "execute_result"
    }
   ],
   "source": [
    "red_polygon_df.touches(blue_poligon_df)"
   ]
  },
  {
   "cell_type": "code",
   "execution_count": 21,
   "id": "eb67a8ad",
   "metadata": {},
   "outputs": [
    {
     "data": {
      "text/plain": [
       "0    True\n",
       "dtype: bool"
      ]
     },
     "execution_count": 21,
     "metadata": {},
     "output_type": "execute_result"
    }
   ],
   "source": [
    "red_polygon_df.touches(orange_polygon_df)"
   ]
  },
  {
   "cell_type": "markdown",
   "id": "33f4c9ea",
   "metadata": {},
   "source": [
    "## Projections\n",
    "Now we change the CRS to project the coordinates of the points and polygons onto a plane. We use the Transverse Mercato projection. We will replace the unprojected EPSG:4362 CRS that we have used so far to the EPSG:32632 CRS that uses the same datum and also a Transverse Mercator projection. The coordinate will be in meters instead of degrees. We reproject all the three polygons."
   ]
  },
  {
   "cell_type": "code",
   "execution_count": 147,
   "id": "7f85aec0",
   "metadata": {},
   "outputs": [
    {
     "data": {
      "text/plain": [
       "<Derived Projected CRS: EPSG:32632>\n",
       "Name: WGS 84 / UTM zone 32N\n",
       "Axis Info [cartesian]:\n",
       "- E[east]: Easting (metre)\n",
       "- N[north]: Northing (metre)\n",
       "Area of Use:\n",
       "- name: Between 6°E and 12°E, northern hemisphere between equator and 84°N, onshore and offshore. Algeria. Austria. Cameroon. Denmark. Equatorial Guinea. France. Gabon. Germany. Italy. Libya. Liechtenstein. Monaco. Netherlands. Niger. Nigeria. Norway. Sao Tome and Principe. Svalbard. Sweden. Switzerland. Tunisia. Vatican City State.\n",
       "- bounds: (6.0, 0.0, 12.0, 84.0)\n",
       "Coordinate Operation:\n",
       "- name: UTM zone 32N\n",
       "- method: Transverse Mercator\n",
       "Datum: World Geodetic System 1984 ensemble\n",
       "- Ellipsoid: WGS 84\n",
       "- Prime Meridian: Greenwich"
      ]
     },
     "execution_count": 147,
     "metadata": {},
     "output_type": "execute_result"
    }
   ],
   "source": [
    "blue_poligon_df_epsg32632 = blue_poligon_df.copy()\n",
    "blue_poligon_df_epsg32632.to_crs(epsg=32632, inplace=True)\n",
    "blue_poligon_df_epsg32632.crs"
   ]
  },
  {
   "cell_type": "markdown",
   "id": "212adaca",
   "metadata": {},
   "source": [
    "Let's print the coordinates of one polygon in the EPSG:32362 CRS"
   ]
  },
  {
   "cell_type": "code",
   "execution_count": 148,
   "id": "c9eb6343",
   "metadata": {},
   "outputs": [
    {
     "data": {
      "text/plain": [
       "'POLYGON ((864467.1631816258 4839253.906581106, 826562.4360335513 4840842.432184465, 809853.1380987542 4830343.608222753, 816533.230693284 4805217.116145946, 831003.4436524143 4783935.166874516, 848146.0962037805 4792838.988502411, 883638.0862401193 4805830.531473042, 864467.1631816258 4839253.906581106))'"
      ]
     },
     "execution_count": 148,
     "metadata": {},
     "output_type": "execute_result"
    }
   ],
   "source": [
    "str(blue_poligon_df_epsg32632.loc[0]['geometry'])"
   ]
  },
  {
   "cell_type": "code",
   "execution_count": 149,
   "id": "f9e1c19b",
   "metadata": {},
   "outputs": [],
   "source": [
    "orange_polygon_df_epsg32632 = orange_polygon_df.copy()\n",
    "orange_polygon_df_epsg32632.to_crs(epsg=32632, inplace=True)"
   ]
  },
  {
   "cell_type": "code",
   "execution_count": 150,
   "id": "3b3cc37c",
   "metadata": {},
   "outputs": [],
   "source": [
    "red_polygon_df_epsg32632 = red_polygon_df.copy()\n",
    "red_polygon_df_epsg32632.to_crs(epsg=32632, inplace=True)"
   ]
  },
  {
   "cell_type": "code",
   "execution_count": 151,
   "id": "80043855",
   "metadata": {},
   "outputs": [],
   "source": [
    "green_polygon_df_epsg32632 = green_polygon_df.copy()\n",
    "green_polygon_df_epsg32632.to_crs(epsg=32632, inplace=True)"
   ]
  },
  {
   "cell_type": "markdown",
   "id": "c52f99b2",
   "metadata": {},
   "source": [
    "## Spatial relationship using a projected coordinate reference system\n",
    "We use the topological operators to see whether the spatial relationships between the polygons still hold true after the change of the CRS. As we can see all of them are still valid.\n",
    "\n",
    "### From EPSG:4326 to EPSG:32632"
   ]
  },
  {
   "cell_type": "markdown",
   "id": "cdeb51b9",
   "metadata": {},
   "source": [
    "### within"
   ]
  },
  {
   "cell_type": "code",
   "execution_count": 152,
   "id": "93fac020",
   "metadata": {},
   "outputs": [
    {
     "data": {
      "text/plain": [
       "0    True\n",
       "dtype: bool"
      ]
     },
     "execution_count": 152,
     "metadata": {},
     "output_type": "execute_result"
    }
   ],
   "source": [
    "orange_polygon_df_epsg32632.within(blue_poligon_df_epsg32632)"
   ]
  },
  {
   "cell_type": "code",
   "execution_count": 153,
   "id": "e6f9f576",
   "metadata": {},
   "outputs": [
    {
     "data": {
      "text/plain": [
       "0    False\n",
       "dtype: bool"
      ]
     },
     "execution_count": 153,
     "metadata": {},
     "output_type": "execute_result"
    }
   ],
   "source": [
    "red_polygon_df_epsg32632.within(blue_poligon_df_epsg32632)"
   ]
  },
  {
   "cell_type": "markdown",
   "id": "15108213",
   "metadata": {},
   "source": [
    "### intersects"
   ]
  },
  {
   "cell_type": "code",
   "execution_count": 154,
   "id": "c5db3d29",
   "metadata": {},
   "outputs": [
    {
     "data": {
      "text/plain": [
       "0    True\n",
       "dtype: bool"
      ]
     },
     "execution_count": 154,
     "metadata": {},
     "output_type": "execute_result"
    }
   ],
   "source": [
    "orange_polygon_df_epsg32632.intersects(blue_poligon_df_epsg32632)"
   ]
  },
  {
   "cell_type": "code",
   "execution_count": 155,
   "id": "54e8353f",
   "metadata": {},
   "outputs": [
    {
     "data": {
      "text/plain": [
       "0    True\n",
       "dtype: bool"
      ]
     },
     "execution_count": 155,
     "metadata": {},
     "output_type": "execute_result"
    }
   ],
   "source": [
    "red_polygon_df_epsg32632.intersects(blue_poligon_df_epsg32632)"
   ]
  },
  {
   "cell_type": "code",
   "execution_count": 156,
   "id": "2548b9fe",
   "metadata": {},
   "outputs": [
    {
     "data": {
      "text/plain": [
       "0    True\n",
       "dtype: bool"
      ]
     },
     "execution_count": 156,
     "metadata": {},
     "output_type": "execute_result"
    }
   ],
   "source": [
    "red_polygon_df_epsg32632.intersects(orange_polygon_df_epsg32632)"
   ]
  },
  {
   "cell_type": "markdown",
   "id": "85e90dd4",
   "metadata": {},
   "source": [
    "### touches"
   ]
  },
  {
   "cell_type": "code",
   "execution_count": 157,
   "id": "d950ff9e",
   "metadata": {},
   "outputs": [
    {
     "data": {
      "text/plain": [
       "0    False\n",
       "dtype: bool"
      ]
     },
     "execution_count": 157,
     "metadata": {},
     "output_type": "execute_result"
    }
   ],
   "source": [
    "orange_polygon_df_epsg32632.touches(blue_poligon_df_epsg32632)"
   ]
  },
  {
   "cell_type": "code",
   "execution_count": 158,
   "id": "8f159db2",
   "metadata": {},
   "outputs": [
    {
     "data": {
      "text/plain": [
       "0    False\n",
       "dtype: bool"
      ]
     },
     "execution_count": 158,
     "metadata": {},
     "output_type": "execute_result"
    }
   ],
   "source": [
    "red_polygon_df_epsg32632.touches(blue_poligon_df_epsg32632)"
   ]
  },
  {
   "cell_type": "code",
   "execution_count": 159,
   "id": "fdb91d80",
   "metadata": {},
   "outputs": [
    {
     "data": {
      "text/plain": [
       "0    True\n",
       "dtype: bool"
      ]
     },
     "execution_count": 159,
     "metadata": {},
     "output_type": "execute_result"
    }
   ],
   "source": [
    "red_polygon_df_epsg32632.touches(orange_polygon_df_epsg32632)"
   ]
  },
  {
   "cell_type": "code",
   "execution_count": 160,
   "id": "00667ec8",
   "metadata": {},
   "outputs": [
    {
     "data": {
      "text/plain": [
       "<AxesSubplot:>"
      ]
     },
     "execution_count": 160,
     "metadata": {},
     "output_type": "execute_result"
    },
    {
     "data": {
      "image/png": "[encoded data removed]",
      "text/plain": [
       "<Figure size 720x360 with 1 Axes>"
      ]
     },
     "metadata": {
      "needs_background": "light"
     },
     "output_type": "display_data"
    }
   ],
   "source": [
    "fig, ax = plt.subplots(1, figsize=(10, 5))\n",
    "blue_poligon_df_epsg32632.plot(ax=ax)\n",
    "orange_polygon_df_epsg32632.plot(ax=ax, color='orange')\n",
    "red_polygon_df_epsg32632.plot(ax=ax, color='red')\n",
    "green_polygon_df_epsg32632.plot(ax=ax, color='green')"
   ]
  },
  {
   "cell_type": "markdown",
   "id": "01193fd6",
   "metadata": {},
   "source": [
    "### From EPSG:32632 to EPSG:3035"
   ]
  },
  {
   "cell_type": "code",
   "execution_count": 35,
   "id": "5df4f8f1",
   "metadata": {},
   "outputs": [
    {
     "data": {
      "text/plain": [
       "<Derived Projected CRS: EPSG:3035>\n",
       "Name: ETRS89-extended / LAEA Europe\n",
       "Axis Info [cartesian]:\n",
       "- Y[north]: Northing (metre)\n",
       "- X[east]: Easting (metre)\n",
       "Area of Use:\n",
       "- name: Europe - European Union (EU) countries and candidates. Europe - onshore and offshore: Albania; Andorra; Austria; Belgium; Bosnia and Herzegovina; Bulgaria; Croatia; Cyprus; Czechia; Denmark; Estonia; Faroe Islands; Finland; France; Germany; Gibraltar; Greece; Hungary; Iceland; Ireland; Italy; Kosovo; Latvia; Liechtenstein; Lithuania; Luxembourg; Malta; Monaco; Montenegro; Netherlands; North Macedonia; Norway including Svalbard and Jan Mayen; Poland; Portugal including Madeira and Azores; Romania; San Marino; Serbia; Slovakia; Slovenia; Spain including Canary Islands; Sweden; Switzerland; Turkey; United Kingdom (UK) including Channel Islands and Isle of Man; Vatican City State.\n",
       "- bounds: (-35.58, 24.6, 44.83, 84.73)\n",
       "Coordinate Operation:\n",
       "- name: Europe Equal Area 2001\n",
       "- method: Lambert Azimuthal Equal Area\n",
       "Datum: European Terrestrial Reference System 1989 ensemble\n",
       "- Ellipsoid: GRS 1980\n",
       "- Prime Meridian: Greenwich"
      ]
     },
     "execution_count": 35,
     "metadata": {},
     "output_type": "execute_result"
    }
   ],
   "source": [
    "blue_poligon_df_epsg3035 = blue_poligon_df_epsg32632.copy()\n",
    "blue_poligon_df_epsg3035.to_crs(epsg=3035, inplace=True)\n",
    "blue_poligon_df_epsg3035.crs"
   ]
  },
  {
   "cell_type": "markdown",
   "id": "f53661d5",
   "metadata": {},
   "source": [
    "Let's print the coordinates of one polygon in the EPSG:3035 CRS"
   ]
  },
  {
   "cell_type": "code",
   "execution_count": 60,
   "id": "f0b252f9",
   "metadata": {},
   "outputs": [
    {
     "data": {
      "text/plain": [
       "'POLYGON ((4605471.473806266 2285345.4899135656, 4567540.52834565 2287218.5921846647, 4550694.510169499 2276888.226263894, 4557115.667771904 2251790.026471015, 4571383.917539243 2230470.078828498, 4588645.409445256 2239214.90777178, 4624313.065379609 2251908.9035745705, 4605471.473806266 2285345.4899135656))'"
      ]
     },
     "execution_count": 60,
     "metadata": {},
     "output_type": "execute_result"
    }
   ],
   "source": [
    "str(blue_poligon_df_epsg3035.loc[0]['geometry'])"
   ]
  },
  {
   "cell_type": "code",
   "execution_count": 36,
   "id": "c47bfd35",
   "metadata": {},
   "outputs": [],
   "source": [
    "orange_polygon_df_epsg3035 = orange_polygon_df_epsg32632.copy()\n",
    "orange_polygon_df_epsg3035.to_crs(epsg=3035, inplace=True)"
   ]
  },
  {
   "cell_type": "code",
   "execution_count": 37,
   "id": "034b7a20",
   "metadata": {},
   "outputs": [],
   "source": [
    "red_polygon_df_epsg3035 = red_polygon_df_epsg32632.copy()\n",
    "red_polygon_df_epsg3035.to_crs(epsg=3035, inplace=True)"
   ]
  },
  {
   "cell_type": "markdown",
   "id": "f99451a0",
   "metadata": {},
   "source": [
    "### within"
   ]
  },
  {
   "cell_type": "code",
   "execution_count": 38,
   "id": "d13194c7",
   "metadata": {},
   "outputs": [
    {
     "data": {
      "text/plain": [
       "0    True\n",
       "dtype: bool"
      ]
     },
     "execution_count": 38,
     "metadata": {},
     "output_type": "execute_result"
    }
   ],
   "source": [
    "orange_polygon_df_epsg3035.within(blue_poligon_df_epsg3035)"
   ]
  },
  {
   "cell_type": "code",
   "execution_count": 39,
   "id": "6648d4a1",
   "metadata": {},
   "outputs": [
    {
     "data": {
      "text/plain": [
       "0    False\n",
       "dtype: bool"
      ]
     },
     "execution_count": 39,
     "metadata": {},
     "output_type": "execute_result"
    }
   ],
   "source": [
    "red_polygon_df_epsg3035.within(blue_poligon_df_epsg3035)"
   ]
  },
  {
   "cell_type": "markdown",
   "id": "c555fb51",
   "metadata": {},
   "source": [
    "### intersects"
   ]
  },
  {
   "cell_type": "code",
   "execution_count": 40,
   "id": "f4b53860",
   "metadata": {},
   "outputs": [
    {
     "data": {
      "text/plain": [
       "0    True\n",
       "dtype: bool"
      ]
     },
     "execution_count": 40,
     "metadata": {},
     "output_type": "execute_result"
    }
   ],
   "source": [
    "orange_polygon_df_epsg3035.intersects(blue_poligon_df_epsg3035)"
   ]
  },
  {
   "cell_type": "code",
   "execution_count": 41,
   "id": "0a66acf9",
   "metadata": {},
   "outputs": [
    {
     "data": {
      "text/plain": [
       "0    True\n",
       "dtype: bool"
      ]
     },
     "execution_count": 41,
     "metadata": {},
     "output_type": "execute_result"
    }
   ],
   "source": [
    "red_polygon_df_epsg3035.intersects(blue_poligon_df_epsg3035)"
   ]
  },
  {
   "cell_type": "code",
   "execution_count": 42,
   "id": "879a49ed",
   "metadata": {},
   "outputs": [
    {
     "data": {
      "text/plain": [
       "0    True\n",
       "dtype: bool"
      ]
     },
     "execution_count": 42,
     "metadata": {},
     "output_type": "execute_result"
    }
   ],
   "source": [
    "red_polygon_df_epsg3035.intersects(orange_polygon_df_epsg3035)"
   ]
  },
  {
   "cell_type": "markdown",
   "id": "3975b5fe",
   "metadata": {},
   "source": [
    "### touches"
   ]
  },
  {
   "cell_type": "code",
   "execution_count": 43,
   "id": "f1b0cf7d",
   "metadata": {},
   "outputs": [
    {
     "data": {
      "text/plain": [
       "0    False\n",
       "dtype: bool"
      ]
     },
     "execution_count": 43,
     "metadata": {},
     "output_type": "execute_result"
    }
   ],
   "source": [
    "orange_polygon_df_epsg3035.touches(blue_poligon_df_epsg3035)"
   ]
  },
  {
   "cell_type": "code",
   "execution_count": 44,
   "id": "2af5cf61",
   "metadata": {},
   "outputs": [
    {
     "data": {
      "text/plain": [
       "0    False\n",
       "dtype: bool"
      ]
     },
     "execution_count": 44,
     "metadata": {},
     "output_type": "execute_result"
    }
   ],
   "source": [
    "red_polygon_df_epsg3035.touches(blue_poligon_df_epsg3035)"
   ]
  },
  {
   "cell_type": "code",
   "execution_count": 45,
   "id": "373067d8",
   "metadata": {},
   "outputs": [
    {
     "data": {
      "text/plain": [
       "0    True\n",
       "dtype: bool"
      ]
     },
     "execution_count": 45,
     "metadata": {},
     "output_type": "execute_result"
    }
   ],
   "source": [
    "red_polygon_df_epsg3035.touches(orange_polygon_df_epsg3035)"
   ]
  },
  {
   "cell_type": "markdown",
   "id": "72002a24",
   "metadata": {},
   "source": [
    "## The Marche region"
   ]
  },
  {
   "cell_type": "code",
   "execution_count": 63,
   "id": "646b8dff",
   "metadata": {},
   "outputs": [
    {
     "data": {
      "text/plain": [
       "<Derived Projected CRS: EPSG:32632>\n",
       "Name: WGS 84 / UTM zone 32N\n",
       "Axis Info [cartesian]:\n",
       "- E[east]: Easting (metre)\n",
       "- N[north]: Northing (metre)\n",
       "Area of Use:\n",
       "- name: Between 6°E and 12°E, northern hemisphere between equator and 84°N, onshore and offshore. Algeria. Austria. Cameroon. Denmark. Equatorial Guinea. France. Gabon. Germany. Italy. Libya. Liechtenstein. Monaco. Netherlands. Niger. Nigeria. Norway. Sao Tome and Principe. Svalbard. Sweden. Switzerland. Tunisia. Vatican City State.\n",
       "- bounds: (6.0, 0.0, 12.0, 84.0)\n",
       "Coordinate Operation:\n",
       "- name: UTM zone 32N\n",
       "- method: Transverse Mercator\n",
       "Datum: World Geodetic System 1984 ensemble\n",
       "- Ellipsoid: WGS 84\n",
       "- Prime Meridian: Greenwich"
      ]
     },
     "execution_count": 63,
     "metadata": {},
     "output_type": "execute_result"
    }
   ],
   "source": [
    "confini_marche_gdf = gpd.read_file('data/vector/italy/istat_confini_regioni/confini_marche/confini_marche.shp')\n",
    "confini_marche_gdf.crs"
   ]
  },
  {
   "cell_type": "code",
   "execution_count": 66,
   "id": "f5684e4a",
   "metadata": {},
   "outputs": [
    {
     "data": {
      "text/plain": [
       "0    True\n",
       "dtype: bool"
      ]
     },
     "execution_count": 66,
     "metadata": {},
     "output_type": "execute_result"
    }
   ],
   "source": [
    "blue_poligon_df_epsg32632.intersects(confini_marche_gdf)"
   ]
  },
  {
   "cell_type": "code",
   "execution_count": 69,
   "id": "c93708a8",
   "metadata": {},
   "outputs": [
    {
     "data": {
      "text/plain": [
       "<AxesSubplot:>"
      ]
     },
     "execution_count": 69,
     "metadata": {},
     "output_type": "execute_result"
    },
    {
     "data": {
      "image/png": "[encoded data removed]",
      "text/plain": [
       "<Figure size 720x720 with 1 Axes>"
      ]
     },
     "metadata": {
      "needs_background": "light"
     },
     "output_type": "display_data"
    }
   ],
   "source": [
    "fig, ax = plt.subplots(1, figsize=(10, 10))\n",
    "confini_marche_gdf.plot(ax=ax, color='orange')\n",
    "blue_poligon_df_epsg32632.plot(ax=ax)"
   ]
  },
  {
   "cell_type": "markdown",
   "id": "515ce44e",
   "metadata": {},
   "source": [
    "## Municipalities of the Marche region"
   ]
  },
  {
   "cell_type": "code",
   "execution_count": 71,
   "id": "223e3454",
   "metadata": {},
   "outputs": [
    {
     "data": {
      "text/plain": [
       "<Derived Projected CRS: EPSG:32632>\n",
       "Name: WGS 84 / UTM zone 32N\n",
       "Axis Info [cartesian]:\n",
       "- E[east]: Easting (metre)\n",
       "- N[north]: Northing (metre)\n",
       "Area of Use:\n",
       "- name: Between 6°E and 12°E, northern hemisphere between equator and 84°N, onshore and offshore. Algeria. Austria. Cameroon. Denmark. Equatorial Guinea. France. Gabon. Germany. Italy. Libya. Liechtenstein. Monaco. Netherlands. Niger. Nigeria. Norway. Sao Tome and Principe. Svalbard. Sweden. Switzerland. Tunisia. Vatican City State.\n",
       "- bounds: (6.0, 0.0, 12.0, 84.0)\n",
       "Coordinate Operation:\n",
       "- name: UTM zone 32N\n",
       "- method: Transverse Mercator\n",
       "Datum: World Geodetic System 1984 ensemble\n",
       "- Ellipsoid: WGS 84\n",
       "- Prime Meridian: Greenwich"
      ]
     },
     "execution_count": 71,
     "metadata": {},
     "output_type": "execute_result"
    }
   ],
   "source": [
    "path_municipalities_marche = 'data/vector/italy/istat_confini_comuni/marche/marche.shp'\n",
    "comuni_marche_gdf = gpd.read_file(path_municipalities_marche)\n",
    "comuni_marche_gdf.crs"
   ]
  },
  {
   "cell_type": "code",
   "execution_count": 312,
   "id": "d3afaec9",
   "metadata": {},
   "outputs": [
    {
     "data": {
      "text/plain": [
       "'Venarotta'"
      ]
     },
     "execution_count": 312,
     "metadata": {},
     "output_type": "execute_result"
    }
   ],
   "source": [
    "comuni_marche_gdf.loc[0]['COMUNE']"
   ]
  },
  {
   "cell_type": "code",
   "execution_count": 316,
   "id": "4e22b8cb",
   "metadata": {},
   "outputs": [],
   "source": [
    "def withinMarche(comune):\n",
    "    return comune.intersects(confini_marche_gdf)"
   ]
  },
  {
   "cell_type": "code",
   "execution_count": 319,
   "id": "c87722d6",
   "metadata": {},
   "outputs": [
    {
     "ename": "TypeError",
     "evalue": "<lambda>() got an unexpected keyword argument 'axis'",
     "output_type": "error",
     "traceback": [
      "\u001b[1;31m---------------------------------------------------------------------------\u001b[0m",
      "\u001b[1;31mTypeError\u001b[0m                                 Traceback (most recent call last)",
      "Input \u001b[1;32mIn [319]\u001b[0m, in \u001b[0;36m<cell line: 1>\u001b[1;34m()\u001b[0m\n\u001b[1;32m----> 1\u001b[0m \u001b[43mcomuni_marche_gdf\u001b[49m\u001b[43m[\u001b[49m\u001b[38;5;124;43m'\u001b[39;49m\u001b[38;5;124;43mgeometry\u001b[39;49m\u001b[38;5;124;43m'\u001b[39;49m\u001b[43m]\u001b[49m\u001b[38;5;241;43m.\u001b[39;49m\u001b[43mapply\u001b[49m\u001b[43m(\u001b[49m\u001b[38;5;28;43;01mlambda\u001b[39;49;00m\u001b[43m \u001b[49m\u001b[43mcomune\u001b[49m\u001b[43m:\u001b[49m\u001b[43m \u001b[49m\u001b[43mwithinMarche\u001b[49m\u001b[43m(\u001b[49m\u001b[43mcomune\u001b[49m\u001b[43m)\u001b[49m\u001b[43m,\u001b[49m\u001b[43m \u001b[49m\u001b[43maxis\u001b[49m\u001b[38;5;241;43m=\u001b[39;49m\u001b[38;5;241;43m1\u001b[39;49m\u001b[43m)\u001b[49m\n",
      "File \u001b[1;32m~\\Anaconda3\\envs\\wekeo\\lib\\site-packages\\geopandas\\geoseries.py:643\u001b[0m, in \u001b[0;36mGeoSeries.apply\u001b[1;34m(self, func, convert_dtype, args, **kwargs)\u001b[0m\n\u001b[0;32m    641\u001b[0m \u001b[38;5;129m@doc\u001b[39m(pd\u001b[38;5;241m.\u001b[39mSeries)\n\u001b[0;32m    642\u001b[0m \u001b[38;5;28;01mdef\u001b[39;00m \u001b[38;5;21mapply\u001b[39m(\u001b[38;5;28mself\u001b[39m, func, convert_dtype\u001b[38;5;241m=\u001b[39m\u001b[38;5;28;01mTrue\u001b[39;00m, args\u001b[38;5;241m=\u001b[39m(), \u001b[38;5;241m*\u001b[39m\u001b[38;5;241m*\u001b[39mkwargs):\n\u001b[1;32m--> 643\u001b[0m     result \u001b[38;5;241m=\u001b[39m \u001b[38;5;28msuper\u001b[39m()\u001b[38;5;241m.\u001b[39mapply(func, convert_dtype\u001b[38;5;241m=\u001b[39mconvert_dtype, args\u001b[38;5;241m=\u001b[39margs, \u001b[38;5;241m*\u001b[39m\u001b[38;5;241m*\u001b[39mkwargs)\n\u001b[0;32m    644\u001b[0m     \u001b[38;5;28;01mif\u001b[39;00m \u001b[38;5;28misinstance\u001b[39m(result, GeoSeries):\n\u001b[0;32m    645\u001b[0m         \u001b[38;5;28;01mif\u001b[39;00m \u001b[38;5;28mself\u001b[39m\u001b[38;5;241m.\u001b[39mcrs \u001b[38;5;129;01mis\u001b[39;00m \u001b[38;5;129;01mnot\u001b[39;00m \u001b[38;5;28;01mNone\u001b[39;00m:\n",
      "File \u001b[1;32m~\\Anaconda3\\envs\\wekeo\\lib\\site-packages\\pandas\\core\\series.py:4433\u001b[0m, in \u001b[0;36mSeries.apply\u001b[1;34m(self, func, convert_dtype, args, **kwargs)\u001b[0m\n\u001b[0;32m   4323\u001b[0m \u001b[38;5;28;01mdef\u001b[39;00m \u001b[38;5;21mapply\u001b[39m(\n\u001b[0;32m   4324\u001b[0m     \u001b[38;5;28mself\u001b[39m,\n\u001b[0;32m   4325\u001b[0m     func: AggFuncType,\n\u001b[1;32m   (...)\u001b[0m\n\u001b[0;32m   4328\u001b[0m     \u001b[38;5;241m*\u001b[39m\u001b[38;5;241m*\u001b[39mkwargs,\n\u001b[0;32m   4329\u001b[0m ) \u001b[38;5;241m-\u001b[39m\u001b[38;5;241m>\u001b[39m DataFrame \u001b[38;5;241m|\u001b[39m Series:\n\u001b[0;32m   4330\u001b[0m     \u001b[38;5;124;03m\"\"\"\u001b[39;00m\n\u001b[0;32m   4331\u001b[0m \u001b[38;5;124;03m    Invoke function on values of Series.\u001b[39;00m\n\u001b[0;32m   4332\u001b[0m \n\u001b[1;32m   (...)\u001b[0m\n\u001b[0;32m   4431\u001b[0m \u001b[38;5;124;03m    dtype: float64\u001b[39;00m\n\u001b[0;32m   4432\u001b[0m \u001b[38;5;124;03m    \"\"\"\u001b[39;00m\n\u001b[1;32m-> 4433\u001b[0m     \u001b[38;5;28;01mreturn\u001b[39;00m \u001b[43mSeriesApply\u001b[49m\u001b[43m(\u001b[49m\u001b[38;5;28;43mself\u001b[39;49m\u001b[43m,\u001b[49m\u001b[43m \u001b[49m\u001b[43mfunc\u001b[49m\u001b[43m,\u001b[49m\u001b[43m \u001b[49m\u001b[43mconvert_dtype\u001b[49m\u001b[43m,\u001b[49m\u001b[43m \u001b[49m\u001b[43margs\u001b[49m\u001b[43m,\u001b[49m\u001b[43m \u001b[49m\u001b[43mkwargs\u001b[49m\u001b[43m)\u001b[49m\u001b[38;5;241;43m.\u001b[39;49m\u001b[43mapply\u001b[49m\u001b[43m(\u001b[49m\u001b[43m)\u001b[49m\n",
      "File \u001b[1;32m~\\Anaconda3\\envs\\wekeo\\lib\\site-packages\\pandas\\core\\apply.py:1088\u001b[0m, in \u001b[0;36mSeriesApply.apply\u001b[1;34m(self)\u001b[0m\n\u001b[0;32m   1084\u001b[0m \u001b[38;5;28;01mif\u001b[39;00m \u001b[38;5;28misinstance\u001b[39m(\u001b[38;5;28mself\u001b[39m\u001b[38;5;241m.\u001b[39mf, \u001b[38;5;28mstr\u001b[39m):\n\u001b[0;32m   1085\u001b[0m     \u001b[38;5;66;03m# if we are a string, try to dispatch\u001b[39;00m\n\u001b[0;32m   1086\u001b[0m     \u001b[38;5;28;01mreturn\u001b[39;00m \u001b[38;5;28mself\u001b[39m\u001b[38;5;241m.\u001b[39mapply_str()\n\u001b[1;32m-> 1088\u001b[0m \u001b[38;5;28;01mreturn\u001b[39;00m \u001b[38;5;28;43mself\u001b[39;49m\u001b[38;5;241;43m.\u001b[39;49m\u001b[43mapply_standard\u001b[49m\u001b[43m(\u001b[49m\u001b[43m)\u001b[49m\n",
      "File \u001b[1;32m~\\Anaconda3\\envs\\wekeo\\lib\\site-packages\\pandas\\core\\apply.py:1143\u001b[0m, in \u001b[0;36mSeriesApply.apply_standard\u001b[1;34m(self)\u001b[0m\n\u001b[0;32m   1137\u001b[0m         values \u001b[38;5;241m=\u001b[39m obj\u001b[38;5;241m.\u001b[39mastype(\u001b[38;5;28mobject\u001b[39m)\u001b[38;5;241m.\u001b[39m_values\n\u001b[0;32m   1138\u001b[0m         \u001b[38;5;66;03m# error: Argument 2 to \"map_infer\" has incompatible type\u001b[39;00m\n\u001b[0;32m   1139\u001b[0m         \u001b[38;5;66;03m# \"Union[Callable[..., Any], str, List[Union[Callable[..., Any], str]],\u001b[39;00m\n\u001b[0;32m   1140\u001b[0m         \u001b[38;5;66;03m# Dict[Hashable, Union[Union[Callable[..., Any], str],\u001b[39;00m\n\u001b[0;32m   1141\u001b[0m         \u001b[38;5;66;03m# List[Union[Callable[..., Any], str]]]]]\"; expected\u001b[39;00m\n\u001b[0;32m   1142\u001b[0m         \u001b[38;5;66;03m# \"Callable[[Any], Any]\"\u001b[39;00m\n\u001b[1;32m-> 1143\u001b[0m         mapped \u001b[38;5;241m=\u001b[39m \u001b[43mlib\u001b[49m\u001b[38;5;241;43m.\u001b[39;49m\u001b[43mmap_infer\u001b[49m\u001b[43m(\u001b[49m\n\u001b[0;32m   1144\u001b[0m \u001b[43m            \u001b[49m\u001b[43mvalues\u001b[49m\u001b[43m,\u001b[49m\n\u001b[0;32m   1145\u001b[0m \u001b[43m            \u001b[49m\u001b[43mf\u001b[49m\u001b[43m,\u001b[49m\u001b[43m  \u001b[49m\u001b[38;5;66;43;03m# type: ignore[arg-type]\u001b[39;49;00m\n\u001b[0;32m   1146\u001b[0m \u001b[43m            \u001b[49m\u001b[43mconvert\u001b[49m\u001b[38;5;241;43m=\u001b[39;49m\u001b[38;5;28;43mself\u001b[39;49m\u001b[38;5;241;43m.\u001b[39;49m\u001b[43mconvert_dtype\u001b[49m\u001b[43m,\u001b[49m\n\u001b[0;32m   1147\u001b[0m \u001b[43m        \u001b[49m\u001b[43m)\u001b[49m\n\u001b[0;32m   1149\u001b[0m \u001b[38;5;28;01mif\u001b[39;00m \u001b[38;5;28mlen\u001b[39m(mapped) \u001b[38;5;129;01mand\u001b[39;00m \u001b[38;5;28misinstance\u001b[39m(mapped[\u001b[38;5;241m0\u001b[39m], ABCSeries):\n\u001b[0;32m   1150\u001b[0m     \u001b[38;5;66;03m# GH#43986 Need to do list(mapped) in order to get treated as nested\u001b[39;00m\n\u001b[0;32m   1151\u001b[0m     \u001b[38;5;66;03m#  See also GH#25959 regarding EA support\u001b[39;00m\n\u001b[0;32m   1152\u001b[0m     \u001b[38;5;28;01mreturn\u001b[39;00m obj\u001b[38;5;241m.\u001b[39m_constructor_expanddim(\u001b[38;5;28mlist\u001b[39m(mapped), index\u001b[38;5;241m=\u001b[39mobj\u001b[38;5;241m.\u001b[39mindex)\n",
      "File \u001b[1;32m~\\Anaconda3\\envs\\wekeo\\lib\\site-packages\\pandas\\_libs\\lib.pyx:2870\u001b[0m, in \u001b[0;36mpandas._libs.lib.map_infer\u001b[1;34m()\u001b[0m\n",
      "File \u001b[1;32m~\\Anaconda3\\envs\\wekeo\\lib\\site-packages\\pandas\\core\\apply.py:138\u001b[0m, in \u001b[0;36mApply.__init__.<locals>.f\u001b[1;34m(x)\u001b[0m\n\u001b[0;32m    137\u001b[0m \u001b[38;5;28;01mdef\u001b[39;00m \u001b[38;5;21mf\u001b[39m(x):\n\u001b[1;32m--> 138\u001b[0m     \u001b[38;5;28;01mreturn\u001b[39;00m func(x, \u001b[38;5;241m*\u001b[39margs, \u001b[38;5;241m*\u001b[39m\u001b[38;5;241m*\u001b[39mkwargs)\n",
      "\u001b[1;31mTypeError\u001b[0m: <lambda>() got an unexpected keyword argument 'axis'"
     ]
    }
   ],
   "source": [
    "comuni_marche_gdf['geometry'].apply(lambda comune: withinMarche(comune), axis=1)"
   ]
  },
  {
   "cell_type": "code",
   "execution_count": 73,
   "id": "a56b2f2c",
   "metadata": {},
   "outputs": [
    {
     "data": {
      "text/plain": [
       "RangeIndex(start=0, stop=225, step=1)"
      ]
     },
     "execution_count": 73,
     "metadata": {},
     "output_type": "execute_result"
    }
   ],
   "source": [
    "comuni_marche_gdf.index"
   ]
  },
  {
   "cell_type": "code",
   "execution_count": 74,
   "id": "d0bcc20f",
   "metadata": {},
   "outputs": [
    {
     "data": {
      "text/plain": [
       "RangeIndex(start=0, stop=1, step=1)"
      ]
     },
     "execution_count": 74,
     "metadata": {},
     "output_type": "execute_result"
    }
   ],
   "source": [
    "blue_poligon_df_epsg32632.index"
   ]
  },
  {
   "cell_type": "code",
   "execution_count": null,
   "id": "9434c901",
   "metadata": {},
   "outputs": [],
   "source": []
  }
 ],
 "metadata": {
  "kernelspec": {
   "display_name": "Python 3 (ipykernel)",
   "language": "python",
   "name": "python3"
  },
  "language_info": {
   "codemirror_mode": {
    "name": "ipython",
    "version": 3
   },
   "file_extension": ".py",
   "mimetype": "text/x-python",
   "name": "python",
   "nbconvert_exporter": "python",
   "pygments_lexer": "ipython3",
   "version": "3.9.13"
  }
 },
 "nbformat": 4,
 "nbformat_minor": 5
}
