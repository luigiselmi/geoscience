{
 "cells": [
  {
   "cell_type": "markdown",
   "id": "c18eae82",
   "metadata": {},
   "source": [
    "# Spatial relationships\n",
    "Spatial objiects such as point, line and polygon, may have one or more topological relationships such as containment, overlap, neighbor, and also metric relationships that is the distance between them. The Python package Shapely, included in the GeoPandas package, provides such functions for planar geometry. Shapely is a Python port of [GEOS](https://libgeos.org/), the C++ port of the [Java Topology Suite (JTS)](https://github.com/locationtech/jts/), a Java implementation of topological operators. We begin with a simple example with two datasets, a set of points that may represent point of interest (POI) and a set of polygons that represent the neighborhoods in NYC. We will find out the POIs that lie within one of the neighborhood."
   ]
  },
  {
   "cell_type": "code",
   "execution_count": 1,
   "id": "d4ccd499",
   "metadata": {},
   "outputs": [],
   "source": [
    "%matplotlib inline\n",
    "from shapely.geometry import Point\n",
    "from geopandas import datasets, GeoDataFrame, read_file\n",
    "import matplotlib.pyplot as plt"
   ]
  },
  {
   "cell_type": "code",
   "execution_count": 2,
   "id": "6483db48",
   "metadata": {},
   "outputs": [],
   "source": [
    "# NYC Boros\n",
    "zippath = datasets.get_path('nybb')\n",
    "neighborhoods_df = read_file(zippath)\n",
    "\n",
    "# Generate some points\n",
    "b = [int(x) for x in neighborhoods_df.total_bounds]\n",
    "N = 8\n",
    "pois_df = GeoDataFrame([\n",
    "    {'geometry': Point(x, y), 'value1': x + y, 'value2': x - y}\n",
    "    for x, y in zip(range(b[0], b[2], int((b[2] - b[0]) / N)),\n",
    "                    range(b[1], b[3], int((b[3] - b[1]) / N)))])"
   ]
  },
  {
   "cell_type": "markdown",
   "id": "999a9ecf",
   "metadata": {},
   "source": [
    "We have to assign a Coordinate Reference System (CRS) to the POIs"
   ]
  },
  {
   "cell_type": "code",
   "execution_count": 5,
   "id": "cf93b31c",
   "metadata": {},
   "outputs": [],
   "source": [
    "pois_df.crs"
   ]
  },
  {
   "cell_type": "markdown",
   "id": "dadb60ba",
   "metadata": {},
   "source": [
    "The CRS used by the polygons is EPSG:2263"
   ]
  },
  {
   "cell_type": "code",
   "execution_count": 4,
   "id": "fa482a86",
   "metadata": {},
   "outputs": [
    {
     "data": {
      "text/plain": [
       "<Derived Projected CRS: EPSG:2263>\n",
       "Name: NAD83 / New York Long Island (ftUS)\n",
       "Axis Info [cartesian]:\n",
       "- X[east]: Easting (US survey foot)\n",
       "- Y[north]: Northing (US survey foot)\n",
       "Area of Use:\n",
       "- name: United States (USA) - New York - counties of Bronx; Kings; Nassau; New York; Queens; Richmond; Suffolk.\n",
       "- bounds: (-74.26, 40.47, -71.8, 41.3)\n",
       "Coordinate Operation:\n",
       "- name: SPCS83 New York Long Island zone (US Survey feet)\n",
       "- method: Lambert Conic Conformal (2SP)\n",
       "Datum: North American Datum 1983\n",
       "- Ellipsoid: GRS 1980\n",
       "- Prime Meridian: Greenwich"
      ]
     },
     "execution_count": 4,
     "metadata": {},
     "output_type": "execute_result"
    }
   ],
   "source": [
    "neighborhoods_df.crs"
   ]
  },
  {
   "cell_type": "markdown",
   "id": "5101d984",
   "metadata": {},
   "source": [
    "We assign the same CRS to the points \n"
   ]
  },
  {
   "cell_type": "code",
   "execution_count": 6,
   "id": "c8aff110",
   "metadata": {},
   "outputs": [
    {
     "data": {
      "text/plain": [
       "<Derived Projected CRS: EPSG:2263>\n",
       "Name: NAD83 / New York Long Island (ftUS)\n",
       "Axis Info [cartesian]:\n",
       "- X[east]: Easting (US survey foot)\n",
       "- Y[north]: Northing (US survey foot)\n",
       "Area of Use:\n",
       "- name: United States (USA) - New York - counties of Bronx; Kings; Nassau; New York; Queens; Richmond; Suffolk.\n",
       "- bounds: (-74.26, 40.47, -71.8, 41.3)\n",
       "Coordinate Operation:\n",
       "- name: SPCS83 New York Long Island zone (US Survey feet)\n",
       "- method: Lambert Conic Conformal (2SP)\n",
       "Datum: North American Datum 1983\n",
       "- Ellipsoid: GRS 1980\n",
       "- Prime Meridian: Greenwich"
      ]
     },
     "execution_count": 6,
     "metadata": {},
     "output_type": "execute_result"
    }
   ],
   "source": [
    "pois_df.crs = neighborhoods_df.crs\n",
    "pois_df.crs"
   ]
  },
  {
   "cell_type": "code",
   "execution_count": 7,
   "id": "1915f9ee",
   "metadata": {},
   "outputs": [
    {
     "data": {
      "text/plain": [
       "(905464.7390380859, 1075092.8783935546, 112485.76063504723, 280480.4142594267)"
      ]
     },
     "execution_count": 7,
     "metadata": {},
     "output_type": "execute_result"
    },
    {
     "data": {
      "image/png": "[encoded data removed]",
      "text/plain": [
       "<Figure size 720x360 with 1 Axes>"
      ]
     },
     "metadata": {
      "needs_background": "light"
     },
     "output_type": "display_data"
    }
   ],
   "source": [
    "fig, ax = plt.subplots(1, figsize=(10, 5))\n",
    "neighborhoods_df.plot(color='green', ax=ax)\n",
    "ax.axis('off')"
   ]
  },
  {
   "cell_type": "code",
   "execution_count": 8,
   "id": "41187131",
   "metadata": {},
   "outputs": [
    {
     "data": {
      "text/plain": [
       "(905465.0, 1075085.0, 112485.0, 280477.0)"
      ]
     },
     "execution_count": 8,
     "metadata": {},
     "output_type": "execute_result"
    },
    {
     "data": {
      "image/png": "[encoded data removed]",
      "text/plain": [
       "<Figure size 432x288 with 1 Axes>"
      ]
     },
     "metadata": {
      "needs_background": "light"
     },
     "output_type": "display_data"
    }
   ],
   "source": [
    "fig, ax = plt.subplots()\n",
    "pois_df.plot(color='blue', ax=ax)\n",
    "ax.axis('off')"
   ]
  },
  {
   "cell_type": "code",
   "execution_count": 9,
   "id": "6b351f7c",
   "metadata": {},
   "outputs": [
    {
     "data": {
      "text/html": [
       "<div>\n",
       "<style scoped>\n",
       "    .dataframe tbody tr th:only-of-type {\n",
       "        vertical-align: middle;\n",
       "    }\n",
       "\n",
       "    .dataframe tbody tr th {\n",
       "        vertical-align: top;\n",
       "    }\n",
       "\n",
       "    .dataframe thead th {\n",
       "        text-align: right;\n",
       "    }\n",
       "</style>\n",
       "<table border=\"1\" class=\"dataframe\">\n",
       "  <thead>\n",
       "    <tr style=\"text-align: right;\">\n",
       "      <th></th>\n",
       "      <th>BoroCode</th>\n",
       "      <th>BoroName</th>\n",
       "      <th>Shape_Leng</th>\n",
       "      <th>Shape_Area</th>\n",
       "      <th>geometry</th>\n",
       "    </tr>\n",
       "  </thead>\n",
       "  <tbody>\n",
       "    <tr>\n",
       "      <th>0</th>\n",
       "      <td>5</td>\n",
       "      <td>Staten Island</td>\n",
       "      <td>330470.010332</td>\n",
       "      <td>1.623820e+09</td>\n",
       "      <td>MULTIPOLYGON (((970217.022 145643.332, 970227....</td>\n",
       "    </tr>\n",
       "    <tr>\n",
       "      <th>1</th>\n",
       "      <td>4</td>\n",
       "      <td>Queens</td>\n",
       "      <td>896344.047763</td>\n",
       "      <td>3.045213e+09</td>\n",
       "      <td>MULTIPOLYGON (((1029606.077 156073.814, 102957...</td>\n",
       "    </tr>\n",
       "    <tr>\n",
       "      <th>2</th>\n",
       "      <td>3</td>\n",
       "      <td>Brooklyn</td>\n",
       "      <td>741080.523166</td>\n",
       "      <td>1.937479e+09</td>\n",
       "      <td>MULTIPOLYGON (((1021176.479 151374.797, 102100...</td>\n",
       "    </tr>\n",
       "    <tr>\n",
       "      <th>3</th>\n",
       "      <td>1</td>\n",
       "      <td>Manhattan</td>\n",
       "      <td>359299.096471</td>\n",
       "      <td>6.364715e+08</td>\n",
       "      <td>MULTIPOLYGON (((981219.056 188655.316, 980940....</td>\n",
       "    </tr>\n",
       "    <tr>\n",
       "      <th>4</th>\n",
       "      <td>2</td>\n",
       "      <td>Bronx</td>\n",
       "      <td>464392.991824</td>\n",
       "      <td>1.186925e+09</td>\n",
       "      <td>MULTIPOLYGON (((1012821.806 229228.265, 101278...</td>\n",
       "    </tr>\n",
       "  </tbody>\n",
       "</table>\n",
       "</div>"
      ],
      "text/plain": [
       "   BoroCode       BoroName     Shape_Leng    Shape_Area  \\\n",
       "0         5  Staten Island  330470.010332  1.623820e+09   \n",
       "1         4         Queens  896344.047763  3.045213e+09   \n",
       "2         3       Brooklyn  741080.523166  1.937479e+09   \n",
       "3         1      Manhattan  359299.096471  6.364715e+08   \n",
       "4         2          Bronx  464392.991824  1.186925e+09   \n",
       "\n",
       "                                            geometry  \n",
       "0  MULTIPOLYGON (((970217.022 145643.332, 970227....  \n",
       "1  MULTIPOLYGON (((1029606.077 156073.814, 102957...  \n",
       "2  MULTIPOLYGON (((1021176.479 151374.797, 102100...  \n",
       "3  MULTIPOLYGON (((981219.056 188655.316, 980940....  \n",
       "4  MULTIPOLYGON (((1012821.806 229228.265, 101278...  "
      ]
     },
     "execution_count": 9,
     "metadata": {},
     "output_type": "execute_result"
    }
   ],
   "source": [
    "neighborhoods_df"
   ]
  },
  {
   "cell_type": "code",
   "execution_count": 10,
   "id": "257d8278",
   "metadata": {},
   "outputs": [
    {
     "data": {
      "text/plain": [
       "<AxesSubplot:>"
      ]
     },
     "execution_count": 10,
     "metadata": {},
     "output_type": "execute_result"
    },
    {
     "data": {
      "image/png": "[encoded data removed]",
      "text/plain": [
       "<Figure size 720x360 with 1 Axes>"
      ]
     },
     "metadata": {
      "needs_background": "light"
     },
     "output_type": "display_data"
    }
   ],
   "source": [
    "fig, ax = plt.subplots(1, figsize=(10, 5))\n",
    "ax.axis('off')\n",
    "queens = neighborhoods_df[neighborhoods_df['BoroName'] == 'Queens']\n",
    "queens.plot(color='red', ax=ax)"
   ]
  },
  {
   "cell_type": "markdown",
   "id": "2a6d005f",
   "metadata": {},
   "source": [
    "## Point-in-polygon\n",
    "We look for points that lie within Queens neighborhood"
   ]
  },
  {
   "cell_type": "code",
   "execution_count": 11,
   "id": "74703b3e",
   "metadata": {},
   "outputs": [
    {
     "data": {
      "text/plain": [
       "(905464.6245788574, 1075092.8838439942, 112484.83531799316, 280480.45832214353)"
      ]
     },
     "execution_count": 11,
     "metadata": {},
     "output_type": "execute_result"
    },
    {
     "data": {
      "image/png": "[encoded data removed]",
      "text/plain": [
       "<Figure size 720x360 with 1 Axes>"
      ]
     },
     "metadata": {
      "needs_background": "light"
     },
     "output_type": "display_data"
    }
   ],
   "source": [
    "fig, ax = plt.subplots(1, figsize=(10, 5))\n",
    "neighborhoods_df.plot(ax=ax, facecolor='green')\n",
    "queens.plot(ax=ax, color='red')\n",
    "pois_df.plot(ax=ax, color='blue');\n",
    "ax.axis('off')"
   ]
  },
  {
   "cell_type": "markdown",
   "id": "29dab496",
   "metadata": {},
   "source": [
    "The Queens neighborhood is at index=1 so we use the within() function to determine the points that lie within the geometry at index 1 in the geo dataframe  "
   ]
  },
  {
   "cell_type": "code",
   "execution_count": 12,
   "id": "328a5a2c",
   "metadata": {},
   "outputs": [
    {
     "data": {
      "text/plain": [
       "0    False\n",
       "1    False\n",
       "2    False\n",
       "3    False\n",
       "4    False\n",
       "5     True\n",
       "6    False\n",
       "7    False\n",
       "8    False\n",
       "dtype: bool"
      ]
     },
     "execution_count": 12,
     "metadata": {},
     "output_type": "execute_result"
    }
   ],
   "source": [
    "poi_in_queens_mask = pois_df.within(neighborhoods_df.loc[1, 'geometry'])\n",
    "poi_in_queens_mask"
   ]
  },
  {
   "cell_type": "markdown",
   "id": "3084e4fc",
   "metadata": {},
   "source": [
    "We have found out that only the POI with index=5 lies within the Queens neighborhood"
   ]
  },
  {
   "cell_type": "code",
   "execution_count": 13,
   "id": "c523411a",
   "metadata": {},
   "outputs": [
    {
     "data": {
      "text/html": [
       "<div>\n",
       "<style scoped>\n",
       "    .dataframe tbody tr th:only-of-type {\n",
       "        vertical-align: middle;\n",
       "    }\n",
       "\n",
       "    .dataframe tbody tr th {\n",
       "        vertical-align: top;\n",
       "    }\n",
       "\n",
       "    .dataframe thead th {\n",
       "        text-align: right;\n",
       "    }\n",
       "</style>\n",
       "<table border=\"1\" class=\"dataframe\">\n",
       "  <thead>\n",
       "    <tr style=\"text-align: right;\">\n",
       "      <th></th>\n",
       "      <th>geometry</th>\n",
       "      <th>value1</th>\n",
       "      <th>value2</th>\n",
       "    </tr>\n",
       "  </thead>\n",
       "  <tbody>\n",
       "    <tr>\n",
       "      <th>5</th>\n",
       "      <td>POINT (1009550.000 215571.000)</td>\n",
       "      <td>1225121</td>\n",
       "      <td>793979</td>\n",
       "    </tr>\n",
       "  </tbody>\n",
       "</table>\n",
       "</div>"
      ],
      "text/plain": [
       "                         geometry   value1  value2\n",
       "5  POINT (1009550.000 215571.000)  1225121  793979"
      ]
     },
     "execution_count": 13,
     "metadata": {},
     "output_type": "execute_result"
    }
   ],
   "source": [
    "poi_in_queens = pois_df.loc[poi_in_queens_mask]\n",
    "poi_in_queens"
   ]
  },
  {
   "cell_type": "markdown",
   "id": "d9b8b8ba",
   "metadata": {},
   "source": [
    "Now we can plot the POI that lies within the Queens neighborhood"
   ]
  },
  {
   "cell_type": "code",
   "execution_count": 14,
   "id": "0b22ba45",
   "metadata": {},
   "outputs": [
    {
     "data": {
      "text/plain": [
       "(905464.7390380859, 1075092.8783935546, 112485.76063504723, 280480.4142594267)"
      ]
     },
     "execution_count": 14,
     "metadata": {},
     "output_type": "execute_result"
    },
    {
     "data": {
      "image/png": "[encoded data removed]",
      "text/plain": [
       "<Figure size 720x360 with 1 Axes>"
      ]
     },
     "metadata": {
      "needs_background": "light"
     },
     "output_type": "display_data"
    }
   ],
   "source": [
    "fig, ax = plt.subplots(1, figsize=(10, 5))\n",
    "neighborhoods_df.plot(ax=ax, facecolor='green')\n",
    "queens.plot(ax=ax, color='red')\n",
    "poi_in_queens.plot(ax=ax, color='blue');\n",
    "ax.axis('off')"
   ]
  },
  {
   "cell_type": "markdown",
   "id": "2f347d5e",
   "metadata": {},
   "source": [
    "## Spatial joins\n",
    "One more thing we can do is to add to the neighborhoods data the information about the POIs that lie withing them. We can achieve the result by performing a spatial join between the two datasets"
   ]
  },
  {
   "cell_type": "code",
   "execution_count": 15,
   "id": "ef5a16f4",
   "metadata": {},
   "outputs": [
    {
     "data": {
      "text/html": [
       "<div>\n",
       "<style scoped>\n",
       "    .dataframe tbody tr th:only-of-type {\n",
       "        vertical-align: middle;\n",
       "    }\n",
       "\n",
       "    .dataframe tbody tr th {\n",
       "        vertical-align: top;\n",
       "    }\n",
       "\n",
       "    .dataframe thead th {\n",
       "        text-align: right;\n",
       "    }\n",
       "</style>\n",
       "<table border=\"1\" class=\"dataframe\">\n",
       "  <thead>\n",
       "    <tr style=\"text-align: right;\">\n",
       "      <th></th>\n",
       "      <th>geometry</th>\n",
       "      <th>value1</th>\n",
       "      <th>value2</th>\n",
       "      <th>index_right</th>\n",
       "      <th>BoroCode</th>\n",
       "      <th>BoroName</th>\n",
       "      <th>Shape_Leng</th>\n",
       "      <th>Shape_Area</th>\n",
       "    </tr>\n",
       "  </thead>\n",
       "  <tbody>\n",
       "    <tr>\n",
       "      <th>1</th>\n",
       "      <td>POINT (932450.000 139211.000)</td>\n",
       "      <td>1071661</td>\n",
       "      <td>793239</td>\n",
       "      <td>0</td>\n",
       "      <td>5</td>\n",
       "      <td>Staten Island</td>\n",
       "      <td>330470.010332</td>\n",
       "      <td>1.623820e+09</td>\n",
       "    </tr>\n",
       "    <tr>\n",
       "      <th>2</th>\n",
       "      <td>POINT (951725.000 158301.000)</td>\n",
       "      <td>1110026</td>\n",
       "      <td>793424</td>\n",
       "      <td>0</td>\n",
       "      <td>5</td>\n",
       "      <td>Staten Island</td>\n",
       "      <td>330470.010332</td>\n",
       "      <td>1.623820e+09</td>\n",
       "    </tr>\n",
       "    <tr>\n",
       "      <th>5</th>\n",
       "      <td>POINT (1009550.000 215571.000)</td>\n",
       "      <td>1225121</td>\n",
       "      <td>793979</td>\n",
       "      <td>1</td>\n",
       "      <td>4</td>\n",
       "      <td>Queens</td>\n",
       "      <td>896344.047763</td>\n",
       "      <td>3.045213e+09</td>\n",
       "    </tr>\n",
       "    <tr>\n",
       "      <th>6</th>\n",
       "      <td>POINT (1028825.000 234661.000)</td>\n",
       "      <td>1263486</td>\n",
       "      <td>794164</td>\n",
       "      <td>4</td>\n",
       "      <td>2</td>\n",
       "      <td>Bronx</td>\n",
       "      <td>464392.991824</td>\n",
       "      <td>1.186925e+09</td>\n",
       "    </tr>\n",
       "  </tbody>\n",
       "</table>\n",
       "</div>"
      ],
      "text/plain": [
       "                         geometry   value1  value2  index_right  BoroCode  \\\n",
       "1   POINT (932450.000 139211.000)  1071661  793239            0         5   \n",
       "2   POINT (951725.000 158301.000)  1110026  793424            0         5   \n",
       "5  POINT (1009550.000 215571.000)  1225121  793979            1         4   \n",
       "6  POINT (1028825.000 234661.000)  1263486  794164            4         2   \n",
       "\n",
       "        BoroName     Shape_Leng    Shape_Area  \n",
       "1  Staten Island  330470.010332  1.623820e+09  \n",
       "2  Staten Island  330470.010332  1.623820e+09  \n",
       "5         Queens  896344.047763  3.045213e+09  \n",
       "6          Bronx  464392.991824  1.186925e+09  "
      ]
     },
     "execution_count": 15,
     "metadata": {},
     "output_type": "execute_result"
    }
   ],
   "source": [
    "join_inner_df = pois_df.sjoin(neighborhoods_df, how=\"inner\")\n",
    "join_inner_df"
   ]
  },
  {
   "cell_type": "markdown",
   "id": "3d2e9b8f",
   "metadata": {},
   "source": [
    "Finally we can plot the POIs that lie within one of the neighborhoods in NYC."
   ]
  },
  {
   "cell_type": "code",
   "execution_count": 16,
   "id": "192457da",
   "metadata": {},
   "outputs": [
    {
     "data": {
      "text/plain": [
       "(905464.7390380859, 1075092.8783935546, 112485.76063504723, 280480.4142594267)"
      ]
     },
     "execution_count": 16,
     "metadata": {},
     "output_type": "execute_result"
    },
    {
     "data": {
      "image/png": "[encoded data removed]",
      "text/plain": [
       "<Figure size 720x360 with 1 Axes>"
      ]
     },
     "metadata": {
      "needs_background": "light"
     },
     "output_type": "display_data"
    }
   ],
   "source": [
    "fig, ax = plt.subplots(1, figsize=(10, 5))\n",
    "neighborhoods_df.plot(ax=ax, facecolor='green')\n",
    "join_inner_df.plot(ax=ax, color='blue');\n",
    "ax.axis('off')"
   ]
  },
  {
   "cell_type": "markdown",
   "id": "1a84f7ed",
   "metadata": {},
   "source": [
    "## Other spatial relationships"
   ]
  },
  {
   "cell_type": "code",
   "execution_count": 26,
   "id": "efc8adc8",
   "metadata": {},
   "outputs": [
    {
     "data": {
      "image/svg+xml": [
       "<svg xmlns=\"http://www.w3.org/2000/svg\" xmlns:xlink=\"http://www.w3.org/1999/xlink\" width=\"100.0\" height=\"100.0\" viewBox=\"24.95079456 60.16905356 0.0028198800000041047 0.0011548800000014126\" preserveAspectRatio=\"xMinYMin meet\"><g transform=\"matrix(1,0,0,-1,0,120.339262)\"><path fill-rule=\"evenodd\" fill=\"#66cc99\" stroke=\"#555555\" stroke-width=\"5.639760000008209e-05\" opacity=\"0.6\" d=\"M 24.950899,60.169158 L 24.953492,60.169158 L 24.95351,60.170104 L 24.950958,60.16999 L 24.950899,60.169158 z\" /></g></svg>"
      ],
      "text/plain": [
       "<shapely.geometry.polygon.Polygon at 0x2f05c1313d0>"
      ]
     },
     "execution_count": 26,
     "metadata": {},
     "output_type": "execute_result"
    }
   ],
   "source": [
    "from shapely.geometry import Polygon\n",
    "\n",
    "# Create Point objects\n",
    "p1 = Point(24.952242, 60.1696017)\n",
    "p2 = Point(24.976567, 60.1612500)\n",
    "\n",
    "# Create a Polygon\n",
    "coords = [(24.950899, 60.169158), (24.953492, 60.169158), (24.953510, 60.170104), (24.950958, 60.169990)]\n",
    "poly = Polygon(coords)\n",
    "poly"
   ]
  },
  {
   "cell_type": "markdown",
   "id": "e473834a",
   "metadata": {},
   "source": [
    "We check whether the points are within the  polygon"
   ]
  },
  {
   "cell_type": "code",
   "execution_count": 27,
   "id": "0a7e30c7",
   "metadata": {},
   "outputs": [
    {
     "data": {
      "text/plain": [
       "True"
      ]
     },
     "execution_count": 27,
     "metadata": {},
     "output_type": "execute_result"
    }
   ],
   "source": [
    "p1.within(poly)"
   ]
  },
  {
   "cell_type": "code",
   "execution_count": 28,
   "id": "3b789330",
   "metadata": {},
   "outputs": [
    {
     "data": {
      "text/plain": [
       "False"
      ]
     },
     "execution_count": 28,
     "metadata": {},
     "output_type": "execute_result"
    }
   ],
   "source": [
    "p2.within(poly)"
   ]
  },
  {
   "cell_type": "markdown",
   "id": "606afcfa",
   "metadata": {},
   "source": [
    "## Intersect"
   ]
  },
  {
   "cell_type": "markdown",
   "id": "07b99e04",
   "metadata": {},
   "source": [
    "We create two lines"
   ]
  },
  {
   "cell_type": "code",
   "execution_count": 30,
   "id": "0fad9081",
   "metadata": {},
   "outputs": [],
   "source": [
    "from shapely.geometry import LineString, MultiLineString\n",
    "# Create two lines\n",
    "line_a = LineString([(0, 0), (1, 1)])\n",
    "line_b = LineString([(1, 1), (0, 2)])"
   ]
  },
  {
   "cell_type": "markdown",
   "id": "3f652809",
   "metadata": {},
   "source": [
    "and we check whether they intersect"
   ]
  },
  {
   "cell_type": "code",
   "execution_count": 31,
   "id": "ab1f0663",
   "metadata": {},
   "outputs": [
    {
     "data": {
      "text/plain": [
       "True"
      ]
     },
     "execution_count": 31,
     "metadata": {},
     "output_type": "execute_result"
    }
   ],
   "source": [
    "line_a.intersects(line_b)"
   ]
  },
  {
   "cell_type": "markdown",
   "id": "49439832",
   "metadata": {},
   "source": [
    "whether they touch"
   ]
  },
  {
   "cell_type": "code",
   "execution_count": 32,
   "id": "4db2e671",
   "metadata": {},
   "outputs": [
    {
     "data": {
      "text/plain": [
       "True"
      ]
     },
     "execution_count": 32,
     "metadata": {},
     "output_type": "execute_result"
    }
   ],
   "source": [
    "line_a.touches(line_b)"
   ]
  },
  {
   "cell_type": "code",
   "execution_count": 33,
   "id": "88ed2431",
   "metadata": {},
   "outputs": [
    {
     "data": {
      "image/svg+xml": [
       "<svg xmlns=\"http://www.w3.org/2000/svg\" xmlns:xlink=\"http://www.w3.org/1999/xlink\" width=\"100.0\" height=\"100.0\" viewBox=\"-0.08 -0.08 1.1600000000000001 2.16\" preserveAspectRatio=\"xMinYMin meet\"><g transform=\"matrix(1,0,0,-1,0,2.0)\"><g><polyline fill=\"none\" stroke=\"#66cc99\" stroke-width=\"0.0432\" points=\"0.0,0.0 1.0,1.0\" opacity=\"0.8\" /><polyline fill=\"none\" stroke=\"#66cc99\" stroke-width=\"0.0432\" points=\"1.0,1.0 0.0,2.0\" opacity=\"0.8\" /></g></g></svg>"
      ],
      "text/plain": [
       "<shapely.geometry.multilinestring.MultiLineString at 0x2f05d601fd0>"
      ]
     },
     "execution_count": 33,
     "metadata": {},
     "output_type": "execute_result"
    }
   ],
   "source": [
    "multi_line = MultiLineString([line_a, line_b])\n",
    "multi_line"
   ]
  },
  {
   "cell_type": "markdown",
   "id": "9fa893a9",
   "metadata": {},
   "source": [
    "### References\n",
    "* [Intro to Python GIS](https://automating-gis-processes.github.io/CSC18/lessons/L4/point-in-polygon.html)\n",
    "* [Shapely: A Python package for manipulation and analysis of planar geometric objects](https://shapely.readthedocs.io/en/stable/index.html)\n",
    "* [ISPRA - IdroGEO - Mosaicatura Nazionale e Regionale Pericolosita' Frane e Alluvioni](https://idrogeo.isprambiente.it/app/page/open-data) "
   ]
  },
  {
   "cell_type": "code",
   "execution_count": null,
   "id": "08e6bf4a",
   "metadata": {},
   "outputs": [],
   "source": []
  }
 ],
 "metadata": {
  "kernelspec": {
   "display_name": "Python 3 (ipykernel)",
   "language": "python",
   "name": "python3"
  },
  "language_info": {
   "codemirror_mode": {
    "name": "ipython",
    "version": 3
   },
   "file_extension": ".py",
   "mimetype": "text/x-python",
   "name": "python",
   "nbconvert_exporter": "python",
   "pygments_lexer": "ipython3",
   "version": "3.9.13"
  }
 },
 "nbformat": 4,
 "nbformat_minor": 5
}
