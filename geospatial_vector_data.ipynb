{
 "cells": [
  {
   "cell_type": "markdown",
   "metadata": {},
   "source": [
    "![datiaperti logo](images/datiaperti_small.png)"
   ]
  },
  {
   "cell_type": "markdown",
   "metadata": {},
   "source": [
    "# Geospatial Data Analysis - Vector Data\n",
    "This notebook is about GDAL/OGR, a library for vector geospatial data formats used to traslate one format to another among those supported. GDAL is written in C/C++ with bindings in other languages such as Python and Java. GDAL also provides a set of programs that can be used from the command line. Install the gdal package before using this notebook  \n",
    "\n",
    "$ conda install -c conda-forge gdal  \n",
    "\n",
    "$ conda install -c conda-forge pyshp  \n",
    "\n",
    "Use [GDAL/OGR Cookbook](https://pcjericks.github.io/py-gdalogr-cookbook/index.html) for references."
   ]
  },
  {
   "cell_type": "code",
   "execution_count": 2,
   "metadata": {},
   "outputs": [
    {
     "name": "stdout",
     "output_type": "stream",
     "text": [
      "NumPy version: 1.23.1\n",
      "GDAL version: 3.5.1\n",
      "GeoPandas version: 0.11.1\n",
      "shapefile version: 2.3.0\n"
     ]
    }
   ],
   "source": [
    "import os\n",
    "import sys\n",
    "import struct\n",
    "import zipfile\n",
    "from shapely import wkt, geometry\n",
    "import fiona\n",
    "import geopandas as gpd\n",
    "import pyproj\n",
    "import pandas as pd\n",
    "import numpy as np\n",
    "#import utm\n",
    "import shapefile as shp\n",
    "from osgeo import gdal_array\n",
    "from osgeo import gdal, ogr, osr\n",
    "from PIL import Image, ImageDraw\n",
    "import matplotlib.pyplot as plt\n",
    "%matplotlib inline\n",
    "print(\"NumPy version: %s\"%np.__version__)\n",
    "print(\"GDAL version: %s\"%gdal.__version__)\n",
    "print(\"GeoPandas version: %s\"%gpd.__version__)\n",
    "print(\"shapefile version: %s\"%shp.__version__)"
   ]
  },
  {
   "cell_type": "markdown",
   "metadata": {},
   "source": [
    "## Compressed files\n",
    "### Zip"
   ]
  },
  {
   "cell_type": "code",
   "execution_count": 2,
   "metadata": {
    "scrolled": true
   },
   "outputs": [
    {
     "name": "stdout",
     "output_type": "stream",
     "text": [
      "ACSST1Y2021.S1901-Data.csv\n",
      "ACSST1Y2021.S1901-Column-Metadata.csv\n",
      "ACSST1Y2021.S1901-Table-Notes.txt\n"
     ]
    }
   ],
   "source": [
    "zip = open(\"data/vector/US/us_census.zip\", \"rb\")\n",
    "zipShape = zipfile.ZipFile(zip)\n",
    "for fileName in zipShape.namelist():\n",
    "    print(fileName)\n",
    "    #out = open('data/vector/US/' + fileName, \"wb\")\n",
    "    #out.write(zipShape.read(fileName))\n",
    "    #out.close()"
   ]
  },
  {
   "cell_type": "markdown",
   "metadata": {},
   "source": [
    "## Vector Data\n",
    "### Esri shape file\n",
    "The Esri shapefile format has a fixed location and data type in the file header from byte 36 to byte 37 for the minimum x, minimum y, maximum x, and maximum y bounding box values."
   ]
  },
  {
   "cell_type": "code",
   "execution_count": 3,
   "metadata": {},
   "outputs": [
    {
     "data": {
      "text/plain": [
       "(318573.31825141667,)"
      ]
     },
     "execution_count": 3,
     "metadata": {},
     "output_type": "execute_result"
    }
   ],
   "source": [
    "path = os.path.relpath(\"data/vector/stbnd/stbnd.shp\")\n",
    "f = open(path,\"rb\")\n",
    "f.seek(36) \n",
    "struct.unpack(\"<d\", f.read(8)) # min x"
   ]
  },
  {
   "cell_type": "code",
   "execution_count": 4,
   "metadata": {},
   "outputs": [
    {
     "data": {
      "text/plain": [
       "(1035233.9673716214,)"
      ]
     },
     "execution_count": 4,
     "metadata": {},
     "output_type": "execute_result"
    }
   ],
   "source": [
    "struct.unpack(\"<d\", f.read(8)) # min y"
   ]
  },
  {
   "cell_type": "code",
   "execution_count": 5,
   "metadata": {},
   "outputs": [
    {
     "data": {
      "text/plain": [
       "(651004.9840024861,)"
      ]
     },
     "execution_count": 5,
     "metadata": {},
     "output_type": "execute_result"
    }
   ],
   "source": [
    "struct.unpack(\"<d\", f.read(8)) # max x"
   ]
  },
  {
   "cell_type": "code",
   "execution_count": 6,
   "metadata": {},
   "outputs": [
    {
     "data": {
      "text/plain": [
       "(1577852.5200537047,)"
      ]
     },
     "execution_count": 6,
     "metadata": {},
     "output_type": "execute_result"
    }
   ],
   "source": [
    "struct.unpack(\"<d\", f.read(8)) # max y"
   ]
  },
  {
   "cell_type": "markdown",
   "metadata": {},
   "source": [
    "### GeoJSON"
   ]
  },
  {
   "cell_type": "code",
   "execution_count": 7,
   "metadata": {},
   "outputs": [],
   "source": [
    "gc = { \"type\": \"GeometryCollection\",\n",
    "       \"geometries\": [\n",
    "          { \"type\": \"Point\",\n",
    "            \"coordinates\": [-89.33, 30.0]\n",
    "          },\n",
    "          { \"type\": \"LineString\",\n",
    "            \"coordinates\": [ [-89.33, 30.30], [-89.36, 30.28] ]\n",
    "          }\n",
    "       ]\n",
    "}"
   ]
  },
  {
   "cell_type": "code",
   "execution_count": 8,
   "metadata": {},
   "outputs": [
    {
     "data": {
      "text/plain": [
       "{'type': 'GeometryCollection',\n",
       " 'geometries': [{'type': 'Point', 'coordinates': [-89.33, 30.0]},\n",
       "  {'type': 'LineString', 'coordinates': [[-89.33, 30.3], [-89.36, 30.28]]}]}"
      ]
     },
     "execution_count": 8,
     "metadata": {},
     "output_type": "execute_result"
    }
   ],
   "source": [
    "gc"
   ]
  },
  {
   "cell_type": "markdown",
   "metadata": {},
   "source": [
    "## Geospatial Python Toolbox\n",
    "### Shapely\n",
    "It is a generic geometry library, a Python port of the [Java Topology Suite](https://github.com/locationtech/jts) that provides support fot topology operators for geometric objects. "
   ]
  },
  {
   "cell_type": "code",
   "execution_count": 9,
   "metadata": {},
   "outputs": [
    {
     "data": {
      "text/plain": [
       "16.0"
      ]
     },
     "execution_count": 9,
     "metadata": {},
     "output_type": "execute_result"
    }
   ],
   "source": [
    "wktSquare = \"POLYGON((0 0,4 0,4 4,0 4,0 0))\" # a square on a 2D reference system\n",
    "square = wkt.loads(wktSquare)\n",
    "square.area"
   ]
  },
  {
   "cell_type": "code",
   "execution_count": 10,
   "metadata": {},
   "outputs": [
    {
     "data": {
      "image/svg+xml": [
       "<svg xmlns=\"http://www.w3.org/2000/svg\" xmlns:xlink=\"http://www.w3.org/1999/xlink\" width=\"100.0\" height=\"100.0\" viewBox=\"-0.16 -0.16 4.32 4.32\" preserveAspectRatio=\"xMinYMin meet\"><g transform=\"matrix(1,0,0,-1,0,4.0)\"><path fill-rule=\"evenodd\" fill=\"#66cc99\" stroke=\"#555555\" stroke-width=\"0.0864\" opacity=\"0.6\" d=\"M 0.0,0.0 L 4.0,0.0 L 4.0,4.0 L 0.0,4.0 L 0.0,0.0 z\" /></g></svg>"
      ],
      "text/plain": [
       "<shapely.geometry.polygon.Polygon at 0x26ed2022340>"
      ]
     },
     "execution_count": 10,
     "metadata": {},
     "output_type": "execute_result"
    }
   ],
   "source": [
    "square"
   ]
  },
  {
   "cell_type": "markdown",
   "metadata": {},
   "source": [
    "We check whether a point lies within the square"
   ]
  },
  {
   "cell_type": "code",
   "execution_count": 11,
   "metadata": {},
   "outputs": [
    {
     "data": {
      "text/plain": [
       "True"
      ]
     },
     "execution_count": 11,
     "metadata": {},
     "output_type": "execute_result"
    }
   ],
   "source": [
    "wktPoint = 'POINT (2 2)'\n",
    "point = wkt.loads(wktPoint)\n",
    "point.within(square)"
   ]
  },
  {
   "cell_type": "code",
   "execution_count": 12,
   "metadata": {},
   "outputs": [
    {
     "data": {
      "image/svg+xml": [
       "<svg xmlns=\"http://www.w3.org/2000/svg\" xmlns:xlink=\"http://www.w3.org/1999/xlink\" width=\"100.0\" height=\"100.0\" viewBox=\"1.96 1.96 1.08 1.08\" preserveAspectRatio=\"xMinYMin meet\"><g transform=\"matrix(1,0,0,-1,0,5.0)\"><path fill-rule=\"evenodd\" fill=\"#66cc99\" stroke=\"#555555\" stroke-width=\"0.0216\" opacity=\"0.6\" d=\"M 2.0,2.0 L 3.0,2.0 L 2.0,3.0 L 2.0,2.0 z\" /></g></svg>"
      ],
      "text/plain": [
       "<shapely.geometry.polygon.Polygon at 0x26ecf6748b0>"
      ]
     },
     "execution_count": 12,
     "metadata": {},
     "output_type": "execute_result"
    }
   ],
   "source": [
    "wktTriangle = 'POLYGON((2 2, 3 2, 2 3, 2 2))'\n",
    "triangle = wkt.loads(wktTriangle)\n",
    "triangle"
   ]
  },
  {
   "cell_type": "markdown",
   "metadata": {},
   "source": [
    "We check whether the triangle lies within the square"
   ]
  },
  {
   "cell_type": "code",
   "execution_count": 13,
   "metadata": {},
   "outputs": [
    {
     "data": {
      "text/plain": [
       "True"
      ]
     },
     "execution_count": 13,
     "metadata": {},
     "output_type": "execute_result"
    }
   ],
   "source": [
    "triangle.within(square)"
   ]
  },
  {
   "cell_type": "markdown",
   "metadata": {},
   "source": [
    "### Fiona\n",
    "A simple Python API around the OGR library for data access."
   ]
  },
  {
   "cell_type": "code",
   "execution_count": 14,
   "metadata": {},
   "outputs": [],
   "source": [
    "shp_file_name = 'data/vector/US/cities_albers.shp'"
   ]
  },
  {
   "cell_type": "code",
   "execution_count": 15,
   "metadata": {},
   "outputs": [
    {
     "data": {
      "text/plain": [
       "'ESRI Shapefile'"
      ]
     },
     "execution_count": 15,
     "metadata": {},
     "output_type": "execute_result"
    }
   ],
   "source": [
    "f = fiona.open(shp_file_name)\n",
    "f.driver"
   ]
  },
  {
   "cell_type": "code",
   "execution_count": 16,
   "metadata": {},
   "outputs": [
    {
     "data": {
      "text/plain": [
       "{}"
      ]
     },
     "execution_count": 16,
     "metadata": {},
     "output_type": "execute_result"
    }
   ],
   "source": [
    "f.crs"
   ]
  },
  {
   "cell_type": "code",
   "execution_count": 17,
   "metadata": {},
   "outputs": [
    {
     "data": {
      "text/plain": [
       "(-6282848.754867505,\n",
       " -62785.72259264253,\n",
       " 3393444.0014464697,\n",
       " 6186491.5102767795)"
      ]
     },
     "execution_count": 17,
     "metadata": {},
     "output_type": "execute_result"
    }
   ],
   "source": [
    "f.bounds # pairs of geo coordinates that define a bounding box) "
   ]
  },
  {
   "cell_type": "code",
   "execution_count": 18,
   "metadata": {},
   "outputs": [
    {
     "data": {
      "text/plain": [
       "35432"
      ]
     },
     "execution_count": 18,
     "metadata": {},
     "output_type": "execute_result"
    }
   ],
   "source": [
    "len(list(f)) # number of polygongs in the shape file"
   ]
  },
  {
   "cell_type": "code",
   "execution_count": 19,
   "metadata": {},
   "outputs": [
    {
     "name": "stdout",
     "output_type": "stream",
     "text": [
      "{'type': 'Feature', 'id': '44', 'properties': OrderedDict([('CITIESX020', 45), ('FEATURE', 'Populated Place'), ('NAME', 'Anvik'), ('POP_RANGE', '0 - 9,999'), ('POP_2000', 104), ('FIPS55', '03880'), ('COUNTY', 'Yukon-Koyukuk Census Area'), ('FIPS', '02290'), ('STATE', 'AK'), ('STATE_FIPS', '02'), ('DISPLAY', 0)]), 'geometry': {'type': 'Point', 'coordinates': (-3510436.406032449, 5549048.212929771)}}\n"
     ]
    }
   ],
   "source": [
    "print(f[44])"
   ]
  },
  {
   "cell_type": "markdown",
   "metadata": {},
   "source": [
    "### GeoPandas"
   ]
  },
  {
   "cell_type": "code",
   "execution_count": 20,
   "metadata": {},
   "outputs": [
    {
     "data": {
      "text/plain": [
       "<AxesSubplot:>"
      ]
     },
     "execution_count": 20,
     "metadata": {},
     "output_type": "execute_result"
    },
    {
     "data": {
      "image/png": "[encoded data removed]",
      "text/plain": [
       "<Figure size 720x360 with 1 Axes>"
      ]
     },
     "metadata": {
      "needs_background": "light"
     },
     "output_type": "display_data"
    }
   ],
   "source": [
    "gdf = gpd.GeoDataFrame\n",
    "census = gdf.from_file('data/vector/US/cities_albers.shp')\n",
    "fig, ax = plt.subplots(1, figsize=(10, 5))\n",
    "census.plot(ax=ax)"
   ]
  },
  {
   "cell_type": "code",
   "execution_count": 21,
   "metadata": {},
   "outputs": [
    {
     "data": {
      "text/plain": [
       "[-6282848.754867505, -62785.72259264253, 3393444.0014464697, 6186491.5102767795]"
      ]
     },
     "execution_count": 21,
     "metadata": {},
     "output_type": "execute_result"
    }
   ],
   "source": [
    "r = shp.Reader(shp_file_name)\n",
    "r.bbox # pairs of coordinates of two points used to define a bounding box (min_xm, min_y, max_x, max_y)"
   ]
  },
  {
   "cell_type": "code",
   "execution_count": 22,
   "metadata": {},
   "outputs": [
    {
     "data": {
      "text/plain": [
       "35432"
      ]
     },
     "execution_count": 22,
     "metadata": {},
     "output_type": "execute_result"
    }
   ],
   "source": [
    "r.numRecords # number of polygons in the shape file"
   ]
  },
  {
   "cell_type": "code",
   "execution_count": 23,
   "metadata": {},
   "outputs": [
    {
     "data": {
      "text/plain": [
       "1"
      ]
     },
     "execution_count": 23,
     "metadata": {},
     "output_type": "execute_result"
    }
   ],
   "source": [
    "r.shapeType # 5 means polygons"
   ]
  },
  {
   "cell_type": "code",
   "execution_count": 24,
   "metadata": {},
   "outputs": [
    {
     "data": {
      "text/plain": [
       "['CITIESX020',\n",
       " 'FEATURE',\n",
       " 'NAME',\n",
       " 'POP_RANGE',\n",
       " 'POP_2000',\n",
       " 'FIPS55',\n",
       " 'COUNTY',\n",
       " 'FIPS',\n",
       " 'STATE',\n",
       " 'STATE_FIPS',\n",
       " 'DISPLAY']"
      ]
     },
     "execution_count": 24,
     "metadata": {},
     "output_type": "execute_result"
    }
   ],
   "source": [
    "[item[0] for item in r.fields[1:]] # record fields"
   ]
  },
  {
   "cell_type": "code",
   "execution_count": 25,
   "metadata": {},
   "outputs": [
    {
     "data": {
      "text/plain": [
       "Record #2: [3, 'Populated Place', 'Point Lay', 'Undetermined', -99999, '61700', 'North Slope Borough', '02185', 'AK', '02', 1]"
      ]
     },
     "execution_count": 25,
     "metadata": {},
     "output_type": "execute_result"
    }
   ],
   "source": [
    "r.record(2)"
   ]
  },
  {
   "cell_type": "markdown",
   "metadata": {},
   "source": [
    "### GDAL library"
   ]
  },
  {
   "cell_type": "markdown",
   "metadata": {},
   "source": [
    "We use the OGR module to work with vector data. It provides a unique interface to read and write data in different formats such as Esri shape file, GeoJSON and many other. A dataset in OGR contains one layer that can contain one or more features. A layer also contains information such as the coordinate system that are used for the coordinates of the features. A feature is a geographic object: a point, a line or a polygon. A feature has attributes, one of this is its geometry. "
   ]
  },
  {
   "cell_type": "code",
   "execution_count": 28,
   "metadata": {},
   "outputs": [
    {
     "name": "stdout",
     "output_type": "stream",
     "text": [
      "Bombo 75000 32.533299524864844 0.5832991056146284\n",
      "Fort Portal 42670 30.27500161597942 0.671004121125236\n",
      "Potenza 69060 15.798996495640267 40.642002130098206\n",
      "Campobasso 50762 14.655996558921856 41.56299911864397\n",
      "Aosta 34062 7.315002595706176 45.7370010670723\n",
      "Mariehamn 10682 19.949004471869102 60.09699618489543\n",
      "Ramallah 24599 35.206209378189556 31.90294475142406\n",
      "Vatican City 832 12.453386544971766 41.903282179960115\n",
      "Poitier 85960 0.3332765285345545 46.58329225573658\n",
      "Clermont-Ferrand 233050 3.080008095928406 45.779982115759424\n",
      "1249\n"
     ]
    }
   ],
   "source": [
    "fn = 'data/vector/global/ne_50m_populated_places.shp'\n",
    "ds = ogr.Open(fn, 0) # open in read-only mode\n",
    "if ds is None:\n",
    "    sys.exit('Could not open {0}.'.format(fn))\n",
    "layer = ds.GetLayer(0)\n",
    "num_features = layer.GetFeatureCount()\n",
    "i = 0\n",
    "for feature in layer:  # a feature is a geographic object: a point, a line or a polygon.\n",
    "    pt = feature.geometry()\n",
    "    x = pt.GetX()\n",
    "    y = pt.GetY()\n",
    "    name = feature.GetField('NAME')\n",
    "    pop = feature.GetField('POP_MAX')\n",
    "    print(name, pop, x, y)\n",
    "    i += 1\n",
    "    if i == 10:\n",
    "        break\n",
    "del ds\n",
    "print(num_features)"
   ]
  },
  {
   "cell_type": "markdown",
   "metadata": {},
   "source": [
    "Print the west and east longitude and the south and nord latitude of the bounding box that contains all the features in the a layer."
   ]
  },
  {
   "cell_type": "code",
   "execution_count": 29,
   "metadata": {},
   "outputs": [
    {
     "name": "stdout",
     "output_type": "stream",
     "text": [
      "(-122.66148376464844, -117.4260482788086, 45.638729095458984, 48.759552001953125)\n"
     ]
    }
   ],
   "source": [
    "ds = ogr.Open('data/vector/Washington/large_cities.geojson')\n",
    "layer = ds.GetLayer(0)\n",
    "extent = layer.GetExtent()\n",
    "print(extent)"
   ]
  },
  {
   "cell_type": "markdown",
   "metadata": {},
   "source": [
    "We can read the layer's coordinate system that is used by the features"
   ]
  },
  {
   "cell_type": "code",
   "execution_count": 30,
   "metadata": {},
   "outputs": [
    {
     "name": "stdout",
     "output_type": "stream",
     "text": [
      "GEOGCS[\"NAD83\",\n",
      "    DATUM[\"North_American_Datum_1983\",\n",
      "        SPHEROID[\"GRS 1980\",6378137,298.257222101,\n",
      "            AUTHORITY[\"EPSG\",\"7019\"]],\n",
      "        AUTHORITY[\"EPSG\",\"6269\"]],\n",
      "    PRIMEM[\"Greenwich\",0,\n",
      "        AUTHORITY[\"EPSG\",\"8901\"]],\n",
      "    UNIT[\"degree\",0.0174532925199433,\n",
      "        AUTHORITY[\"EPSG\",\"9122\"]],\n",
      "    AXIS[\"Latitude\",NORTH],\n",
      "    AXIS[\"Longitude\",EAST],\n",
      "    AUTHORITY[\"EPSG\",\"4269\"]]\n"
     ]
    }
   ],
   "source": [
    "print(layer.GetSpatialRef())"
   ]
  },
  {
   "cell_type": "markdown",
   "metadata": {},
   "source": [
    "We print the attributes (fields) used for the features"
   ]
  },
  {
   "cell_type": "code",
   "execution_count": 31,
   "metadata": {},
   "outputs": [
    {
     "name": "stdout",
     "output_type": "stream",
     "text": [
      "CITIESX020 Integer\n",
      "FEATURE String\n",
      "NAME String\n",
      "POP_RANGE String\n",
      "POPULATION Integer\n",
      "FIPS55 String\n",
      "COUNTY String\n",
      "FIPS String\n",
      "STATE String\n",
      "STATE_FIPS String\n",
      "DISPLAY Integer\n"
     ]
    }
   ],
   "source": [
    "for field in layer.schema:\n",
    "    print(field.name, field.GetTypeName())"
   ]
  },
  {
   "cell_type": "markdown",
   "metadata": {},
   "source": [
    "Let's see the 1st feature's type of the layer"
   ]
  },
  {
   "cell_type": "code",
   "execution_count": 32,
   "metadata": {},
   "outputs": [
    {
     "name": "stdout",
     "output_type": "stream",
     "text": [
      "POINT\n"
     ]
    }
   ],
   "source": [
    "feature0 = layer.GetFeature(0)\n",
    "print(feature0.geometry().GetGeometryName())"
   ]
  },
  {
   "cell_type": "markdown",
   "metadata": {},
   "source": [
    "now we can close the datasource"
   ]
  },
  {
   "cell_type": "code",
   "execution_count": 33,
   "metadata": {},
   "outputs": [],
   "source": [
    "del ds"
   ]
  },
  {
   "cell_type": "markdown",
   "metadata": {},
   "source": [
    "We create a new shape file copying the structure of another shape file."
   ]
  },
  {
   "cell_type": "code",
   "execution_count": 34,
   "metadata": {},
   "outputs": [],
   "source": [
    "ds = ogr.Open('data/vector/global/ne_50m_populated_places.shp', 1)\n",
    "if ds is None:\n",
    "    sys.exit('Could not open folder.')\n",
    "in_lyr = ds.GetLayer()\n",
    "#for field in in_lyr.schema:\n",
    "#    print(field.name, field.GetTypeName())"
   ]
  },
  {
   "cell_type": "code",
   "execution_count": 35,
   "metadata": {},
   "outputs": [],
   "source": [
    "if ds.GetLayer('capital_cities'):\n",
    "    ds.DeleteLayer('capital_cities')\n",
    "out_lyr = ds.CreateLayer('capital_cities', in_lyr.GetSpatialRef(), ogr.wkbPoint)\n",
    "out_lyr.CreateFields(in_lyr.schema)\n",
    "out_defn = out_lyr.GetLayerDefn()\n",
    "out_feat = ogr.Feature(out_defn)\n",
    "for in_feat in in_lyr:\n",
    "    if in_feat.GetField('FEATURECLA') == 'Admin-0 capital':\n",
    "        geom = in_feat.geometry()\n",
    "        out_feat.SetGeometry(geom)\n",
    "        for i in range(in_feat.GetFieldCount()):\n",
    "            value = in_feat.GetField(i)\n",
    "            out_feat.SetField(i, value)\n",
    "        out_lyr.CreateFeature(out_feat)"
   ]
  },
  {
   "cell_type": "markdown",
   "metadata": {},
   "source": [
    "We save the data by closing the datasource"
   ]
  },
  {
   "cell_type": "code",
   "execution_count": 36,
   "metadata": {},
   "outputs": [],
   "source": [
    "del ds"
   ]
  },
  {
   "cell_type": "code",
   "execution_count": 37,
   "metadata": {},
   "outputs": [
    {
     "data": {
      "image/png": "[encoded data removed]",
      "text/plain": [
       "<Figure size 720x360 with 1 Axes>"
      ]
     },
     "metadata": {
      "needs_background": "light"
     },
     "output_type": "display_data"
    }
   ],
   "source": [
    "capital_cities = gdf.from_file('data/vector/global/capital_cities.shp')\n",
    "fig, ax = plt.subplots(1, figsize=(10, 5))\n",
    "capital_cities.plot(ax=ax)\n",
    "plt.show()"
   ]
  },
  {
   "cell_type": "markdown",
   "metadata": {},
   "source": [
    "### Creating a new data source\n",
    "We can create new data sources in any format for which a driver is available in OGR."
   ]
  },
  {
   "cell_type": "code",
   "execution_count": 38,
   "metadata": {},
   "outputs": [],
   "source": [
    "json_driver = ogr.GetDriverByName('GeoJSON')\n",
    "json_fn = 'data/vector/global/my_datasource.json'\n",
    "if os.path.exists(json_fn):\n",
    "    json_driver.DeleteDataSource(json_fn)\n",
    "json_ds = json_driver.CreateDataSource(json_fn)\n",
    "srs = ogr.osr.SpatialReference()\n",
    "srs.ImportFromEPSG(32632)\n",
    "if json_ds is None:\n",
    "    sys.exit('Could not create {0}.'.format(json_fn))\n",
    "layer = json_ds.CreateLayer('capital_cities', srs, ogr.wkbPoint)"
   ]
  },
  {
   "cell_type": "code",
   "execution_count": 39,
   "metadata": {},
   "outputs": [
    {
     "data": {
      "text/plain": [
       "0"
      ]
     },
     "execution_count": 39,
     "metadata": {},
     "output_type": "execute_result"
    }
   ],
   "source": [
    "coord_fld = ogr.FieldDefn('X', ogr.OFTReal)\n",
    "coord_fld.SetWidth(8)\n",
    "coord_fld.SetPrecision(3)\n",
    "layer.CreateField(coord_fld)\n",
    "coord_fld.SetName('Y')\n",
    "layer.CreateField(coord_fld)"
   ]
  },
  {
   "cell_type": "code",
   "execution_count": 40,
   "metadata": {},
   "outputs": [
    {
     "name": "stdout",
     "output_type": "stream",
     "text": [
      "X Real\n",
      "Y Real\n"
     ]
    }
   ],
   "source": [
    "for field in layer.schema:\n",
    "    print(field.name, field.GetTypeName())\n",
    "#del json_ds"
   ]
  },
  {
   "cell_type": "code",
   "execution_count": 41,
   "metadata": {},
   "outputs": [
    {
     "data": {
      "text/plain": [
       "2"
      ]
     },
     "execution_count": 41,
     "metadata": {},
     "output_type": "execute_result"
    }
   ],
   "source": [
    "layer_def = layer.GetLayerDefn()\n",
    "layer_def.GetFieldCount()"
   ]
  },
  {
   "cell_type": "code",
   "execution_count": 42,
   "metadata": {},
   "outputs": [
    {
     "data": {
      "text/plain": [
       "0"
      ]
     },
     "execution_count": 42,
     "metadata": {},
     "output_type": "execute_result"
    }
   ],
   "source": [
    "feat = ogr.Feature(layer_def)\n",
    "point = ogr.Geometry(ogr.wkbPoint)\n",
    "point.AddPoint(1.0, 2.0)\n",
    "feat.SetGeometry(point)\n",
    "layer.CreateFeature(feat)"
   ]
  },
  {
   "cell_type": "code",
   "execution_count": 43,
   "metadata": {},
   "outputs": [],
   "source": [
    "def createPointFeature(layer_def, x, y):\n",
    "    feat = ogr.Feature(layer_def)\n",
    "    point = ogr.Geometry(ogr.wkbPoint)\n",
    "    point.AddPoint(x, y)\n",
    "    feat.SetGeometry(point)\n",
    "    layer.CreateFeature(feat)\n",
    "    return 0"
   ]
  },
  {
   "cell_type": "code",
   "execution_count": 44,
   "metadata": {},
   "outputs": [
    {
     "data": {
      "text/plain": [
       "0"
      ]
     },
     "execution_count": 44,
     "metadata": {},
     "output_type": "execute_result"
    }
   ],
   "source": [
    "createPointFeature(layer_def, 1.0, 2.0)\n",
    "createPointFeature(layer_def, 3.0, 5.0)\n",
    "createPointFeature(layer_def, 6.0, 3.0)"
   ]
  },
  {
   "cell_type": "code",
   "execution_count": 45,
   "metadata": {},
   "outputs": [
    {
     "data": {
      "text/plain": [
       "0"
      ]
     },
     "execution_count": 45,
     "metadata": {},
     "output_type": "execute_result"
    }
   ],
   "source": [
    "layer.GetFeatureCount()"
   ]
  },
  {
   "cell_type": "markdown",
   "metadata": {},
   "source": [
    "### Vector file formats\n",
    "We define a function that will print the layers contained in a data source using its file name as input argument."
   ]
  },
  {
   "cell_type": "code",
   "execution_count": 46,
   "metadata": {},
   "outputs": [],
   "source": [
    "def print_layers(fn):\n",
    "    ds = ogr.Open(fn, 0)\n",
    "    if ds is None:\n",
    "        raise OSError('Could not open {}'.format(fn))\n",
    "    for i in range(ds.GetLayerCount()):\n",
    "        layer = ds.GetLayer(i)\n",
    "        print('{0}: {1}'.format(i, layer.GetName()))"
   ]
  },
  {
   "cell_type": "markdown",
   "metadata": {},
   "source": [
    "An Esri shape file can contain only one layer"
   ]
  },
  {
   "cell_type": "code",
   "execution_count": 47,
   "metadata": {},
   "outputs": [
    {
     "name": "stdout",
     "output_type": "stream",
     "text": [
      "0: ne_50m_populated_places\n"
     ]
    }
   ],
   "source": [
    "fn = 'data/vector/global/ne_50m_populated_places.shp'\n",
    "print_layers(fn)"
   ]
  },
  {
   "cell_type": "markdown",
   "metadata": {},
   "source": [
    "An SQLite database can contain several layers"
   ]
  },
  {
   "cell_type": "code",
   "execution_count": 48,
   "metadata": {},
   "outputs": [
    {
     "name": "stdout",
     "output_type": "stream",
     "text": [
      "0: countries\n",
      "1: populated_places\n"
     ]
    }
   ],
   "source": [
    "fn = 'data/vector/global/natural_earth_50m.sqlite'\n",
    "print_layers(fn)"
   ]
  },
  {
   "cell_type": "code",
   "execution_count": 49,
   "metadata": {},
   "outputs": [],
   "source": [
    "ds = ogr.Open(fn)\n",
    "pp_layer = ds.GetLayer('populated_places')"
   ]
  },
  {
   "cell_type": "markdown",
   "metadata": {},
   "source": [
    "ESRI shape files can be stored in a folder. Each shape file defines a layer. "
   ]
  },
  {
   "cell_type": "code",
   "execution_count": 50,
   "metadata": {},
   "outputs": [
    {
     "name": "stdout",
     "output_type": "stream",
     "text": [
      "0: citiesx020\n",
      "1: cities_48\n",
      "2: cities_albers\n",
      "3: countyp010\n",
      "4: roadtrl020\n",
      "5: statep010\n",
      "6: states_48\n",
      "7: us_volcanos\n",
      "8: us_volcanos_albers\n",
      "9: volcanx020\n",
      "10: wtrbdyp010\n"
     ]
    }
   ],
   "source": [
    "fn = 'data/vector/US'\n",
    "print_layers(fn)"
   ]
  },
  {
   "cell_type": "markdown",
   "metadata": {},
   "source": [
    "CSV files in a folder can be used to represent different layers."
   ]
  },
  {
   "cell_type": "code",
   "execution_count": 51,
   "metadata": {},
   "outputs": [
    {
     "name": "stdout",
     "output_type": "stream",
     "text": [
      "0: cities\n",
      "1: volcanoes\n"
     ]
    }
   ],
   "source": [
    "fn = 'data/vector/US/csv'\n",
    "print_layers(fn)"
   ]
  },
  {
   "cell_type": "markdown",
   "metadata": {},
   "source": [
    "ESRI file geodatabase"
   ]
  },
  {
   "cell_type": "code",
   "execution_count": 52,
   "metadata": {},
   "outputs": [
    {
     "name": "stdout",
     "output_type": "stream",
     "text": [
      "0: countries_10m\n",
      "1: populated_places_10m\n",
      "2: countries_110m\n",
      "3: populated_places_110m\n"
     ]
    }
   ],
   "source": [
    "fn = 'data/vector/global/natural_earth.gdb'\n",
    "print_layers(fn)"
   ]
  },
  {
   "cell_type": "code",
   "execution_count": 53,
   "metadata": {},
   "outputs": [],
   "source": [
    "ds = ogr.Open(fn)\n",
    "layer = ds.GetLayer('countries_10m')"
   ]
  },
  {
   "cell_type": "markdown",
   "metadata": {},
   "source": [
    "We copy a layer from an ESRI geodatabase to a shape file."
   ]
  },
  {
   "cell_type": "code",
   "execution_count": 54,
   "metadata": {},
   "outputs": [],
   "source": [
    "gdb_ds = ogr.Open('data/vector/global/natural_earth.gdb')\n",
    "gdb_lyr = gdb_ds.GetLayerByName('countries_110m')\n",
    "shp_ds = ogr.Open('data/vector/global', 1)\n",
    "shp_ds.CopyLayer(gdb_lyr, 'copy_countries_110m')\n",
    "del shp_ds, gdb_ds"
   ]
  },
  {
   "cell_type": "markdown",
   "metadata": {},
   "source": [
    "### Filtering data with OGR\n",
    "We use the OGR library to filter features in a data source, e.g. a shapefile."
   ]
  },
  {
   "cell_type": "code",
   "execution_count": 55,
   "metadata": {},
   "outputs": [
    {
     "name": "stdout",
     "output_type": "stream",
     "text": [
      "Number of features 241\n"
     ]
    }
   ],
   "source": [
    "ds = ogr.Open('data/vector/global')\n",
    "country_layer = ds.GetLayer('ne_50m_admin_0_countries')\n",
    "featureCount = country_layer.GetFeatureCount()\n",
    "print('Number of features %d'%(featureCount))\n",
    "#for feature in country_layer:\n",
    "#    print(feature.geometry().GetY())"
   ]
  },
  {
   "cell_type": "code",
   "execution_count": 56,
   "metadata": {},
   "outputs": [
    {
     "name": "stdout",
     "output_type": "stream",
     "text": [
      "scalerank Integer\n",
      "featurecla String\n",
      "labelrank Real\n",
      "sovereignt String\n",
      "sov_a3 String\n",
      "adm0_dif Real\n",
      "level Real\n",
      "type String\n",
      "admin String\n",
      "adm0_a3 String\n",
      "geou_dif Real\n",
      "geounit String\n",
      "gu_a3 String\n",
      "su_dif Real\n",
      "subunit String\n",
      "su_a3 String\n",
      "brk_diff Real\n",
      "name String\n",
      "name_long String\n",
      "brk_a3 String\n",
      "brk_name String\n",
      "brk_group String\n",
      "abbrev String\n",
      "postal String\n",
      "formal_en String\n",
      "formal_fr String\n",
      "note_adm0 String\n",
      "note_brk String\n",
      "name_sort String\n",
      "name_alt String\n",
      "mapcolor7 Real\n",
      "mapcolor8 Real\n",
      "mapcolor9 Real\n",
      "mapcolor13 Real\n",
      "pop_est Real\n",
      "gdp_md_est Real\n",
      "pop_year Real\n",
      "lastcensus Real\n",
      "gdp_year Real\n",
      "economy String\n",
      "income_grp String\n",
      "wikipedia Real\n",
      "fips_10 String\n",
      "iso_a2 String\n",
      "iso_a3 String\n",
      "iso_n3 String\n",
      "un_a3 String\n",
      "wb_a2 String\n",
      "wb_a3 String\n",
      "woe_id Real\n",
      "adm0_a3_is String\n",
      "adm0_a3_us String\n",
      "adm0_a3_un Real\n",
      "adm0_a3_wb Real\n",
      "continent String\n",
      "region_un String\n",
      "subregion String\n",
      "region_wb String\n",
      "name_len Real\n",
      "long_len Real\n",
      "abbrev_len Real\n",
      "tiny Real\n",
      "homepart Real\n"
     ]
    }
   ],
   "source": [
    "for field in country_layer.schema:\n",
    "    print(field.name, field.GetTypeName())"
   ]
  },
  {
   "cell_type": "markdown",
   "metadata": {},
   "source": [
    "### Attribute filtering\n",
    "We select some features by one of their attibutes."
   ]
  },
  {
   "cell_type": "code",
   "execution_count": 57,
   "metadata": {},
   "outputs": [
    {
     "data": {
      "text/plain": [
       "0"
      ]
     },
     "execution_count": 57,
     "metadata": {},
     "output_type": "execute_result"
    }
   ],
   "source": [
    "country_layer.SetAttributeFilter(\"continent = 'Asia'\")"
   ]
  },
  {
   "cell_type": "code",
   "execution_count": 58,
   "metadata": {},
   "outputs": [
    {
     "data": {
      "text/plain": [
       "53"
      ]
     },
     "execution_count": 58,
     "metadata": {},
     "output_type": "execute_result"
    }
   ],
   "source": [
    "country_layer.GetFeatureCount()"
   ]
  },
  {
   "cell_type": "code",
   "execution_count": 59,
   "metadata": {},
   "outputs": [
    {
     "data": {
      "text/plain": [
       "'United Arab Emirates'"
      ]
     },
     "execution_count": 59,
     "metadata": {},
     "output_type": "execute_result"
    }
   ],
   "source": [
    "country_layer.GetFeature(7).GetField('name')"
   ]
  },
  {
   "cell_type": "code",
   "execution_count": 60,
   "metadata": {},
   "outputs": [
    {
     "data": {
      "text/plain": [
       "0"
      ]
     },
     "execution_count": 60,
     "metadata": {},
     "output_type": "execute_result"
    }
   ],
   "source": [
    "country_layer.SetAttributeFilter(\"continent = 'South America'\")"
   ]
  },
  {
   "cell_type": "code",
   "execution_count": 61,
   "metadata": {},
   "outputs": [
    {
     "data": {
      "text/plain": [
       "13"
      ]
     },
     "execution_count": 61,
     "metadata": {},
     "output_type": "execute_result"
    }
   ],
   "source": [
    "country_layer.GetFeatureCount()"
   ]
  },
  {
   "cell_type": "code",
   "execution_count": 68,
   "metadata": {},
   "outputs": [
    {
     "data": {
      "image/svg+xml": [
       "<svg xmlns=\"http://www.w3.org/2000/svg\" xmlns:xlink=\"http://www.w3.org/1999/xlink\" width=\"100.0\" height=\"100.0\" viewBox=\"6.1534101562500165 36.21351757812499 12.806753906250085 11.342935546875012\" preserveAspectRatio=\"xMinYMin meet\"><g transform=\"matrix(1,0,0,-1,0,83.769970703125)\"><g><path fill-rule=\"evenodd\" fill=\"#66cc99\" stroke=\"#555555\" stroke-width=\"0.2561350781250017\" opacity=\"0.6\" d=\"M 12.05126953125,36.75703125 L 12.0033203125,36.74599609375 L 11.940625,36.78037109375 L 11.9364257812501,36.82861328125 L 11.948046875,36.84306640625 L 12.02421875,36.8209472656251 L 12.048046875,36.7763671875 L 12.05126953125,36.75703125 z\" /><path fill-rule=\"evenodd\" fill=\"#66cc99\" stroke=\"#555555\" stroke-width=\"0.2561350781250017\" opacity=\"0.6\" d=\"M 15.5765625000001,38.2203125 L 15.50888671875,38.106640625 L 15.47568359375,38.062939453125 L 15.23447265625,37.784814453125 L 15.2068359375,37.720556640625 L 15.1898437500001,37.650732421875 L 15.16484375,37.58955078125 L 15.1310546875001,37.531884765625 L 15.09951171875,37.45859375 L 15.1056640625,37.3754882812501 L 15.1169921875,37.334716796875 L 15.14599609375,37.3080078125 L 15.19365234375,37.282861328125 L 15.2302734375,37.2443359375 L 15.17412109375,37.2091796875 L 15.23603515625,37.138720703125 L 15.288671875,37.0969238281251 L 15.295703125,37.05517578125 L 15.2945312500001,37.0132812500001 L 15.1851562500001,36.934814453125 L 15.1423828125,36.8916015625001 L 15.1158203125001,36.8392578125001 L 15.104296875,36.7852539062501 L 15.1163085937501,36.736474609375 L 15.11259765625,36.687841796875 L 15.0024414062501,36.693896484375 L 14.8896484375,36.72353515625 L 14.7759765625,36.710400390625 L 14.61435546875,36.7666015625 L 14.55546875,36.7767578125 L 14.50185546875,36.798681640625 L 14.3672851562501,36.9728515625 L 14.25908203125,37.046435546875 L 14.14296875,37.103662109375 L 14.02431640625,37.10712890625 L 13.90546875,37.100634765625 L 13.8005859375001,37.135888671875 L 13.587109375,37.254150390625 L 13.3609375,37.34873046875 L 13.26494140625,37.4103515625 L 13.2210937500001,37.4518066406251 L 13.169921875,37.479296875 L 13.04033203125,37.50654296875 L 12.92412109375,37.5705078125 L 12.87119140625,37.5751953125001 L 12.75732421875,37.5673828125 L 12.6990234375,37.571826171875 L 12.640234375,37.5943359375 L 12.5267578125001,37.66953125 L 12.45439453125,37.773779296875 L 12.435546875,37.819775390625 L 12.48681640625,37.938720703125 L 12.5476562500001,38.0529296875 L 12.6016601562501,38.0849609375 L 12.66435546875,38.1079101562501 L 12.7023437500001,38.14169921875 L 12.734375,38.183056640625 L 12.85068359375,38.063720703125 L 12.902734375,38.03486328125 L 12.95546875,38.04130859375 L 13.0490234375,38.08408203125 L 13.0568359375001,38.130908203125 L 13.1599609375,38.1903320312501 L 13.29111328125,38.191455078125 L 13.35166015625,38.180517578125 L 13.38349609375,38.126806640625 L 13.4334960937501,38.11025390625 L 13.49130859375,38.103125 L 13.6815429687501,38.000732421875 L 13.73486328125,37.984033203125 L 13.7888671875,37.981201171875 L 13.93662109375,38.024169921875 L 14.05,38.04052734375 L 14.2876953125,38.0168457031251 L 14.4162109375,38.0425781250001 L 14.5059570312501,38.0455078125 L 14.6367187500001,38.08505859375 L 14.73720703125,38.15078125 L 14.7896484375,38.1669921875 L 14.8458984375,38.1716796875 L 14.9819335937501,38.167578125 L 15.11875,38.152734375 L 15.1760742187501,38.16806640625 L 15.2240234375001,38.21103515625 L 15.27958984375,38.23037109375 L 15.3407226562501,38.217333984375 L 15.49873046875,38.290869140625 L 15.5683593750001,38.2958984375 L 15.6346679687501,38.267578125 L 15.5765625000001,38.2203125 z\" /><path fill-rule=\"evenodd\" fill=\"#66cc99\" stroke=\"#555555\" stroke-width=\"0.2561350781250017\" opacity=\"0.6\" d=\"M 8.47890625000002,39.067529296875 L 8.42148437500003,38.96865234375 L 8.36093750000006,39.038671875 L 8.35859375000001,39.098779296875 L 8.36679687500001,39.11591796875 L 8.44062500000004,39.090625 L 8.47890625000002,39.067529296875 z\" /><path fill-rule=\"evenodd\" fill=\"#66cc99\" stroke=\"#555555\" stroke-width=\"0.2561350781250017\" opacity=\"0.6\" d=\"M 13.9382812500001,40.705615234375 L 13.89365234375,40.69697265625 L 13.8676757812501,40.708740234375 L 13.853515625,40.724072265625 L 13.8711914062501,40.76181640625 L 13.962109375,40.7394042968751 L 13.9608398437501,40.7181640625 L 13.9382812500001,40.705615234375 z\" /><path fill-rule=\"evenodd\" fill=\"#66cc99\" stroke=\"#555555\" stroke-width=\"0.2561350781250017\" opacity=\"0.6\" d=\"M 8.28603515625008,41.03984375 L 8.25273437500005,40.994140625 L 8.20566406250003,40.9974609375001 L 8.22402343750005,41.031298828125 L 8.26738281249999,41.0991210937501 L 8.32021484375002,41.121875 L 8.34375000000003,41.101611328125 L 8.31894531250003,41.062744140625 L 8.28603515625008,41.03984375 z\" /><path fill-rule=\"evenodd\" fill=\"#66cc99\" stroke=\"#555555\" stroke-width=\"0.2561350781250017\" opacity=\"0.6\" d=\"M 9.63203125000001,40.88203125 L 9.68203125000008,40.818115234375 L 9.79433593750005,40.556201171875 L 9.80527343750006,40.499560546875 L 9.78281250000001,40.44150390625 L 9.75419921875005,40.40029296875 L 9.64296875000002,40.268408203125 L 9.65947265625002,40.159228515625 L 9.70078124999998,40.091796875 L 9.70673828125004,40.017041015625 L 9.68603515625,39.924365234375 L 9.61699218750007,39.35439453125 L 9.58359375000001,39.253564453125 L 9.56250000000006,39.1660156250001 L 9.486328125,39.13955078125 L 9.38808593750005,39.167529296875 L 9.26416015625003,39.216796875 L 9.20693359375002,39.213818359375 L 9.14931640625008,39.19697265625 L 9.10175781250007,39.211279296875 L 9.05634765625007,39.23916015625 L 9.02265625000004,39.04326171875 L 8.96660156250007,38.963720703125 L 8.88134765625003,38.912890625 L 8.80117187500002,38.9096679687501 L 8.71855468750007,38.926708984375 L 8.64853515625003,38.9265625 L 8.59541015625004,38.964306640625 L 8.55332031249998,39.030322265625 L 8.48623046875008,39.110498046875 L 8.41816406250007,39.205712890625 L 8.41074218749998,39.291796875 L 8.39912109375001,39.481591796875 L 8.41865234375001,39.523046875 L 8.44707031250002,39.56279296875 L 8.46103515625001,39.647705078125 L 8.45117187500006,39.7216796875 L 8.47109375000002,39.748095703125 L 8.51074218750003,39.7216796875 L 8.54052734375006,39.731591796875 L 8.53867187500003,39.769677734375 L 8.54775390625002,39.8392089843751 L 8.49589843750002,39.8974609375 L 8.40781250000001,39.917236328125 L 8.39931640625005,39.9781738281251 L 8.40859375000008,40.037646484375 L 8.45507812500006,40.077587890625 L 8.47080078125006,40.130712890625 L 8.47128906250006,40.29267578125 L 8.40917968750003,40.35234375 L 8.38535156250006,40.44267578125 L 8.35322265624998,40.500537109375 L 8.29550781250003,40.558642578125 L 8.23027343750007,40.60595703125 L 8.18994140625003,40.651611328125 L 8.18085937500004,40.771044921875 L 8.20380859375001,40.8707031250001 L 8.22421875000001,40.913330078125 L 8.24521484375001,40.90703125 L 8.31015625000001,40.85751953125 L 8.36328125,40.846337890625 L 8.46845703125001,40.834326171875 L 8.57187500000003,40.8501953125001 L 8.69892578125007,40.895263671875 L 8.82119140625002,40.94990234375 L 8.99814453125001,41.1103515625 L 9.10722656250005,41.142919921875 L 9.16308593750006,41.18515625 L 9.18212890625003,41.2421875 L 9.22841796875002,41.257080078125 L 9.28300781250005,41.20166015625 L 9.35078125000001,41.1958984375001 L 9.45517578125003,41.150146484375 L 9.50019531250007,41.10634765625 L 9.53876953125001,41.053662109375 L 9.57568359375,41.030517578125 L 9.61533203124998,41.01728515625 L 9.62119140625003,41.0048828125 L 9.58974609375002,40.99248046875 L 9.55371093750006,40.9321289062501 L 9.57402343750002,40.91474609375 L 9.63203125000001,40.88203125 z\" /><path fill-rule=\"evenodd\" fill=\"#66cc99\" stroke=\"#555555\" stroke-width=\"0.2561350781250017\" opacity=\"0.6\" d=\"M 10.3951171875,42.858154296875 L 10.4283203125001,42.819189453125 L 10.4322265625001,42.79658203125 L 10.4099609375,42.7709960937501 L 10.4193359375,42.71318359375 L 10.33564453125,42.7611328125 L 10.2089843750001,42.7369140625 L 10.13125,42.742041015625 L 10.1097656250001,42.78505859375 L 10.1275390625001,42.810302734375 L 10.2482421875001,42.815771484375 L 10.2857421875001,42.828076171875 L 10.3589843750001,42.822314453125 L 10.3951171875,42.858154296875 z\" /><path fill-rule=\"evenodd\" fill=\"#66cc99\" stroke=\"#555555\" stroke-width=\"0.2561350781250017\" opacity=\"0.6\" d=\"M 12.1307617187501,46.984765625 L 12.1541015625,46.93525390625 L 12.26796875,46.835888671875 L 12.330078125,46.759814453125 L 12.38828125,46.70263671875 L 12.47919921875,46.672509765625 L 12.5986328125,46.6541015625 L 12.6998046875,46.6474609375 L 12.8055664062501,46.62587890625 L 13.16875,46.57265625 L 13.3515625,46.55791015625 L 13.4900390625,46.55556640625 L 13.7,46.520263671875 L 13.6796875000001,46.462890625 L 13.6371093750001,46.44853515625 L 13.56328125,46.415087890625 L 13.478515625,46.369189453125 L 13.39951171875,46.317529296875 L 13.37822265625,46.26162109375 L 13.399609375,46.224951171875 L 13.42099609375,46.2123046875 L 13.4498046875,46.22353515625 L 13.4917968750001,46.2166015625 L 13.5447265625,46.19658203125 L 13.63251953125,46.17705078125 L 13.6349609375,46.157763671875 L 13.6166015625001,46.13310546875 L 13.548046875,46.089111328125 L 13.48642578125,46.03955078125 L 13.4802734375,46.009228515625 L 13.4876953125,45.987109375 L 13.5091796875001,45.973779296875 L 13.6005859375,45.97978515625 L 13.6139648437501,45.961669921875 L 13.56962890625,45.834130859375 L 13.5833984375001,45.8123535156251 L 13.6634765625,45.7919921875 L 13.7216796875,45.761279296875 L 13.83115234375,45.680419921875 L 13.8747070312501,45.6148437500001 L 13.8447265625,45.59287109375 L 13.7759765625,45.581982421875 L 13.7198242187501,45.58759765625 L 13.78330078125,45.62724609375 L 13.6283203125001,45.770947265625 L 13.558203125,45.770703125 L 13.46513671875,45.7099609375 L 13.2063476562501,45.77138671875 L 13.15673828125,45.74658203125 L 13.1201171875,45.697900390625 L 13.0302734375,45.6375 L 12.90302734375,45.610791015625 L 12.76123046875,45.544287109375 L 12.6117187500001,45.497216796875 L 12.49755859375,45.461669921875 L 12.43212890625,45.467919921875 L 12.5361328125001,45.544921875 L 12.4917968750001,45.5462890625 L 12.35380859375,45.4919921875 L 12.2743164062501,45.446044921875 L 12.248828125,45.36884765625 L 12.22568359375,45.24150390625 L 12.286328125,45.20771484375 L 12.3924804687501,45.0397949218751 L 12.5234375,44.96796875 L 12.4979492187501,44.8994140625001 L 12.46357421875,44.84521484375 L 12.3844726562501,44.79833984375 L 12.31904296875,44.83310546875 L 12.27890625,44.8322265625 L 12.24833984375,44.722509765625 L 12.30498046875,44.4294433593751 L 12.3962890625001,44.223876953125 L 12.48681640625,44.134228515625 L 12.69111328125,43.9947265625 L 12.90703125,43.92119140625 L 13.2953125000001,43.686083984375 L 13.508203125,43.611669921875 L 13.56416015625,43.5712890625 L 13.6932617187501,43.389892578125 L 13.8046875,43.18037109375 L 13.92490234375,42.8515625 L 14.01044921875,42.6895507812501 L 14.18271484375,42.5064453125001 L 14.54072265625,42.244287109375 L 14.8661132812501,42.0525390625 L 15.16875,41.934033203125 L 15.40498046875,41.913232421875 L 15.9640625,41.939453125 L 16.0615234375,41.928125 L 16.1646484375,41.89619140625 L 16.1891601562501,41.814013671875 L 16.1512695312501,41.75849609375 L 16.03369140625,41.7007812500001 L 15.91376953125,41.620849609375 L 15.90048828125,41.512060546875 L 16.0125976562501,41.435400390625 L 16.5518554687501,41.23203125 L 17.1034179687501,41.062158203125 L 17.2751953125001,40.975439453125 L 17.47421875,40.8405761718751 L 17.95498046875,40.65517578125 L 18.0361328125,40.56494140625 L 18.32822265625,40.370849609375 L 18.46064453125,40.221044921875 L 18.4858398437501,40.104833984375 L 18.42255859375,39.986865234375 L 18.3934570312501,39.90361328125 L 18.34375,39.82138671875 L 18.2193359375,39.8525390625 L 18.0779296875,39.936962890625 L 17.8650390625001,40.28017578125 L 17.4761718750001,40.31494140625 L 17.39580078125,40.340234375 L 17.2577148437501,40.399072265625 L 17.2494140625001,40.437890625 L 17.21533203125,40.48642578125 L 17.17998046875,40.502783203125 L 17.03125,40.5134765625 L 16.92822265625,40.458056640625 L 16.8070312500001,40.32646484375 L 16.6696289062501,40.13720703125 L 16.52998046875,39.85966796875 L 16.5218750000001,39.74755859375 L 16.59775390625,39.638916015625 L 16.8243164062501,39.5783203125 L 16.9992187500001,39.481591796875 L 17.11455078125,39.380615234375 L 17.1229492187501,39.136572265625 L 17.174609375,38.998095703125 L 17.0985351562501,38.9193359375 L 16.95146484375,38.9397949218751 L 16.7554687500001,38.889697265625 L 16.61669921875,38.800146484375 L 16.5589843750001,38.714794921875 L 16.57421875,38.4935546875 L 16.54560546875,38.40908203125 L 16.282421875,38.249560546875 L 16.144140625,38.086376953125 L 16.1097656250001,38.01865234375 L 16.0568359375,37.941845703125 L 15.7245117187501,37.939111328125 L 15.64580078125,38.034228515625 L 15.64306640625,38.175390625 L 15.7001953125,38.2623046875001 L 15.82236328125,38.302978515625 L 15.90478515625,38.48349609375 L 15.87890625,38.613916015625 L 15.926953125,38.671728515625 L 15.97236328125,38.71259765625 L 16.06552734375,38.73642578125 L 16.19677734375,38.759228515625 L 16.2099609375,38.94111328125 L 16.107421875,39.023828125 L 16.0714843750001,39.139453125 L 16.0236328125,39.35361328125 L 15.8543945312501,39.626513671875 L 15.7636718750001,39.870068359375 L 15.6927734375,39.990185546875 L 15.58515625,40.0528320312501 L 15.3909179687501,40.0521484375 L 15.2945312500001,40.07001953125 L 14.95087890625,40.239013671875 L 14.926953125,40.26474609375 L 14.9291015625,40.3095703125001 L 14.9861328125,40.377490234375 L 14.9476562500001,40.4693359375 L 14.90693359375,40.5560546875 L 14.83955078125,40.62998046875 L 14.7657226562501,40.668408203125 L 14.61123046875,40.644775390625 L 14.5569335937501,40.626416015625 L 14.4593750000001,40.63271484375 L 14.38271484375,40.599853515625 L 14.33994140625,40.598828125 L 14.4605468750001,40.7287109375 L 14.428125,40.759326171875 L 14.3088867187501,40.8126464843751 L 14.1471679687501,40.820703125 L 14.10234375,40.8271484375 L 14.07587890625,40.7939453125001 L 14.0443359375001,40.8122558593751 L 14.04765625,40.8703125 L 13.8597656250001,41.12998046875 L 13.7333984375001,41.23564453125 L 13.6697265625001,41.2544921875 L 13.55478515625,41.232177734375 L 13.3619140625001,41.278515625 L 13.2468750000001,41.2888671875 L 13.1833984375,41.277685546875 L 13.0886718750001,41.24384765625 L 13.0410156250001,41.2662109375 L 13.02421875,41.3009277343751 L 12.8492187500001,41.408740234375 L 12.630859375,41.469677734375 L 12.2056640625,41.812646484375 L 12.07529296875,41.940869140625 L 11.80703125,42.08203125 L 11.6373046875001,42.287548828125 L 11.4984375,42.3629394531251 L 11.2962890625001,42.423291015625 L 11.2497070312501,42.41572265625 L 11.1888671875,42.393115234375 L 11.1412109375,42.389892578125 L 11.1032226562501,42.4166015625001 L 11.141796875,42.444091796875 L 11.1847656250001,42.456591796875 L 11.1677734375001,42.5351562500001 L 10.93779296875,42.738720703125 L 10.803125,42.804296875 L 10.76513671875,42.844677734375 L 10.737109375,42.899951171875 L 10.7083984375,42.936328125 L 10.64462890625,42.9571777343751 L 10.590234375,42.95361328125 L 10.51484375,42.967529296875 L 10.5172851562501,43.06513671875 L 10.53232421875,43.14013671875 L 10.5208007812501,43.20380859375 L 10.4475585937501,43.37119140625 L 10.3205078125,43.5130859375 L 10.24580078125,43.852099609375 L 10.1880859375001,43.947509765625 L 10.04765625,44.019970703125 L 9.73085937500008,44.1011718750001 L 9.28935546875002,44.31923828125 L 9.19599609375001,44.322998046875 L 8.93037109375007,44.407763671875 L 8.76582031250004,44.422314453125 L 8.55195312500007,44.346142578125 L 8.29238281250002,44.1365234375 L 8.08164062500001,43.9189453125001 L 8.00498046875001,43.8767578125 L 7.73330078125008,43.802587890625 L 7.4931640625,43.767138671875 L 7.49052734375002,43.82294921875 L 7.48203125000006,43.864892578125 L 7.52265625000007,43.911083984375 L 7.58964843750005,43.9654296875 L 7.65146484375003,44.033642578125 L 7.67714843750002,44.083154296875 L 7.66503906250003,44.116015625 L 7.63720703125006,44.16484375 L 7.59941406250007,44.168359375 L 7.37089843750007,44.127392578125 L 7.31855468750007,44.13798828125 L 7.14941406250006,44.201708984375 L 6.96728515625,44.280029296875 L 6.90019531249999,44.3357421875 L 6.87480468750007,44.392041015625 L 6.89384765625005,44.428173828125 L 6.87861328125004,44.46328125 L 6.84296875000007,44.510693359375 L 6.87519531250007,44.56455078125 L 6.93193359375007,44.631640625 L 6.96035156250008,44.6771484375 L 7.00791015625001,44.68896484375 L 7.03066406250002,44.7166992187501 L 6.99267578125,44.827294921875 L 6.97285156250007,44.84501953125 L 6.93984375000008,44.858740234375 L 6.88935546875001,44.860302734375 L 6.80107421875005,44.883154296875 L 6.73818359375002,44.92138671875 L 6.72470703125003,44.972998046875 L 6.69140625,45.022607421875 L 6.63476562500003,45.0681640625 L 6.62773437500002,45.11796875 L 6.69228515625002,45.144287109375 L 6.78037109375001,45.1453125 L 6.84228515625003,45.1356445312501 L 6.98125000000007,45.215576171875 L 7.03242187500004,45.222607421875 L 7.07832031250004,45.23994140625 L 7.11679687499998,45.3490234375 L 7.14638671875005,45.38173828125 L 7.15341796874998,45.400927734375 L 7.12607421875001,45.423681640625 L 7.01367187500003,45.50048828125 L 6.96240234375006,45.58056640625 L 6.88144531250001,45.670361328125 L 6.80625000000003,45.710009765625 L 6.79091796875002,45.740869140625 L 6.78916015625003,45.780078125 L 6.80449218750005,45.8145507812501 L 6.94082031250002,45.868359375 L 7.02109375000003,45.92578125 L 7.05576171874998,45.90380859375 L 7.12900390624998,45.880419921875 L 7.32792968750002,45.912353515625 L 7.45156250000005,45.9444335937501 L 7.53857421875003,45.978173828125 L 7.59257812500002,45.972216796875 L 7.78789062500002,45.921826171875 L 7.85234374999999,45.9474609375 L 7.9931640625,46.01591796875 L 8.01425781250003,46.051904296875 L 8.12519531250007,46.1609375 L 8.12724609375005,46.18759765625 L 8.08154296875006,46.256005859375 L 8.09570312500003,46.271044921875 L 8.23193359375006,46.3412109375 L 8.29853515625004,46.40341796875 L 8.37070312500001,46.4451171875 L 8.42255859374998,46.446044921875 L 8.43681640625005,46.431884765625 L 8.44296875000006,46.402783203125 L 8.43847656250003,46.282861328125 L 8.45839843750002,46.2458984375 L 8.56542968750006,46.159814453125 L 8.64169921875006,46.110791015625 L 8.81855468750001,46.0771484375 L 8.82675781250001,46.06103515625 L 8.77802734375004,45.99619140625 L 8.88515624999999,45.9187011718751 L 8.904296875,45.8619628906251 L 8.95371093750003,45.830029296875 L 9.02373046875007,45.845703125 L 9.04667968750005,45.8755859375001 L 9.01914062500003,45.928125 L 8.99892578125008,45.98310546875 L 9.00302734375003,46.014892578125 L 9.02236328125008,46.05146484375 L 9.07099609375004,46.10244140625 L 9.20341796875002,46.21923828125 L 9.25107421875003,46.286767578125 L 9.25976562500003,46.3912597656251 L 9.26015625000002,46.4751953125 L 9.30439453125007,46.495556640625 L 9.39931640625002,46.4806640625 L 9.42763671875002,46.48232421875 L 9.44062500000001,46.430810546875 L 9.48105468749998,46.348779296875 L 9.52871093750002,46.306201171875 L 9.57958984375,46.29609375 L 9.63945312500002,46.2958984375 L 9.78779296875004,46.346044921875 L 9.88447265625001,46.3677734375001 L 9.93925781250007,46.36181640625 L 9.97167968750003,46.327685546875 L 10.041015625,46.2380859375 L 10.08056640625,46.227978515625 L 10.1283203125001,46.238232421875 L 10.14521484375,46.2535156250001 L 10.1298828125,46.28798828125 L 10.1096679687501,46.362841796875 L 10.08193359375,46.420751953125 L 10.0456054687501,46.4479003906251 L 10.03828125,46.483203125 L 10.0612304687501,46.54677734375 L 10.0870117187501,46.59990234375 L 10.1375,46.61435546875 L 10.1955078125001,46.62109375 L 10.2722656250001,46.56484375 L 10.3630859375,46.5470703125 L 10.4306640625,46.550048828125 L 10.44248046875,46.582861328125 L 10.43828125,46.61884765625 L 10.39794921875,46.6650390625001 L 10.4060546875,46.73486328125 L 10.45283203125,46.86494140625 L 10.4793945312501,46.8551269531251 L 10.57978515625,46.8537109375 L 10.6892578125,46.84638671875 L 10.759765625,46.793310546875 L 10.82890625,46.775244140625 L 10.92734375,46.769482421875 L 10.99326171875,46.777001953125 L 11.02509765625,46.79697265625 L 11.0634765625001,46.859130859375 L 11.13388671875,46.9361816406251 L 11.24443359375,46.97568359375 L 11.4332031250001,46.983056640625 L 11.5275390625,46.997412109375 L 11.6254882812501,46.99658203125 L 11.6994140625,46.98466796875 L 11.77568359375,46.986083984375 L 11.9695312500001,47.039697265625 L 12.16943359375,47.08212890625 L 12.1971679687501,47.075 L 12.20126953125,47.060888671875 L 12.16552734375,47.028173828125 L 12.1307617187501,46.984765625 z M 12.396875,43.9345703125 L 12.4263671875001,43.894091796875 L 12.4852539062501,43.901416015625 L 12.5146484375,43.9529785156251 L 12.5037109375,43.98974609375 L 12.44111328125,43.982421875 L 12.396875,43.9345703125 z\" /></g></g></svg>"
      ],
      "text/plain": [
       "<shapely.geometry.multipolygon.MultiPolygon at 0x26ed8341be0>"
      ]
     },
     "execution_count": 68,
     "metadata": {},
     "output_type": "execute_result"
    }
   ],
   "source": [
    "country_layer.SetAttributeFilter(\"name = 'Italy'\")\n",
    "feat = country_layer.GetNextFeature()\n",
    "italy = feat.geometry().Clone()\n",
    "wkt.loads(italy.ExportToIsoWkt())"
   ]
  },
  {
   "cell_type": "markdown",
   "metadata": {},
   "source": [
    "### Spatial filtering\n",
    "We select the cities that lie within a country's boundary"
   ]
  },
  {
   "cell_type": "code",
   "execution_count": 69,
   "metadata": {},
   "outputs": [
    {
     "data": {
      "text/plain": [
       "21"
      ]
     },
     "execution_count": 69,
     "metadata": {},
     "output_type": "execute_result"
    }
   ],
   "source": [
    "city_layer = ds.GetLayer('ne_50m_populated_places')\n",
    "city_layer.GetFeatureCount()"
   ]
  },
  {
   "cell_type": "code",
   "execution_count": 70,
   "metadata": {},
   "outputs": [
    {
     "data": {
      "text/plain": [
       "21"
      ]
     },
     "execution_count": 70,
     "metadata": {},
     "output_type": "execute_result"
    }
   ],
   "source": [
    "city_layer.SetSpatialFilter(italy) # set the spatial filter\n",
    "city_layer.GetFeatureCount()"
   ]
  },
  {
   "cell_type": "code",
   "execution_count": 71,
   "metadata": {},
   "outputs": [
    {
     "name": "stdout",
     "output_type": "stream",
     "text": [
      "Potenza String\n",
      "Campobasso String\n",
      "Aosta String\n",
      "Vatican City String\n",
      "Bologna String\n",
      "Cagliari String\n",
      "Catanzaro String\n",
      "Bari String\n",
      "L'Aquila String\n",
      "Ancona String\n",
      "Perugia String\n",
      "Trieste String\n",
      "Trento String\n",
      "Turin String\n",
      "Genoa String\n",
      "Florence String\n",
      "Catania String\n",
      "Palermo String\n",
      "Naples String\n",
      "Milan String\n",
      "Rome String\n"
     ]
    }
   ],
   "source": [
    "for city in city_layer:\n",
    "    print(city.name, field.GetTypeName())"
   ]
  },
  {
   "cell_type": "markdown",
   "metadata": {},
   "source": [
    "We can further select the cities by attributes, e.g. by their population"
   ]
  },
  {
   "cell_type": "code",
   "execution_count": 72,
   "metadata": {},
   "outputs": [
    {
     "data": {
      "text/plain": [
       "4"
      ]
     },
     "execution_count": 72,
     "metadata": {},
     "output_type": "execute_result"
    }
   ],
   "source": [
    "city_layer.SetAttributeFilter('POP2010 > 1000')\n",
    "city_layer.GetFeatureCount()"
   ]
  },
  {
   "cell_type": "markdown",
   "metadata": {},
   "source": [
    "We can use a bounding box to spatially filter the features. We remove the attribute filter than we apply a spatial filter using a bounding box"
   ]
  },
  {
   "cell_type": "code",
   "execution_count": 73,
   "metadata": {},
   "outputs": [
    {
     "name": "stdout",
     "output_type": "stream",
     "text": [
      "ne_50m_populated_places\n"
     ]
    }
   ],
   "source": [
    "city_layer.SetAttributeFilter(None)\n",
    "city_layer.SetSpatialFilter(None)\n",
    "min_long = 6.671\n",
    "min_lat = 35.494\n",
    "max_long = 18.337\n",
    "max_lat = 47.095\n",
    "city_layer.SetSpatialFilterRect(min_long, min_lat, max_long, max_lat)\n",
    "print(city_layer.GetName()) # to be completed without using Garrard's script"
   ]
  },
  {
   "cell_type": "markdown",
   "metadata": {},
   "source": [
    "Then we apply an attribute filter to select the cities with a population above 1 million."
   ]
  },
  {
   "cell_type": "code",
   "execution_count": 74,
   "metadata": {},
   "outputs": [
    {
     "data": {
      "text/plain": [
       "0"
      ]
     },
     "execution_count": 74,
     "metadata": {},
     "output_type": "execute_result"
    }
   ],
   "source": [
    "city_layer.SetAttributeFilter('POP2010 > 1000')\n",
    "#pb.print_attributes(city_layer, 0, ['NAME', 'ADM0NAME', 'POP2010'], geom=False) # to be completed without using Garrard's script"
   ]
  },
  {
   "cell_type": "markdown",
   "metadata": {},
   "source": [
    "### SQL spatial and attribute filtering\n",
    "We filter cities by two attributes and then by a geometry. In particular we select cities that have a population above 1 million and lie withing the Italian boundary."
   ]
  },
  {
   "cell_type": "code",
   "execution_count": 75,
   "metadata": {},
   "outputs": [],
   "source": [
    "ds = ogr.Open(r'data\\vector\\global')\n",
    "country_layer = ds.GetLayer('ne_50m_admin_0_countries')\n",
    "country_layer.SetAttributeFilter(\"name = 'Italy'\")\n",
    "feat = country_layer.GetNextFeature()\n",
    "country = feat.geometry().Clone() # we use a country's geometry for spatial filtering\n",
    "sql = \"SELECT NAME, POP2010 FROM ne_50m_populated_places WHERE POP2010 > 1000 ORDER BY POP2010 DESC\"\n",
    "layer = ds.ExecuteSQL(sql, country)\n",
    "#pb.print_attributes(layer) # to be completed without using Garrard's script"
   ]
  },
  {
   "cell_type": "markdown",
   "metadata": {},
   "source": [
    "### Reading ESRI shape files using the Python Shapefile Library"
   ]
  },
  {
   "cell_type": "code",
   "execution_count": 76,
   "metadata": {},
   "outputs": [
    {
     "data": {
      "text/plain": [
       "34610"
      ]
     },
     "execution_count": 76,
     "metadata": {},
     "output_type": "execute_result"
    }
   ],
   "source": [
    "shp_path = 'data/vector/US/cities_48.shp'\n",
    "sf = shp.Reader(shp_path)\n",
    "len(sf)"
   ]
  },
  {
   "cell_type": "code",
   "execution_count": 77,
   "metadata": {},
   "outputs": [
    {
     "data": {
      "text/plain": [
       "1"
      ]
     },
     "execution_count": 77,
     "metadata": {},
     "output_type": "execute_result"
    }
   ],
   "source": [
    "sf.shapeType"
   ]
  },
  {
   "cell_type": "code",
   "execution_count": 78,
   "metadata": {},
   "outputs": [
    {
     "data": {
      "text/plain": [
       "34610"
      ]
     },
     "execution_count": 78,
     "metadata": {},
     "output_type": "execute_result"
    }
   ],
   "source": [
    "shapes = sf.shapes(); len(shapes)"
   ]
  },
  {
   "cell_type": "code",
   "execution_count": 79,
   "metadata": {},
   "outputs": [
    {
     "name": "stdout",
     "output_type": "stream",
     "text": [
      "shapefile Reader\n",
      "    34610 shapes (type 'POINT')\n",
      "    34610 records (12 fields)\n"
     ]
    }
   ],
   "source": [
    "print(sf)"
   ]
  },
  {
   "cell_type": "code",
   "execution_count": 80,
   "metadata": {},
   "outputs": [
    {
     "data": {
      "text/plain": [
       "False"
      ]
     },
     "execution_count": 80,
     "metadata": {},
     "output_type": "execute_result"
    }
   ],
   "source": [
    "sf.shapeType == shp.POLYGON"
   ]
  },
  {
   "cell_type": "code",
   "execution_count": 81,
   "metadata": {},
   "outputs": [
    {
     "data": {
      "text/plain": [
       "['Populated Place', 'Frenchville']"
      ]
     },
     "execution_count": 81,
     "metadata": {},
     "output_type": "execute_result"
    }
   ],
   "source": [
    "rec = sf.record(3)\n",
    "rec[1:3]"
   ]
  },
  {
   "cell_type": "code",
   "execution_count": 82,
   "metadata": {},
   "outputs": [
    {
     "data": {
      "text/plain": [
       "[('DeletionFlag', 'C', 1, 0),\n",
       " ['CITIESX020', 'N', 11, 0],\n",
       " ['FEATURE', 'C', 27, 0],\n",
       " ['NAME', 'C', 48, 0],\n",
       " ['POP_RANGE', 'C', 21, 0],\n",
       " ['POP_2000', 'N', 8, 0],\n",
       " ['FIPS55', 'C', 5, 0],\n",
       " ['COUNTY', 'C', 55, 0],\n",
       " ['FIPS', 'C', 5, 0],\n",
       " ['STATE', 'C', 2, 0],\n",
       " ['STATE_FIPS', 'C', 2, 0],\n",
       " ['DISPLAY', 'N', 1, 0]]"
      ]
     },
     "execution_count": 82,
     "metadata": {},
     "output_type": "execute_result"
    }
   ],
   "source": [
    "sf.fields"
   ]
  },
  {
   "cell_type": "code",
   "execution_count": 83,
   "metadata": {},
   "outputs": [
    {
     "data": {
      "text/plain": [
       "[Record #0: [366, 'Populated Place', 'Saint David', 'Undetermined', -99999, '64955', 'Aroostook County', '23003', 'ME', '23', 0],\n",
       " Record #1: [367, 'Populated Place', 'Madawaska', 'Undetermined', -99999, '42485', 'Aroostook County', '23003', 'ME', '23', 1]]"
      ]
     },
     "execution_count": 83,
     "metadata": {},
     "output_type": "execute_result"
    }
   ],
   "source": [
    "sf.records()[:2]"
   ]
  },
  {
   "cell_type": "code",
   "execution_count": 84,
   "metadata": {},
   "outputs": [],
   "source": [
    "def shapefile2pandas(sf):\n",
    "    \"\"\"\n",
    "    Converts a shapefile into a Pandas dataframe with a 'coords' \n",
    "    column holding the geometry information. This uses the pyshp\n",
    "    package\n",
    "    \"\"\"\n",
    "    fields = [x[0] for x in sf.fields][1:]\n",
    "    records = sf.records()\n",
    "    shps = [s.points for s in sf.shapes()]\n",
    "    df = pd.DataFrame(columns=fields, data=records)\n",
    "    df = df.assign(coords=shps)\n",
    "    return df"
   ]
  },
  {
   "cell_type": "code",
   "execution_count": 85,
   "metadata": {},
   "outputs": [
    {
     "data": {
      "text/plain": [
       "(34610, 12)"
      ]
     },
     "execution_count": 85,
     "metadata": {},
     "output_type": "execute_result"
    }
   ],
   "source": [
    "df = shapefile2pandas(sf)\n",
    "df.shape"
   ]
  },
  {
   "cell_type": "code",
   "execution_count": 86,
   "metadata": {},
   "outputs": [
    {
     "data": {
      "text/html": [
       "<div>\n",
       "<style scoped>\n",
       "    .dataframe tbody tr th:only-of-type {\n",
       "        vertical-align: middle;\n",
       "    }\n",
       "\n",
       "    .dataframe tbody tr th {\n",
       "        vertical-align: top;\n",
       "    }\n",
       "\n",
       "    .dataframe thead th {\n",
       "        text-align: right;\n",
       "    }\n",
       "</style>\n",
       "<table border=\"1\" class=\"dataframe\">\n",
       "  <thead>\n",
       "    <tr style=\"text-align: right;\">\n",
       "      <th></th>\n",
       "      <th>CITIESX020</th>\n",
       "      <th>FEATURE</th>\n",
       "      <th>NAME</th>\n",
       "      <th>POP_RANGE</th>\n",
       "      <th>POP_2000</th>\n",
       "      <th>FIPS55</th>\n",
       "      <th>COUNTY</th>\n",
       "      <th>FIPS</th>\n",
       "      <th>STATE</th>\n",
       "      <th>STATE_FIPS</th>\n",
       "      <th>DISPLAY</th>\n",
       "      <th>coords</th>\n",
       "    </tr>\n",
       "  </thead>\n",
       "  <tbody>\n",
       "    <tr>\n",
       "      <th>8953</th>\n",
       "      <td>9319</td>\n",
       "      <td>Populated Place</td>\n",
       "      <td>Sturtevant</td>\n",
       "      <td>0 - 9,999</td>\n",
       "      <td>5287</td>\n",
       "      <td>77925</td>\n",
       "      <td>Racine County</td>\n",
       "      <td>55101</td>\n",
       "      <td>WI</td>\n",
       "      <td>55</td>\n",
       "      <td>0</td>\n",
       "      <td>[[-87.89451599121094, 42.69807815551758]]</td>\n",
       "    </tr>\n",
       "    <tr>\n",
       "      <th>883</th>\n",
       "      <td>1249</td>\n",
       "      <td>Populated Place</td>\n",
       "      <td>Edwall</td>\n",
       "      <td>Undetermined</td>\n",
       "      <td>-99999</td>\n",
       "      <td>20785</td>\n",
       "      <td>Lincoln County</td>\n",
       "      <td>53043</td>\n",
       "      <td>WA</td>\n",
       "      <td>53</td>\n",
       "      <td>0</td>\n",
       "      <td>[[-117.95293426513672, 47.50433349609375]]</td>\n",
       "    </tr>\n",
       "    <tr>\n",
       "      <th>179</th>\n",
       "      <td>545</td>\n",
       "      <td>Populated Place</td>\n",
       "      <td>Silverton</td>\n",
       "      <td>Undetermined</td>\n",
       "      <td>-99999</td>\n",
       "      <td>64470</td>\n",
       "      <td>Snohomish County</td>\n",
       "      <td>53061</td>\n",
       "      <td>WA</td>\n",
       "      <td>53</td>\n",
       "      <td>0</td>\n",
       "      <td>[[-121.56964874267578, 48.07830810546875]]</td>\n",
       "    </tr>\n",
       "    <tr>\n",
       "      <th>23132</th>\n",
       "      <td>23609</td>\n",
       "      <td>County Seat</td>\n",
       "      <td>Bardwell</td>\n",
       "      <td>0 - 9,999</td>\n",
       "      <td>799</td>\n",
       "      <td>03664</td>\n",
       "      <td>Carlisle County</td>\n",
       "      <td>21039</td>\n",
       "      <td>KY</td>\n",
       "      <td>21</td>\n",
       "      <td>0</td>\n",
       "      <td>[[-89.00978088378906, 36.8706169128418]]</td>\n",
       "    </tr>\n",
       "    <tr>\n",
       "      <th>28765</th>\n",
       "      <td>29300</td>\n",
       "      <td>Populated Place</td>\n",
       "      <td>Chula Vista</td>\n",
       "      <td>100,000 - 249,999</td>\n",
       "      <td>173556</td>\n",
       "      <td>13392</td>\n",
       "      <td>San Diego County</td>\n",
       "      <td>06073</td>\n",
       "      <td>CA</td>\n",
       "      <td>06</td>\n",
       "      <td>0</td>\n",
       "      <td>[[-117.08419036865234, 32.640052795410156]]</td>\n",
       "    </tr>\n",
       "  </tbody>\n",
       "</table>\n",
       "</div>"
      ],
      "text/plain": [
       "       CITIESX020          FEATURE         NAME          POP_RANGE  POP_2000  \\\n",
       "8953         9319  Populated Place   Sturtevant          0 - 9,999      5287   \n",
       "883          1249  Populated Place       Edwall       Undetermined    -99999   \n",
       "179           545  Populated Place    Silverton       Undetermined    -99999   \n",
       "23132       23609      County Seat     Bardwell          0 - 9,999       799   \n",
       "28765       29300  Populated Place  Chula Vista  100,000 - 249,999    173556   \n",
       "\n",
       "      FIPS55            COUNTY   FIPS STATE STATE_FIPS  DISPLAY  \\\n",
       "8953   77925     Racine County  55101    WI         55        0   \n",
       "883    20785    Lincoln County  53043    WA         53        0   \n",
       "179    64470  Snohomish County  53061    WA         53        0   \n",
       "23132  03664   Carlisle County  21039    KY         21        0   \n",
       "28765  13392  San Diego County  06073    CA         06        0   \n",
       "\n",
       "                                            coords  \n",
       "8953     [[-87.89451599121094, 42.69807815551758]]  \n",
       "883     [[-117.95293426513672, 47.50433349609375]]  \n",
       "179     [[-121.56964874267578, 48.07830810546875]]  \n",
       "23132     [[-89.00978088378906, 36.8706169128418]]  \n",
       "28765  [[-117.08419036865234, 32.640052795410156]]  "
      ]
     },
     "execution_count": 86,
     "metadata": {},
     "output_type": "execute_result"
    }
   ],
   "source": [
    "df.sample(5)"
   ]
  },
  {
   "cell_type": "code",
   "execution_count": 87,
   "metadata": {},
   "outputs": [
    {
     "data": {
      "text/plain": [
       "0        Aroostook County\n",
       "1        Aroostook County\n",
       "2        Aroostook County\n",
       "3        Aroostook County\n",
       "4        Aroostook County\n",
       "               ...       \n",
       "34605       Cayuga County\n",
       "34606     Onondaga County\n",
       "34607       Greene County\n",
       "34608       Warren County\n",
       "34609      Orleans County\n",
       "Name: COUNTY, Length: 34610, dtype: object"
      ]
     },
     "execution_count": 87,
     "metadata": {},
     "output_type": "execute_result"
    }
   ],
   "source": [
    "df.COUNTY"
   ]
  },
  {
   "cell_type": "code",
   "execution_count": 88,
   "metadata": {},
   "outputs": [
    {
     "data": {
      "text/html": [
       "<div>\n",
       "<style scoped>\n",
       "    .dataframe tbody tr th:only-of-type {\n",
       "        vertical-align: middle;\n",
       "    }\n",
       "\n",
       "    .dataframe tbody tr th {\n",
       "        vertical-align: top;\n",
       "    }\n",
       "\n",
       "    .dataframe thead th {\n",
       "        text-align: right;\n",
       "    }\n",
       "</style>\n",
       "<table border=\"1\" class=\"dataframe\">\n",
       "  <thead>\n",
       "    <tr style=\"text-align: right;\">\n",
       "      <th></th>\n",
       "      <th>CITIESX020</th>\n",
       "      <th>FEATURE</th>\n",
       "      <th>NAME</th>\n",
       "      <th>POP_RANGE</th>\n",
       "      <th>POP_2000</th>\n",
       "      <th>FIPS55</th>\n",
       "      <th>COUNTY</th>\n",
       "      <th>FIPS</th>\n",
       "      <th>STATE</th>\n",
       "      <th>STATE_FIPS</th>\n",
       "      <th>DISPLAY</th>\n",
       "      <th>coords</th>\n",
       "    </tr>\n",
       "  </thead>\n",
       "  <tbody>\n",
       "    <tr>\n",
       "      <th>1237</th>\n",
       "      <td>1603</td>\n",
       "      <td>Populated Place</td>\n",
       "      <td>Derby Line</td>\n",
       "      <td>0 - 9,999</td>\n",
       "      <td>776</td>\n",
       "      <td>17500</td>\n",
       "      <td>Orleans County</td>\n",
       "      <td>50019</td>\n",
       "      <td>VT</td>\n",
       "      <td>50</td>\n",
       "      <td>0</td>\n",
       "      <td>[[-72.09799194335938, 45.00236892700195]]</td>\n",
       "    </tr>\n",
       "    <tr>\n",
       "      <th>1278</th>\n",
       "      <td>1644</td>\n",
       "      <td>Populated Place</td>\n",
       "      <td>Derby Center</td>\n",
       "      <td>0 - 9,999</td>\n",
       "      <td>670</td>\n",
       "      <td>17425</td>\n",
       "      <td>Orleans County</td>\n",
       "      <td>50019</td>\n",
       "      <td>VT</td>\n",
       "      <td>50</td>\n",
       "      <td>0</td>\n",
       "      <td>[[-72.13287353515625, 44.94782638549805]]</td>\n",
       "    </tr>\n",
       "    <tr>\n",
       "      <th>1296</th>\n",
       "      <td>1662</td>\n",
       "      <td>Populated Place</td>\n",
       "      <td>North Troy</td>\n",
       "      <td>0 - 9,999</td>\n",
       "      <td>593</td>\n",
       "      <td>52075</td>\n",
       "      <td>Orleans County</td>\n",
       "      <td>50019</td>\n",
       "      <td>VT</td>\n",
       "      <td>50</td>\n",
       "      <td>0</td>\n",
       "      <td>[[-72.39983367919922, 44.994483947753906]]</td>\n",
       "    </tr>\n",
       "  </tbody>\n",
       "</table>\n",
       "</div>"
      ],
      "text/plain": [
       "      CITIESX020          FEATURE          NAME  POP_RANGE  POP_2000 FIPS55  \\\n",
       "1237        1603  Populated Place    Derby Line  0 - 9,999       776  17500   \n",
       "1278        1644  Populated Place  Derby Center  0 - 9,999       670  17425   \n",
       "1296        1662  Populated Place    North Troy  0 - 9,999       593  52075   \n",
       "\n",
       "              COUNTY   FIPS STATE STATE_FIPS  DISPLAY  \\\n",
       "1237  Orleans County  50019    VT         50        0   \n",
       "1278  Orleans County  50019    VT         50        0   \n",
       "1296  Orleans County  50019    VT         50        0   \n",
       "\n",
       "                                          coords  \n",
       "1237   [[-72.09799194335938, 45.00236892700195]]  \n",
       "1278   [[-72.13287353515625, 44.94782638549805]]  \n",
       "1296  [[-72.39983367919922, 44.994483947753906]]  "
      ]
     },
     "execution_count": 88,
     "metadata": {},
     "output_type": "execute_result"
    }
   ],
   "source": [
    "df[df.COUNTY == 'Orleans County'][:3]"
   ]
  },
  {
   "cell_type": "markdown",
   "metadata": {},
   "source": [
    "## Manipulating geometries with OGR\n",
    "We want to represent a house with a small garden and other features. We start by representing some features as points. A point feature has a geometry and attributes such as the coordinates. A point can have only one pair of coordinates."
   ]
  },
  {
   "cell_type": "markdown",
   "metadata": {},
   "source": [
    "### Point geometry"
   ]
  },
  {
   "cell_type": "code",
   "execution_count": 89,
   "metadata": {},
   "outputs": [
    {
     "data": {
      "text/plain": [
       "(59.5, 11.5)"
      ]
     },
     "execution_count": 89,
     "metadata": {},
     "output_type": "execute_result"
    }
   ],
   "source": [
    "firepit = ogr.Geometry(ogr.wkbPoint)\n",
    "firepit.AddPoint(59.5, 11.5)\n",
    "x, y = firepit.GetX(), firepit.GetY(); x, y"
   ]
  },
  {
   "cell_type": "markdown",
   "metadata": {},
   "source": [
    "### Multipoint geometry\n",
    "A multipoint geometry is a collection of points that are associated to a feature."
   ]
  },
  {
   "cell_type": "code",
   "execution_count": 91,
   "metadata": {},
   "outputs": [],
   "source": [
    "faucets = ogr.Geometry(ogr.wkbMultiPoint)\n",
    "faucet = ogr.Geometry(ogr.wkbPoint)\n",
    "faucet.AddPoint(67.5, 16)\n",
    "faucets.AddGeometry(faucet)\n",
    "faucet.AddPoint(73, 31)\n",
    "faucets.AddGeometry(faucet)\n",
    "faucet.AddPoint(81, 24.5)\n",
    "faucets.AddGeometry(faucet) \n",
    "faucets_json = faucets.ExportToJson()\n",
    "faucets_gdf = gpd.read_file(faucets_json)"
   ]
  },
  {
   "cell_type": "code",
   "execution_count": 94,
   "metadata": {},
   "outputs": [
    {
     "data": {
      "text/plain": [
       "(66.825, 81.675, 15.25, 31.75)"
      ]
     },
     "execution_count": 94,
     "metadata": {},
     "output_type": "execute_result"
    },
    {
     "data": {
      "image/png": "[encoded data removed]",
      "text/plain": [
       "<Figure size 216x216 with 1 Axes>"
      ]
     },
     "metadata": {
      "needs_background": "light"
     },
     "output_type": "display_data"
    }
   ],
   "source": [
    "fig, ax = plt.subplots(1, figsize=(3, 3))\n",
    "faucets_gdf.plot(color='orange', ax=ax, edgecolor='0.9')\n",
    "ax.axis('off')"
   ]
  },
  {
   "cell_type": "markdown",
   "metadata": {},
   "source": [
    "### Line\n",
    "A line has a geometry to which two or more points are added."
   ]
  },
  {
   "cell_type": "code",
   "execution_count": 120,
   "metadata": {},
   "outputs": [
    {
     "name": "stdout",
     "output_type": "stream",
     "text": [
      "{ \"type\": \"LineString\", \"coordinates\": [ [ 54.0, 37.0, 0.0 ], [ 62.0, 35.5, 0.0 ], [ 70.5, 38.0, 0.0 ], [ 74.5, 41.5, 0.0 ] ] }\n"
     ]
    }
   ],
   "source": [
    "sidewalk = ogr.Geometry(ogr.wkbLineString)\n",
    "sidewalk.AddPoint(54, 37)\n",
    "sidewalk.AddPoint(62, 35.5)\n",
    "sidewalk.AddPoint(70.5, 38)\n",
    "sidewalk.AddPoint(74.5, 41.5)\n",
    "sidewalk_json = sidewalk.ExportToJson()\n",
    "print(sidewalk_json)"
   ]
  },
  {
   "cell_type": "markdown",
   "metadata": {},
   "source": [
    "We import the GeoJson data into a GeoPandas dataframe"
   ]
  },
  {
   "cell_type": "code",
   "execution_count": 126,
   "metadata": {},
   "outputs": [],
   "source": [
    "sidewalk_gdf = gpd.read_file(sidewalk_json)"
   ]
  },
  {
   "cell_type": "code",
   "execution_count": 127,
   "metadata": {},
   "outputs": [
    {
     "data": {
      "text/plain": [
       "(52.975, 75.525, 35.2, 41.8)"
      ]
     },
     "execution_count": 127,
     "metadata": {},
     "output_type": "execute_result"
    },
    {
     "data": {
      "image/png": "[encoded data removed]",
      "text/plain": [
       "<Figure size 432x360 with 1 Axes>"
      ]
     },
     "metadata": {
      "needs_background": "light"
     },
     "output_type": "display_data"
    }
   ],
   "source": [
    "fig, ax = plt.subplots(1, figsize=(6, 5))\n",
    "sidewalk_gdf.plot(color='orange', ax=ax, edgecolor='0.9')\n",
    "ax.axis('off')"
   ]
  },
  {
   "cell_type": "code",
   "execution_count": 128,
   "metadata": {},
   "outputs": [
    {
     "name": "stdout",
     "output_type": "stream",
     "text": [
      "[(54.0, 37.0, 0.0), (62.0, 35.5, 0.0), (70.5, 38.0, 0.0), (74.5, 41.5, 0.0)]\n"
     ]
    }
   ],
   "source": [
    "vertices = sidewalk.GetPoints()\n",
    "print(vertices)"
   ]
  },
  {
   "cell_type": "code",
   "execution_count": 129,
   "metadata": {},
   "outputs": [
    {
     "name": "stdout",
     "output_type": "stream",
     "text": [
      "[(54.0, 37.0, 0.0), (62.0, 35.5, 0.0), (66.5, 35), (70.5, 38.0, 0.0), (74.5, 41.5, 0.0)]\n"
     ]
    }
   ],
   "source": [
    "vertices[2:2] = [(66.5, 35)]\n",
    "print(vertices)"
   ]
  },
  {
   "cell_type": "markdown",
   "metadata": {},
   "source": [
    "### Multiline\n",
    "A multiline is a collection of lines."
   ]
  },
  {
   "cell_type": "code",
   "execution_count": 131,
   "metadata": {},
   "outputs": [],
   "source": [
    "line1 = ogr.Geometry(ogr.wkbLineString)\n",
    "line1.AddPoint(61.5, 29)\n",
    "line1.AddPoint(63, 20)\n",
    "line1.AddPoint(62.5, 16)\n",
    "line1.AddPoint(60, 13)\n",
    "line2 = ogr.Geometry(ogr.wkbLineString)\n",
    "line2.AddPoint(60.5, 12)\n",
    "line2.AddPoint(68.5, 13.5)\n",
    "line3 = ogr.Geometry(ogr.wkbLineString)\n",
    "line3.AddPoint(69.5, 33)\n",
    "line3.AddPoint(80, 33)\n",
    "line3.AddPoint(86.5, 22.5)\n",
    "multiline = ogr.Geometry(ogr.wkbMultiLineString)\n",
    "multiline.AddGeometry(line1)\n",
    "multiline.AddGeometry(line2)\n",
    "multiline.AddGeometry(line3)\n",
    "multiline_json = multiline.ExportToJson()\n",
    "multiline_gdf = gpd.read_file(multiline_json)"
   ]
  },
  {
   "cell_type": "code",
   "execution_count": 133,
   "metadata": {},
   "outputs": [
    {
     "data": {
      "text/plain": [
       "(58.675, 87.825, 10.95, 34.05)"
      ]
     },
     "execution_count": 133,
     "metadata": {},
     "output_type": "execute_result"
    },
    {
     "data": {
      "image/png": "[encoded data removed]",
      "text/plain": [
       "<Figure size 360x360 with 1 Axes>"
      ]
     },
     "metadata": {
      "needs_background": "light"
     },
     "output_type": "display_data"
    }
   ],
   "source": [
    "fig, ax = plt.subplots(1, figsize=(5, 5))\n",
    "multiline_gdf.plot(color='orange', ax=ax, edgecolor='0.9')\n",
    "ax.axis('off')"
   ]
  },
  {
   "cell_type": "markdown",
   "metadata": {},
   "source": [
    "### Polygon\n",
    "A polygon can have one or more closed paths, also called ring. This happens because a polygon can have a hole that can be represented by another polygon inside the first one."
   ]
  },
  {
   "cell_type": "code",
   "execution_count": 134,
   "metadata": {},
   "outputs": [],
   "source": [
    "ring = ogr.Geometry(ogr.wkbLinearRing)\n",
    "ring.AddPoint(58, 38.5)\n",
    "ring.AddPoint(53, 6)\n",
    "ring.AddPoint(99.5, 19)\n",
    "ring.AddPoint(73, 42)\n",
    "yard = ogr.Geometry(ogr.wkbPolygon)\n",
    "yard.AddGeometry(ring)\n",
    "yard.CloseRings()\n",
    "yard_json = yard.ExportToJson()\n",
    "yard_gdf = gpd.read_file(yard_json)"
   ]
  },
  {
   "cell_type": "code",
   "execution_count": 135,
   "metadata": {},
   "outputs": [
    {
     "data": {
      "text/plain": [
       "(50.675, 101.825, 4.2, 43.8)"
      ]
     },
     "execution_count": 135,
     "metadata": {},
     "output_type": "execute_result"
    },
    {
     "data": {
      "image/png": "[encoded data removed]",
      "text/plain": [
       "<Figure size 360x360 with 1 Axes>"
      ]
     },
     "metadata": {
      "needs_background": "light"
     },
     "output_type": "display_data"
    }
   ],
   "source": [
    "fig, ax = plt.subplots(1, figsize=(5, 5))\n",
    "yard_gdf.plot(color='orange', ax=ax, edgecolor='0.9')\n",
    "ax.axis('off')"
   ]
  },
  {
   "cell_type": "markdown",
   "metadata": {},
   "source": [
    "### Polygon with hole\n",
    "A polygon with holes is a geometry made up of one external polygon, for the external border, and one or more other polygons inside it for the internal borders. As an example we will add a closed path, a house, to the polygon that we have already created."
   ]
  },
  {
   "cell_type": "code",
   "execution_count": 136,
   "metadata": {},
   "outputs": [],
   "source": [
    "house = ogr.Geometry(ogr.wkbLinearRing)\n",
    "house.AddPoint(67.5, 29)\n",
    "house.AddPoint(69, 25.5)\n",
    "house.AddPoint(64, 23)\n",
    "house.AddPoint(69, 15)\n",
    "house.AddPoint(82.5, 22)\n",
    "house.AddPoint(76, 31.5)\n",
    "yard.AddGeometry(house)\n",
    "yard.CloseRings()\n",
    "yard_json = yard.ExportToJson()\n",
    "yard_gdf = gpd.read_file(yard_json)"
   ]
  },
  {
   "cell_type": "code",
   "execution_count": 139,
   "metadata": {},
   "outputs": [
    {
     "data": {
      "text/plain": [
       "(50.675, 101.825, 4.2, 43.8)"
      ]
     },
     "execution_count": 139,
     "metadata": {},
     "output_type": "execute_result"
    },
    {
     "data": {
      "image/png": "[encoded data removed]",
      "text/plain": [
       "<Figure size 360x360 with 1 Axes>"
      ]
     },
     "metadata": {
      "needs_background": "light"
     },
     "output_type": "display_data"
    }
   ],
   "source": [
    "fig, ax = plt.subplots(1, figsize=(5, 5))\n",
    "yard_gdf.plot(color='orange', ax=ax, edgecolor='0.9')\n",
    "ax.axis('off')"
   ]
  },
  {
   "cell_type": "markdown",
   "metadata": {},
   "source": [
    "## Vector analysis with OGR\n",
    "In this section we use topological operators available from OGR."
   ]
  },
  {
   "cell_type": "code",
   "execution_count": 140,
   "metadata": {},
   "outputs": [],
   "source": [
    "water_ds = ogr.Open('data/vector/US/wtrbdyp010.shp')\n",
    "water_layer = water_ds.GetLayer(0)\n",
    "water_layer.SetAttributeFilter('WaterbdyID = 1011327')\n",
    "marsh_feature = water_layer.GetNextFeature()\n",
    "marsh_geometry = marsh_feature.geometry().Clone()\n",
    "marsh_json = marsh_geometry.ExportToJson()\n",
    "marsh_gdf = gpd.read_file(marsh_json)"
   ]
  },
  {
   "cell_type": "code",
   "execution_count": 141,
   "metadata": {},
   "outputs": [
    {
     "data": {
      "text/plain": [
       "(-90.05351526934993,\n",
       " -89.14994916964991,\n",
       " 29.152351217250065,\n",
       " 30.222804331750048)"
      ]
     },
     "execution_count": 141,
     "metadata": {},
     "output_type": "execute_result"
    },
    {
     "data": {
      "image/png": "[encoded data removed]",
      "text/plain": [
       "<Figure size 360x360 with 1 Axes>"
      ]
     },
     "metadata": {
      "needs_background": "light"
     },
     "output_type": "display_data"
    }
   ],
   "source": [
    "fig, ax = plt.subplots(1, figsize=(5, 5))\n",
    "marsh_gdf.plot(color='orange', ax=ax, edgecolor='0.9')\n",
    "ax.axis('off')"
   ]
  },
  {
   "cell_type": "code",
   "execution_count": 144,
   "metadata": {},
   "outputs": [],
   "source": [
    "nola_ds = ogr.Open(r'data\\vector\\Louisiana\\NOLA.shp')\n",
    "nola_layer = nola_ds.GetLayer(0)\n",
    "nola_feature = nola_layer.GetNextFeature()\n",
    "nola_geometry = nola_feature.geometry().Clone()\n",
    "nola_json = nola_geometry.ExportToJson()\n",
    "nola_gdf = gpd.read_file(nola_json)"
   ]
  },
  {
   "cell_type": "code",
   "execution_count": 145,
   "metadata": {},
   "outputs": [
    {
     "data": {
      "text/plain": [
       "(-90.1657800161176, -89.59930409436842, 29.848918445570433, 30.216018360077328)"
      ]
     },
     "execution_count": 145,
     "metadata": {},
     "output_type": "execute_result"
    },
    {
     "data": {
      "image/png": "[encoded data removed]",
      "text/plain": [
       "<Figure size 360x360 with 1 Axes>"
      ]
     },
     "metadata": {
      "needs_background": "light"
     },
     "output_type": "display_data"
    }
   ],
   "source": [
    "fig, ax = plt.subplots(1, figsize=(5, 5))\n",
    "nola_gdf.plot(color='orange', ax=ax, edgecolor='0.9')\n",
    "ax.axis('off')"
   ]
  },
  {
   "cell_type": "code",
   "execution_count": 148,
   "metadata": {},
   "outputs": [],
   "source": [
    "intersection_geometry = marsh_geometry.Intersection (nola_geometry)\n",
    "intersection_json = intersection_geometry.ExportToJson()\n",
    "intersection_gdf = gpd.read_file(intersection_json)"
   ]
  },
  {
   "cell_type": "code",
   "execution_count": 149,
   "metadata": {},
   "outputs": [
    {
     "data": {
      "text/plain": [
       "(-90.00556320429993, -89.61070675769994, 29.97105356561693, 30.18381850563734)"
      ]
     },
     "execution_count": 149,
     "metadata": {},
     "output_type": "execute_result"
    },
    {
     "data": {
      "image/png": "[encoded data removed]",
      "text/plain": [
       "<Figure size 360x360 with 1 Axes>"
      ]
     },
     "metadata": {
      "needs_background": "light"
     },
     "output_type": "display_data"
    }
   ],
   "source": [
    "fig, ax = plt.subplots(1, figsize=(5, 5))\n",
    "intersection_gdf.plot(color='orange', ax=ax, edgecolor='0.9')\n",
    "ax.axis('off')"
   ]
  },
  {
   "cell_type": "code",
   "execution_count": 34,
   "metadata": {},
   "outputs": [
    {
     "name": "stdout",
     "output_type": "stream",
     "text": [
      "28.7% of New Orleans is wetland\n"
     ]
    }
   ],
   "source": [
    "water_layer.SetAttributeFilter(\"Feature != 'Lake'\")\n",
    "water_layer.SetSpatialFilter(nola_geometry)\n",
    "wetlands_area = 0\n",
    "for feature in water_layer:\n",
    "    intersect = feature.geometry().Intersection (nola_geometry)\n",
    "    wetlands_area += intersect.GetArea()\n",
    "pcnt = wetlands_area / nola_geometry.GetArea()\n",
    "print('{:.1%} of New Orleans is wetland'.format(pcnt))"
   ]
  },
  {
   "cell_type": "markdown",
   "metadata": {},
   "source": [
    "A different way to get the same result (but it doesn't seem to work)"
   ]
  },
  {
   "cell_type": "code",
   "execution_count": 150,
   "metadata": {},
   "outputs": [
    {
     "name": "stdout",
     "output_type": "stream",
     "text": [
      "7910.9% of New Orleans is wetland\n"
     ]
    }
   ],
   "source": [
    "water_layer.SetAttributeFilter(\"Feature != 'Lake'\")\n",
    "memory_driver = ogr.GetDriverByName('Memory')\n",
    "temp_ds = memory_driver.CreateDataSource('temp')\n",
    "temp_layer = temp_ds.CreateLayer('temp')\n",
    "nola_layer.Intersection(water_layer, temp_layer)\n",
    "sql = 'SELECT SUM(OGR_GEOM_AREA) AS area FROM temp'\n",
    "layer = temp_ds.ExecuteSQL (sql)\n",
    "pcnt = layer.GetFeature(0).GetField('area') / nola_geometry.GetArea()\n",
    "print('{:.1%} of New Orleans is wetland'.format(pcnt))"
   ]
  },
  {
   "cell_type": "markdown",
   "metadata": {},
   "source": [
    "### Proximity tools\n",
    "We want to know how many US cities lie within a certain distance from volcanos. We begin by opening a layer about the US cities and a layer about volcanos in the US."
   ]
  },
  {
   "cell_type": "code",
   "execution_count": 151,
   "metadata": {},
   "outputs": [
    {
     "name": "stdout",
     "output_type": "stream",
     "text": [
      "Cities: 35432\n",
      "Volcanos: 155\n"
     ]
    }
   ],
   "source": [
    "shp_ds = ogr.Open('data/vector/US')\n",
    "volcano_layer = shp_ds.GetLayer('us_volcanos_albers')\n",
    "cities_layer = shp_ds.GetLayer('cities_albers')\n",
    "print('Cities: {}'.format(cities_layer.GetFeatureCount()))\n",
    "print('Volcanos: {}'.format(volcano_layer.GetFeatureCount()))"
   ]
  },
  {
   "cell_type": "markdown",
   "metadata": {},
   "source": [
    "We need a layer that will contain the volcanos with a buffer area around them. The layer will be in memory since we need it only to compute the number of cities that lie within the buffer area of a volcano."
   ]
  },
  {
   "cell_type": "code",
   "execution_count": 152,
   "metadata": {},
   "outputs": [],
   "source": [
    "memory_driver = ogr.GetDriverByName('memory')\n",
    "memory_ds = memory_driver.CreateDataSource('temp')\n",
    "buffer_layer = memory_ds.CreateLayer('buffer')\n",
    "buffer_feature = ogr.Feature(buffer_layer.GetLayerDefn())"
   ]
  },
  {
   "cell_type": "markdown",
   "metadata": {},
   "source": [
    "We extract the volcanos' geometries, compute the buffer areas around them and we add those buffer areas to the temporary layer"
   ]
  },
  {
   "cell_type": "code",
   "execution_count": 153,
   "metadata": {},
   "outputs": [],
   "source": [
    "distance = 16000 # 1 mile\n",
    "for volcano_feature in volcano_layer:\n",
    "    buffer_geometry = volcano_feature.geometry().Buffer(distance)\n",
    "    buffer_feature.SetGeometry(buffer_geometry)\n",
    "    buffer_layer.CreateFeature(buffer_feature)"
   ]
  },
  {
   "cell_type": "markdown",
   "metadata": {},
   "source": [
    "We need another temporary (in memory) layer to store the result of the intersection between the volcanos with their buffer areas and the cities to know how many of the latter lie within a volcano."
   ]
  },
  {
   "cell_type": "code",
   "execution_count": 154,
   "metadata": {},
   "outputs": [
    {
     "data": {
      "text/plain": [
       "0"
      ]
     },
     "execution_count": 154,
     "metadata": {},
     "output_type": "execute_result"
    }
   ],
   "source": [
    "result_layer = memory_ds.CreateLayer('result')\n",
    "buffer_layer.Intersection (cities_layer, result_layer)"
   ]
  },
  {
   "cell_type": "code",
   "execution_count": 155,
   "metadata": {},
   "outputs": [
    {
     "name": "stdout",
     "output_type": "stream",
     "text": [
      "Cities: 83\n"
     ]
    }
   ],
   "source": [
    "print('Cities: {}'.format(result_layer.GetFeatureCount()))"
   ]
  },
  {
   "cell_type": "markdown",
   "metadata": {},
   "source": [
    "We can perform the same task following a different approach. We use a multipolygon to store all the volcanos' buffer geometries, then we apply a method, UnionCascaded, to create the union of the volcano buffer areas to be used as a filter for cities."
   ]
  },
  {
   "cell_type": "code",
   "execution_count": 156,
   "metadata": {},
   "outputs": [
    {
     "name": "stdout",
     "output_type": "stream",
     "text": [
      "Cities: 78\n"
     ]
    }
   ],
   "source": [
    "volcano_layer.ResetReading()\n",
    "multipoly = ogr.Geometry(ogr.wkbMultiPolygon)\n",
    "\n",
    "for volcano_feature in volcano_layer:\n",
    "    buffer_geometry = volcano_feature.geometry().Buffer(distance)\n",
    "    multipoly.AddGeometry(buffer_geometry)\n",
    "\n",
    "cities_layer.SetSpatialFilter(multipoly.UnionCascaded ())\n",
    "print('Cities: {}'.format(cities_layer.GetFeatureCount()))"
   ]
  },
  {
   "cell_type": "markdown",
   "metadata": {},
   "source": [
    "As we can see, the number of cities is lower with this second method. This happens because with the first method some cities lie within more than one volcano buffer area and so they are counted more than once."
   ]
  },
  {
   "cell_type": "markdown",
   "metadata": {},
   "source": [
    "Now we look for the Mount St. Helens nearest city and we compute its distance from the volcano"
   ]
  },
  {
   "cell_type": "code",
   "execution_count": 157,
   "metadata": {},
   "outputs": [
    {
     "name": "stdout",
     "output_type": "stream",
     "text": [
      "Cities: 1\n"
     ]
    }
   ],
   "source": [
    "distance = 32000 # 20 miles\n",
    "volcano_layer.SetAttributeFilter(\"NAME = 'St. Helens'\")\n",
    "feature = volcano_layer.GetNextFeature()\n",
    "st_helens = feature.geometry().Clone()\n",
    "buffer_geometry = st_helens.Buffer(distance)\n",
    "cities_layer.SetSpatialFilter(buffer_geometry)\n",
    "print('Cities: {}'.format(cities_layer.GetFeatureCount()))"
   ]
  },
  {
   "cell_type": "code",
   "execution_count": 158,
   "metadata": {},
   "outputs": [
    {
     "name": "stdout",
     "output_type": "stream",
     "text": [
      "Cougar\n"
     ]
    }
   ],
   "source": [
    "feature_city = cities_layer.GetNextFeature()\n",
    "name = feature_city.GetField('NAME')\n",
    "print(name)"
   ]
  },
  {
   "cell_type": "code",
   "execution_count": 159,
   "metadata": {},
   "outputs": [
    {
     "name": "stdout",
     "output_type": "stream",
     "text": [
      "18920 meters (11.825 miles)\n"
     ]
    }
   ],
   "source": [
    "meters = round(st_helens.Distance(feature_city.geometry().Clone()))\n",
    "miles = meters / 1600\n",
    "print('{} meters ({} miles)'.format(meters, miles))"
   ]
  },
  {
   "cell_type": "markdown",
   "metadata": {},
   "source": [
    "### Suitability analysis: locating areas suitable for wind farms\n",
    "We look for areas suitable for wind farms. These areas must satisfy two criteria: \n",
    "\n",
    "1. be classified as 3 or more for wind\n",
    "2. population density less than 0.5 persons per square kilometer.\n",
    "\n",
    "First we get the population density from the 'popsqkm' field of the California census data. "
   ]
  },
  {
   "cell_type": "code",
   "execution_count": 95,
   "metadata": {},
   "outputs": [
    {
     "name": "stdout",
     "output_type": "stream",
     "text": [
      "Population density: 2830.2167844165187 persons/sqkm\n",
      "Population density: Census Tract 4251.03, Alameda County, California persons/sqkm\n"
     ]
    }
   ],
   "source": [
    "census_fn = 'data/vector/US/California/ca_census_albers.shp'\n",
    "census_ds = ogr.Open(census_fn, True)\n",
    "census_layer = census_ds.GetLayer()\n",
    "print('Population density: {} persons/sqkm'.format(census_layer[0].GetField('popsqkm')))\n",
    "#for row in census_layer:\n",
    "#    popsqkm = row.GetField('popsqkm')\n",
    "#    print('Population density: {} persons/sqkm'.format(popsqkm))\n",
    "print('Population density: {} persons/sqkm'.format(census_layer[0].GetField(7)))"
   ]
  },
  {
   "cell_type": "markdown",
   "metadata": {},
   "source": [
    "2nd, we get the geometry of the Imperial county for which we want to assess the suitabilty for wind farms."
   ]
  },
  {
   "cell_type": "code",
   "execution_count": 96,
   "metadata": {},
   "outputs": [],
   "source": [
    "county_fn = 'data/vector/US/countyp010.shp'\n",
    "county_ds = ogr.Open(county_fn)\n",
    "county_layer = county_ds.GetLayer()\n",
    "county_layer.SetAttributeFilter(\"COUNTY ='Imperial County'\")\n",
    "feat = county_layer.GetNextFeature()\n",
    "county_geom = feat.geometry().Clone()\n",
    "del county_ds"
   ]
  },
  {
   "cell_type": "markdown",
   "metadata": {},
   "source": [
    "We have to project the county data onto the same reference system used for the census data, then we can spatially filter the census data to get the Imperial county census data to finally select the areas with a population density below 0.5 persons per square meter."
   ]
  },
  {
   "cell_type": "code",
   "execution_count": 97,
   "metadata": {},
   "outputs": [
    {
     "data": {
      "text/plain": [
       "2"
      ]
     },
     "execution_count": 97,
     "metadata": {},
     "output_type": "execute_result"
    }
   ],
   "source": [
    "county_geom.TransformTo(census_layer.GetSpatialRef())\n",
    "census_layer.SetSpatialFilter(county_geom)\n",
    "census_layer.SetAttributeFilter('popsqkm < 0.5')\n",
    "census_layer.GetFeatureCount()"
   ]
  },
  {
   "cell_type": "markdown",
   "metadata": {},
   "source": [
    "Now we get the wind data filtering the areas that are classified 3 or above"
   ]
  },
  {
   "cell_type": "code",
   "execution_count": 98,
   "metadata": {},
   "outputs": [
    {
     "data": {
      "text/plain": [
       "124244"
      ]
     },
     "execution_count": 98,
     "metadata": {},
     "output_type": "execute_result"
    }
   ],
   "source": [
    "wind_fn = 'data/vector/US/California/california_50m_wind_albers.shp'\n",
    "wind_ds = ogr.Open(wind_fn)\n",
    "wind_layer = wind_ds.GetLayer()\n",
    "wind_layer.SetAttributeFilter('WPC >= 3')\n",
    "wind_layer.GetFeatureCount()"
   ]
  },
  {
   "cell_type": "markdown",
   "metadata": {},
   "source": [
    "Before applying the two filters for our suitability assessment we create a new data source (Esri shapefile) where we will store the results. The data source has two attributes: wind and popsqkm."
   ]
  },
  {
   "cell_type": "code",
   "execution_count": 99,
   "metadata": {},
   "outputs": [],
   "source": [
    "suitability_fn = 'data/vector/US/California/wind_farm.shp'\n",
    "suitability_ds = ogr.GetDriverByName('ESRI Shapefile').CreateDataSource(suitability_fn)\n",
    "suitability_layer = suitability_ds.CreateLayer('wind_farm', wind_layer.GetSpatialRef(), ogr.wkbPolygon)\n",
    "suitability_layer.CreateField(ogr.FieldDefn('wind', ogr.OFTInteger))\n",
    "suitability_layer.CreateField(ogr.FieldDefn('popsqkm', ogr.OFTReal))\n",
    "suitability_row = ogr.Feature(suitability_layer.GetLayerDefn())"
   ]
  },
  {
   "cell_type": "markdown",
   "metadata": {},
   "source": [
    "We iterate through the areas that meet the suitability criteria saving the data in the suitability data source"
   ]
  },
  {
   "cell_type": "code",
   "execution_count": 100,
   "metadata": {},
   "outputs": [
    {
     "name": "stdout",
     "output_type": "stream",
     "text": [
      "Intersecting census tract with 36 wind polygons\n",
      "Intersecting census tract with 957 wind polygons\n"
     ]
    }
   ],
   "source": [
    "for census_row in census_layer:\n",
    "    census_geom = census_row.geometry()\n",
    "    census_geom = census_geom.Intersection(county_geom)\n",
    "    wind_layer.SetSpatialFilter(census_geom)\n",
    "    print('Intersecting census tract with {0} wind polygons'.format(wind_layer.GetFeatureCount()))\n",
    "    if wind_layer.GetFeatureCount() > 0:\n",
    "        suitability_row.SetField('popsqkm', census_row.GetField('popsqkm'))\n",
    "        for wind_row in wind_layer:\n",
    "            wind_geom = wind_row.geometry()\n",
    "            is_intersect = census_geom.Intersect(wind_geom)\n",
    "            if is_intersect:\n",
    "                suitability_row.SetField('wind', wind_row.GetField('WPC'))\n",
    "                suitability_row.SetGeometry(census_geom.Intersection(wind_geom))\n",
    "                suitability_layer.CreateFeature(suitability_row)"
   ]
  },
  {
   "cell_type": "code",
   "execution_count": 101,
   "metadata": {},
   "outputs": [],
   "source": [
    "suitability_layer.GetFeatureCount()\n",
    "del suitability_ds"
   ]
  },
  {
   "cell_type": "markdown",
   "metadata": {},
   "source": [
    "### Tracking animals: Galapagos albatrosses\n",
    "In this example we use a dataset from a [research study](https://www.datarepository.movebank.org/handle/10255/move.331) that contains data about the movements of albatrosses between the Galapagos islands and the coast of Peru. The original dataset is a CSV file. We will first create a shapefile with a spatial reference system and two attributes, tag_id and timestamp, then we will copy the data from the CSV file to the shapefile."
   ]
  },
  {
   "cell_type": "code",
   "execution_count": 110,
   "metadata": {},
   "outputs": [],
   "source": [
    "shp_fn = r'data/vector/global/Galapagos/albatross_dd.shp'\n",
    "shp_ds = ogr.GetDriverByName('ESRI Shapefile').CreateDataSource(shp_fn)\n",
    "sr = osr.SpatialReference()\n",
    "sr.ImportFromEPSG(4326)\n",
    "shp_lyr = shp_ds.CreateLayer('albatross_dd', sr, ogr.wkbPoint)\n",
    "shp_lyr.CreateField(ogr.FieldDefn('tag_id', ogr.OFTString))\n",
    "shp_lyr.CreateField(ogr.FieldDefn('timestamp', ogr.OFTString))\n",
    "shp_row = ogr.Feature(shp_lyr.GetLayerDefn())"
   ]
  },
  {
   "cell_type": "code",
   "execution_count": 111,
   "metadata": {},
   "outputs": [],
   "source": [
    "csv_fn = 'data/vector/global/Galapagos/Galapagos Albatrosses.csv'\n",
    "csv_ds = ogr.Open(csv_fn)\n",
    "csv_lyr = csv_ds.GetLayer()\n",
    "for csv_row in csv_lyr:\n",
    "    x = csv_row.GetFieldAsDouble('location-long')\n",
    "    y = csv_row.GetFieldAsDouble('location-lat')\n",
    "    shp_pt = ogr.Geometry(ogr.wkbPoint)\n",
    "    shp_pt.AddPoint(x, y)\n",
    "    tag_id = csv_row.GetField('individual-local-identifier')\n",
    "    timestamp = csv_row.GetField('timestamp')\n",
    "    shp_row.SetGeometry(shp_pt)\n",
    "    shp_row.SetField('tag_id', tag_id)\n",
    "    shp_row.SetField('timestamp', timestamp)\n",
    "    shp_lyr.CreateFeature(shp_row)"
   ]
  },
  {
   "cell_type": "code",
   "execution_count": 115,
   "metadata": {},
   "outputs": [],
   "source": [
    "galapagos_gdf = gpd.read_file(shp_fn)\n",
    "#fig, ax = plt.subplots(1, figsize=(10, 10))\n",
    "#galapagos_gdf.plot(color='orange', ax=ax)\n",
    "#ax.axis('off')"
   ]
  },
  {
   "cell_type": "markdown",
   "metadata": {},
   "source": [
    "The next step is to compute for each albastros the distances between the places in which it has been observed, in time order. "
   ]
  },
  {
   "cell_type": "code",
   "execution_count": 116,
   "metadata": {},
   "outputs": [],
   "source": [
    "def get_unique(datasource, layer_name, field_name):\n",
    "    sql = 'SELECT DISTINCT {0} FROM {1}'.format(field_name, layer_name)\n",
    "    lyr = datasource.ExecuteSQL (sql)\n",
    "    values = []\n",
    "    for row in lyr:\n",
    "        values.append(row.GetField(field_name))\n",
    "    datasource.ReleaseResultSet(lyr)\n",
    "    return values"
   ]
  },
  {
   "cell_type": "markdown",
   "metadata": {},
   "source": [
    "For each bird it is possible to determine the areas that are mostly visited by computing the convex hull from the observations."
   ]
  },
  {
   "cell_type": "markdown",
   "metadata": {},
   "source": [
    "## Spatial reference systems\n",
    "A spatial reference system (or coordinate reference system) consists of three elements\n",
    "\n",
    "1. Coordinate system\n",
    "2. Datum\n",
    "3. Projection\n",
    "\n",
    "A datum defines the shape of the Earth: sphere, ellipsoid, geoid. A (geographic) coordinate system is a reference system with the origin at the center of the Earth. An example of datum is the World Geodetic System 1984, or WGS84. The (geographic) coordinates of a point on the datum's surface can be projected on a 2D surface, a plane. There exist many projections that can be classified depending on the property that is preserved after a projection from 3D to 2D. Conformal projections preserve the angles. Universal Transverse Mercator (UTM) is a conformal projection. Equal-area projections preserve what is stated in its name, one example is the Lambert projection. The Azimuthal-equidistance projection preserves the distance. The spatial reference system must always be included with the data, otherwise it would be impossible to say to which location on Earth a coordinate pair refers to."
   ]
  },
  {
   "cell_type": "code",
   "execution_count": 117,
   "metadata": {},
   "outputs": [
    {
     "name": "stdout",
     "output_type": "stream",
     "text": [
      "GEOGCS[\"NAD83\",\n",
      "    DATUM[\"North_American_Datum_1983\",\n",
      "        SPHEROID[\"GRS 1980\",6378137,298.257222101,\n",
      "            AUTHORITY[\"EPSG\",\"7019\"]],\n",
      "        AUTHORITY[\"EPSG\",\"6269\"]],\n",
      "    PRIMEM[\"Greenwich\",0,\n",
      "        AUTHORITY[\"EPSG\",\"8901\"]],\n",
      "    UNIT[\"degree\",0.0174532925199433,\n",
      "        AUTHORITY[\"EPSG\",\"9122\"]],\n",
      "    AXIS[\"Latitude\",NORTH],\n",
      "    AXIS[\"Longitude\",EAST],\n",
      "    AUTHORITY[\"EPSG\",\"4269\"]]\n"
     ]
    }
   ],
   "source": [
    "path = 'data/vector/US/states_48.shp'\n",
    "ds = ogr.Open(path)\n",
    "sr = ds.GetLayer().GetSpatialRef()\n",
    "print(sr)"
   ]
  },
  {
   "cell_type": "markdown",
   "metadata": {},
   "source": [
    "This reference system has a datum, the North American Datum 1983, but is not projected. Spatial reference system like this are called 'geographic' or 'unprojected'."
   ]
  },
  {
   "cell_type": "code",
   "execution_count": 118,
   "metadata": {},
   "outputs": [
    {
     "name": "stdout",
     "output_type": "stream",
     "text": [
      "None\n"
     ]
    }
   ],
   "source": [
    "print(ds.GetLayer().GetSpatialRef().GetAttrValue('PROJCS'))"
   ]
  },
  {
   "cell_type": "markdown",
   "metadata": {},
   "source": [
    "We can use GeoPandas to open the dataset so that it will be easier to plot the data."
   ]
  },
  {
   "cell_type": "code",
   "execution_count": 119,
   "metadata": {},
   "outputs": [
    {
     "data": {
      "text/plain": [
       "<Geographic 2D CRS: EPSG:4269>\n",
       "Name: NAD83\n",
       "Axis Info [ellipsoidal]:\n",
       "- Lat[north]: Geodetic latitude (degree)\n",
       "- Lon[east]: Geodetic longitude (degree)\n",
       "Area of Use:\n",
       "- name: North America - onshore and offshore: Canada - Alberta; British Columbia; Manitoba; New Brunswick; Newfoundland and Labrador; Northwest Territories; Nova Scotia; Nunavut; Ontario; Prince Edward Island; Quebec; Saskatchewan; Yukon. Puerto Rico. United States (USA) - Alabama; Alaska; Arizona; Arkansas; California; Colorado; Connecticut; Delaware; Florida; Georgia; Hawaii; Idaho; Illinois; Indiana; Iowa; Kansas; Kentucky; Louisiana; Maine; Maryland; Massachusetts; Michigan; Minnesota; Mississippi; Missouri; Montana; Nebraska; Nevada; New Hampshire; New Jersey; New Mexico; New York; North Carolina; North Dakota; Ohio; Oklahoma; Oregon; Pennsylvania; Rhode Island; South Carolina; South Dakota; Tennessee; Texas; Utah; Vermont; Virginia; Washington; West Virginia; Wisconsin; Wyoming. US Virgin Islands. British Virgin Islands.\n",
       "- bounds: (167.65, 14.92, -40.73, 86.45)\n",
       "Datum: North American Datum 1983\n",
       "- Ellipsoid: GRS 1980\n",
       "- Prime Meridian: Greenwich"
      ]
     },
     "execution_count": 119,
     "metadata": {},
     "output_type": "execute_result"
    }
   ],
   "source": [
    "us48_gdf = gpd.read_file(path)\n",
    "us48_gdf.crs"
   ]
  },
  {
   "cell_type": "markdown",
   "metadata": {},
   "source": [
    "The spatial reference system NAD83 is not projected but if we plot a 2D map Python will choose a projection. "
   ]
  },
  {
   "cell_type": "code",
   "execution_count": 152,
   "metadata": {},
   "outputs": [
    {
     "data": {
      "text/plain": [
       "<AxesSubplot:title={'center':'Continental US - Geographic Reference System NAD83'}>"
      ]
     },
     "execution_count": 152,
     "metadata": {},
     "output_type": "execute_result"
    },
    {
     "data": {
      "image/png": "[encoded data removed]",
      "text/plain": [
       "<Figure size 720x360 with 1 Axes>"
      ]
     },
     "metadata": {
      "needs_background": "light"
     },
     "output_type": "display_data"
    }
   ],
   "source": [
    "fig, ax = plt.subplots(1, figsize=(10, 5))\n",
    "ax.set_title('Continental US - Geographic Reference System NAD83')\n",
    "us48_gdf.plot(ax=ax, edgecolor='0.9')"
   ]
  },
  {
   "cell_type": "markdown",
   "metadata": {},
   "source": [
    "### Creating a spatial reference system\n",
    "The [EPSG](https://epsg.io) has a list of spatial reference systems. We can import a spatial reference system to be used in a layer."
   ]
  },
  {
   "cell_type": "code",
   "execution_count": 122,
   "metadata": {},
   "outputs": [
    {
     "data": {
      "text/plain": [
       "0"
      ]
     },
     "execution_count": 122,
     "metadata": {},
     "output_type": "execute_result"
    }
   ],
   "source": [
    "sr = osr.SpatialReference()\n",
    "sr.ImportFromEPSG(26912)"
   ]
  },
  {
   "cell_type": "markdown",
   "metadata": {},
   "source": [
    "This patial reference system is a projected one"
   ]
  },
  {
   "cell_type": "code",
   "execution_count": 123,
   "metadata": {},
   "outputs": [
    {
     "data": {
      "text/plain": [
       "'NAD83 / UTM zone 12N'"
      ]
     },
     "execution_count": 123,
     "metadata": {},
     "output_type": "execute_result"
    }
   ],
   "source": [
    "sr.GetAttrValue('PROJCS')"
   ]
  },
  {
   "cell_type": "markdown",
   "metadata": {},
   "source": [
    "Once we have a spatial reference we can create a data source and a layer adding the spatial reference to it."
   ]
  },
  {
   "cell_type": "code",
   "execution_count": 124,
   "metadata": {},
   "outputs": [],
   "source": [
    "driver = ogr.GetDriverByName('ESRI Shapefile')\n",
    "ds = driver.CreateDataSource(r'data/vector/testdata.shp')\n",
    "lyr = ds.CreateLayer('counties', sr, ogr.wkbPolygon)"
   ]
  },
  {
   "cell_type": "markdown",
   "metadata": {},
   "source": [
    "We can add features to a layer, paying attention that their coordinates are valid according to the layer's spatial reference. In case a feauture has a different spatial reference than the layer, we have to transform its coordinates before adding that feature to the layer."
   ]
  },
  {
   "cell_type": "code",
   "execution_count": 125,
   "metadata": {},
   "outputs": [
    {
     "data": {
      "text/plain": [
       "<AxesSubplot:title={'center':'World Map - Geographic Reference System WGS84'}>"
      ]
     },
     "execution_count": 125,
     "metadata": {},
     "output_type": "execute_result"
    },
    {
     "data": {
      "image/png": "[encoded data removed]",
      "text/plain": [
       "<Figure size 720x720 with 1 Axes>"
      ]
     },
     "metadata": {
      "needs_background": "light"
     },
     "output_type": "display_data"
    }
   ],
   "source": [
    "world_fn = 'data/vector/global/ne_110m_land_1p.shp'\n",
    "world = gpd.read_file(world_fn)\n",
    "fig, ax = plt.subplots(1, figsize=(10, 10))\n",
    "ax.set_title('World Map - Geographic Reference System WGS84')\n",
    "world.plot(color='orange', ax=ax)"
   ]
  },
  {
   "cell_type": "markdown",
   "metadata": {},
   "source": [
    "The spatial reference used by the world dataset is WGS84 and it's not projected as we can see from the description"
   ]
  },
  {
   "cell_type": "code",
   "execution_count": 141,
   "metadata": {},
   "outputs": [
    {
     "name": "stdout",
     "output_type": "stream",
     "text": [
      "GEOGCS[\"WGS 84\",\n",
      "    DATUM[\"WGS_1984\",\n",
      "        SPHEROID[\"WGS 84\",6378137,298.257223563,\n",
      "            AUTHORITY[\"EPSG\",\"7030\"]],\n",
      "        AUTHORITY[\"EPSG\",\"6326\"]],\n",
      "    PRIMEM[\"Greenwich\",0,\n",
      "        AUTHORITY[\"EPSG\",\"8901\"]],\n",
      "    UNIT[\"degree\",0.0174532925199433,\n",
      "        AUTHORITY[\"EPSG\",\"9122\"]],\n",
      "    AXIS[\"Latitude\",NORTH],\n",
      "    AXIS[\"Longitude\",EAST],\n",
      "    AUTHORITY[\"EPSG\",\"4326\"]]\n"
     ]
    }
   ],
   "source": [
    "world_ds = ogr.Open(world_fn)\n",
    "print(world_ds.GetLayer().GetSpatialRef())"
   ]
  },
  {
   "cell_type": "markdown",
   "metadata": {},
   "source": [
    "## Reprojecting an entire layer\n",
    "We want to reproject, that is change the reference system"
   ]
  },
  {
   "cell_type": "code",
   "execution_count": 142,
   "metadata": {},
   "outputs": [
    {
     "data": {
      "text/plain": [
       "<Geographic 2D CRS: EPSG:4269>\n",
       "Name: NAD83\n",
       "Axis Info [ellipsoidal]:\n",
       "- Lat[north]: Geodetic latitude (degree)\n",
       "- Lon[east]: Geodetic longitude (degree)\n",
       "Area of Use:\n",
       "- name: North America - onshore and offshore: Canada - Alberta; British Columbia; Manitoba; New Brunswick; Newfoundland and Labrador; Northwest Territories; Nova Scotia; Nunavut; Ontario; Prince Edward Island; Quebec; Saskatchewan; Yukon. Puerto Rico. United States (USA) - Alabama; Alaska; Arizona; Arkansas; California; Colorado; Connecticut; Delaware; Florida; Georgia; Hawaii; Idaho; Illinois; Indiana; Iowa; Kansas; Kentucky; Louisiana; Maine; Maryland; Massachusetts; Michigan; Minnesota; Mississippi; Missouri; Montana; Nebraska; Nevada; New Hampshire; New Jersey; New Mexico; New York; North Carolina; North Dakota; Ohio; Oklahoma; Oregon; Pennsylvania; Rhode Island; South Carolina; South Dakota; Tennessee; Texas; Utah; Vermont; Virginia; Washington; West Virginia; Wisconsin; Wyoming. US Virgin Islands. British Virgin Islands.\n",
       "- bounds: (167.65, 14.92, -40.73, 86.45)\n",
       "Datum: North American Datum 1983\n",
       "- Ellipsoid: GRS 1980\n",
       "- Prime Meridian: Greenwich"
      ]
     },
     "execution_count": 142,
     "metadata": {},
     "output_type": "execute_result"
    }
   ],
   "source": [
    "us48_gdf.crs"
   ]
  },
  {
   "cell_type": "markdown",
   "metadata": {},
   "source": [
    "We change the CRS from a unprojected one, with units in degree, to a projected one with units in metres. This is not a very useful change of CRS, it is used just to sho how to change the CRS."
   ]
  },
  {
   "cell_type": "code",
   "execution_count": 150,
   "metadata": {},
   "outputs": [],
   "source": [
    "us48_epsg3395 = us48_gdf.to_crs(epsg=3395)"
   ]
  },
  {
   "cell_type": "code",
   "execution_count": 151,
   "metadata": {},
   "outputs": [
    {
     "data": {
      "text/plain": [
       "<AxesSubplot:title={'center':'Continental USA - Geographic Reference System WGS 84 / World Mercator'}>"
      ]
     },
     "execution_count": 151,
     "metadata": {},
     "output_type": "execute_result"
    },
    {
     "data": {
      "image/png": "[encoded data removed]",
      "text/plain": [
       "<Figure size 720x720 with 1 Axes>"
      ]
     },
     "metadata": {
      "needs_background": "light"
     },
     "output_type": "display_data"
    }
   ],
   "source": [
    "fig, ax = plt.subplots(1, figsize=(10, 10))\n",
    "ax.set_title('Continental USA - Geographic Reference System WGS 84 / World Mercator')\n",
    "us48_epsg3395.plot(color='orange', ax=ax)"
   ]
  },
  {
   "cell_type": "markdown",
   "metadata": {},
   "source": [
    "## Convert coordinates\n",
    "We can create a feature, e.g. a point with its coordinate pair, latitude and longtude, and assign the WGS84 spatial reference to it."
   ]
  },
  {
   "cell_type": "code",
   "execution_count": 135,
   "metadata": {},
   "outputs": [
    {
     "data": {
      "text/plain": [
       "0"
      ]
     },
     "execution_count": 135,
     "metadata": {},
     "output_type": "execute_result"
    }
   ],
   "source": [
    "sr_wgs84 = osr.SpatialReference()\n",
    "sr_wgs84.ImportFromEPSG(4326)"
   ]
  },
  {
   "cell_type": "code",
   "execution_count": 136,
   "metadata": {},
   "outputs": [],
   "source": [
    "eiffel_tower = ogr.Geometry(ogr.wkbPoint) \n",
    "eiffel_tower.AddPoint(2.294694, 48.858093)\n",
    "eiffel_tower.AssignSpatialReference(sr_wgs84)"
   ]
  },
  {
   "cell_type": "markdown",
   "metadata": {},
   "source": [
    "We can transform our point's coordinates to another reference system, e.g the one used by Google Maps [EPSG:3857](https://epsg.io/3857)"
   ]
  },
  {
   "cell_type": "code",
   "execution_count": 137,
   "metadata": {},
   "outputs": [
    {
     "data": {
      "text/plain": [
       "0"
      ]
     },
     "execution_count": 137,
     "metadata": {},
     "output_type": "execute_result"
    }
   ],
   "source": [
    "web_mercator_sr = osr.SpatialReference()\n",
    "web_mercator_sr.ImportFromEPSG(3857)"
   ]
  },
  {
   "cell_type": "code",
   "execution_count": 138,
   "metadata": {},
   "outputs": [
    {
     "data": {
      "text/plain": [
       "'POINT (5438858.0338904 255512.483732941 0)'"
      ]
     },
     "execution_count": 138,
     "metadata": {},
     "output_type": "execute_result"
    }
   ],
   "source": [
    "eiffel_tower.TransformTo(web_mercator_sr)\n",
    "eiffel_tower_wkt = eiffel_tower.ExportToWkt()\n",
    "eiffel_tower_wkt"
   ]
  },
  {
   "cell_type": "markdown",
   "metadata": {},
   "source": [
    "### Great circle calculation\n",
    "We use [pyproj](https://pyproj4.github.io/pyproj/stable/index.html) to compute the distance between two cities on the ellipsoid."
   ]
  },
  {
   "cell_type": "code",
   "execution_count": 140,
   "metadata": {},
   "outputs": [
    {
     "name": "stdout",
     "output_type": "stream",
     "text": [
      "forward: 27.23284045673669\n",
      "back: -38.49148498662069\n",
      "dist: 9331.934878166698 km\n"
     ]
    }
   ],
   "source": [
    "la_lat, la_lon = 34.0500, -118.2500\n",
    "berlin_lat, berlin_lon = 52.5167, 13.3833\n",
    "geod = pyproj.Geod(ellps='WGS84')\n",
    "forward, back, dist = geod.inv(la_lon, la_lat, berlin_lon, berlin_lat)\n",
    "print('forward: {}\\nback: {}\\ndist: {} km'.format(forward, back, dist / 1000))"
   ]
  },
  {
   "cell_type": "markdown",
   "metadata": {},
   "source": [
    "## References\n",
    "* [Smith - Geographic vs Projected Coordinate Systems](https://www.esri.com/arcgis-blog/products/arcgis-pro/mapping/gcs_vs_pcs/)\n",
    "* [Karney - Algorithms for geodesics](https://arxiv.org/abs/1109.4448)\n",
    "* [Institute for Environment and Sustainability - Map Projections for Europe](http://mapref.org/LinkedDocuments/MapProjectionsForEurope-EUR-20120.pdf)\n",
    "* [Tenkanen - Map projections](https://automating-gis-processes.github.io/CSC/notebooks/L2/projections.html)"
   ]
  },
  {
   "cell_type": "code",
   "execution_count": null,
   "metadata": {},
   "outputs": [],
   "source": []
  }
 ],
 "metadata": {
  "kernelspec": {
   "display_name": "Python 3 (ipykernel)",
   "language": "python",
   "name": "python3"
  },
  "language_info": {
   "codemirror_mode": {
    "name": "ipython",
    "version": 3
   },
   "file_extension": ".py",
   "mimetype": "text/x-python",
   "name": "python",
   "nbconvert_exporter": "python",
   "pygments_lexer": "ipython3",
   "version": "3.9.13"
  }
 },
 "nbformat": 4,
 "nbformat_minor": 4
}
