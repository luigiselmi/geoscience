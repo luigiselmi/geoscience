{
 "cells": [
  {
   "cell_type": "markdown",
   "id": "ea689d6b",
   "metadata": {},
   "source": [
    "# Reprojection \n",
    "In this example we will create GeoDataFrames using an unprojected reference system WGS84 [EPSG:4326](https://epsg.io/4326)  adding some points and polygons, then we will change the CRS into a WGS84 Transverse Mercator coordinate reference system [EPSG:32632](https://epsg.io/32632), and finally we change again the CRS using [EPSG:3035](https://epsg.io/3035), another projected reference system with a different datum and projection."
   ]
  },
  {
   "cell_type": "code",
   "execution_count": 22,
   "id": "67cb4d78",
   "metadata": {},
   "outputs": [],
   "source": [
    "import geopandas as gpd\n",
    "from shapely.geometry import Point, LineString, Polygon\n",
    "import matplotlib.pyplot as plt"
   ]
  },
  {
   "cell_type": "markdown",
   "id": "4247795b",
   "metadata": {},
   "source": [
    "## Points and Polygons\n",
    "We create some points of (latitude, longitude) coordinate pairs and polygons using the unprojected coordinate system WGS84 ([EPSG:4326](https://epsg.io/4326)) "
   ]
  },
  {
   "cell_type": "code",
   "execution_count": 102,
   "id": "e4c9c69e",
   "metadata": {},
   "outputs": [],
   "source": [
    "ancona = Point(13.516759030178973, 43.616981322253174)\n",
    "corinaldo = Point(13.049195930621709, 43.648832985051826)\n",
    "pergola = Point(12.836472564469215, 43.56165937486001)\n",
    "fabriano = Point(12.904426736174587, 43.333135653018644)\n",
    "camerino = Point(13.069720952624685, 43.13575640876881)\n",
    "tolentino = Point(13.285526127229707, 43.20802624129122)\n",
    "civitanova = Point(13.730063928797744, 43.30743501558867)"
   ]
  },
  {
   "cell_type": "markdown",
   "id": "f5564662",
   "metadata": {},
   "source": [
    "We create a geodataframe by setting the geometry of each record and the coordnate reference system"
   ]
  },
  {
   "cell_type": "code",
   "execution_count": 103,
   "id": "b907f7f4",
   "metadata": {},
   "outputs": [
    {
     "data": {
      "text/plain": [
       "<Geographic 2D CRS: EPSG:4326>\n",
       "Name: WGS 84\n",
       "Axis Info [ellipsoidal]:\n",
       "- Lat[north]: Geodetic latitude (degree)\n",
       "- Lon[east]: Geodetic longitude (degree)\n",
       "Area of Use:\n",
       "- name: World.\n",
       "- bounds: (-180.0, -90.0, 180.0, 90.0)\n",
       "Datum: World Geodetic System 1984 ensemble\n",
       "- Ellipsoid: WGS 84\n",
       "- Prime Meridian: Greenwich"
      ]
     },
     "execution_count": 103,
     "metadata": {},
     "output_type": "execute_result"
    }
   ],
   "source": [
    "names = ['Ancona', 'Corinaldo', 'Pergola', 'Fabriano', 'Camerino', 'Tolentino', 'Civitanova']\n",
    "geometries = [ancona, corinaldo, pergola, fabriano, camerino, tolentino, civitanova]\n",
    "places = {'Place': names, 'geometry': geometries}\n",
    "\n",
    "places_gdf = gpd.GeoDataFrame(places, crs=\"EPSG:4326\")\n",
    "places_gdf.crs"
   ]
  },
  {
   "cell_type": "code",
   "execution_count": 104,
   "id": "76541ccd",
   "metadata": {},
   "outputs": [
    {
     "data": {
      "text/html": [
       "<div>\n",
       "<style scoped>\n",
       "    .dataframe tbody tr th:only-of-type {\n",
       "        vertical-align: middle;\n",
       "    }\n",
       "\n",
       "    .dataframe tbody tr th {\n",
       "        vertical-align: top;\n",
       "    }\n",
       "\n",
       "    .dataframe thead th {\n",
       "        text-align: right;\n",
       "    }\n",
       "</style>\n",
       "<table border=\"1\" class=\"dataframe\">\n",
       "  <thead>\n",
       "    <tr style=\"text-align: right;\">\n",
       "      <th></th>\n",
       "      <th>Place</th>\n",
       "      <th>geometry</th>\n",
       "    </tr>\n",
       "  </thead>\n",
       "  <tbody>\n",
       "    <tr>\n",
       "      <th>0</th>\n",
       "      <td>Ancona</td>\n",
       "      <td>POINT (13.51676 43.61698)</td>\n",
       "    </tr>\n",
       "    <tr>\n",
       "      <th>1</th>\n",
       "      <td>Corinaldo</td>\n",
       "      <td>POINT (13.04920 43.64883)</td>\n",
       "    </tr>\n",
       "    <tr>\n",
       "      <th>2</th>\n",
       "      <td>Pergola</td>\n",
       "      <td>POINT (12.83647 43.56166)</td>\n",
       "    </tr>\n",
       "    <tr>\n",
       "      <th>3</th>\n",
       "      <td>Fabriano</td>\n",
       "      <td>POINT (12.90443 43.33314)</td>\n",
       "    </tr>\n",
       "    <tr>\n",
       "      <th>4</th>\n",
       "      <td>Camerino</td>\n",
       "      <td>POINT (13.06972 43.13576)</td>\n",
       "    </tr>\n",
       "    <tr>\n",
       "      <th>5</th>\n",
       "      <td>Tolentino</td>\n",
       "      <td>POINT (13.28553 43.20803)</td>\n",
       "    </tr>\n",
       "    <tr>\n",
       "      <th>6</th>\n",
       "      <td>Civitanova</td>\n",
       "      <td>POINT (13.73006 43.30744)</td>\n",
       "    </tr>\n",
       "  </tbody>\n",
       "</table>\n",
       "</div>"
      ],
      "text/plain": [
       "        Place                   geometry\n",
       "0      Ancona  POINT (13.51676 43.61698)\n",
       "1   Corinaldo  POINT (13.04920 43.64883)\n",
       "2     Pergola  POINT (12.83647 43.56166)\n",
       "3    Fabriano  POINT (12.90443 43.33314)\n",
       "4    Camerino  POINT (13.06972 43.13576)\n",
       "5   Tolentino  POINT (13.28553 43.20803)\n",
       "6  Civitanova  POINT (13.73006 43.30744)"
      ]
     },
     "execution_count": 104,
     "metadata": {},
     "output_type": "execute_result"
    }
   ],
   "source": [
    "places_gdf"
   ]
  },
  {
   "cell_type": "code",
   "execution_count": 105,
   "id": "4ce27131",
   "metadata": {},
   "outputs": [
    {
     "data": {
      "text/plain": [
       "<AxesSubplot:>"
      ]
     },
     "execution_count": 105,
     "metadata": {},
     "output_type": "execute_result"
    },
    {
     "data": {
      "image/png": "[encoded data removed]",
      "text/plain": [
       "<Figure size 720x360 with 1 Axes>"
      ]
     },
     "metadata": {
      "needs_background": "light"
     },
     "output_type": "display_data"
    }
   ],
   "source": [
    "fig, ax = plt.subplots(1, figsize=(10, 5))\n",
    "places_gdf.plot(ax=ax)"
   ]
  },
  {
   "cell_type": "markdown",
   "id": "f5696f17",
   "metadata": {},
   "source": [
    "We create a polygon from the points that have been defined and a geo dataframe using the same WGS84 coordinate reference system. A polygon starts and ends with the same point."
   ]
  },
  {
   "cell_type": "code",
   "execution_count": 106,
   "id": "ea95a2dd",
   "metadata": {},
   "outputs": [],
   "source": [
    "geometries.append(ancona)\n",
    "places_poligon = Polygon(geometries)\n",
    "ancona_polygon = {'Polygon': ['Ancona Polygon'], 'geometry': places_poligon}\n",
    "blue_poligon_df = gpd.GeoDataFrame(ancona_polygon, crs =\"EPSG:4326\")"
   ]
  },
  {
   "cell_type": "code",
   "execution_count": 107,
   "id": "69be8f6b",
   "metadata": {},
   "outputs": [
    {
     "data": {
      "text/plain": [
       "<AxesSubplot:>"
      ]
     },
     "execution_count": 107,
     "metadata": {},
     "output_type": "execute_result"
    },
    {
     "data": {
      "image/png": "[encoded data removed]",
      "text/plain": [
       "<Figure size 720x360 with 1 Axes>"
      ]
     },
     "metadata": {
      "needs_background": "light"
     },
     "output_type": "display_data"
    }
   ],
   "source": [
    "fig, ax = plt.subplots(1, figsize=(10, 5))\n",
    "blue_poligon_df.plot(ax=ax)"
   ]
  },
  {
   "cell_type": "markdown",
   "id": "a05243ce",
   "metadata": {},
   "source": [
    "We create a 2nd polygon that lies within the 1st one"
   ]
  },
  {
   "cell_type": "code",
   "execution_count": 108,
   "id": "7d4c808a",
   "metadata": {},
   "outputs": [],
   "source": [
    "pollenza = Point(13.348327008723794, 43.267747099681664)\n",
    "macerata = Point(13.453648702662996, 43.29998523010854)\n",
    "recanati = Point(13.549725428303592, 43.402275676832225)\n",
    "cingoli = Point(13.215093036131329, 43.3753164922384)\n",
    "\n",
    "names = ['Pollenza', 'Macerata', 'Recanati', 'Cingoli']\n",
    "geometries = [pollenza, macerata, recanati, cingoli]\n",
    "places = {'Place': names, 'geometry': geometries}\n",
    "\n",
    "places2_gdf = gpd.GeoDataFrame(places, crs=\"EPSG:4326\")"
   ]
  },
  {
   "cell_type": "code",
   "execution_count": 109,
   "id": "002fc2bb",
   "metadata": {},
   "outputs": [],
   "source": [
    "geometries.append(pollenza) \n",
    "places_poligon = Polygon(geometries)\n",
    "pollenza_polygon = {'Polygon': ['Pollenza Polygon'], 'geometry': places_poligon}\n",
    "orange_polygon_df = gpd.GeoDataFrame(pollenza_polygon, crs ='EPSG:4326')"
   ]
  },
  {
   "cell_type": "code",
   "execution_count": 110,
   "id": "f08d08d8",
   "metadata": {},
   "outputs": [
    {
     "data": {
      "text/plain": [
       "<AxesSubplot:>"
      ]
     },
     "execution_count": 110,
     "metadata": {},
     "output_type": "execute_result"
    },
    {
     "data": {
      "image/png": "[encoded data removed]",
      "text/plain": [
       "<Figure size 720x360 with 1 Axes>"
      ]
     },
     "metadata": {
      "needs_background": "light"
     },
     "output_type": "display_data"
    }
   ],
   "source": [
    "fig, ax = plt.subplots(1, figsize=(10, 5))\n",
    "ancona_poligon_df.plot(ax=ax)\n",
    "orange_polygon_df.plot(ax=ax, color='orange')"
   ]
  },
  {
   "cell_type": "markdown",
   "id": "64bb495d",
   "metadata": {},
   "source": [
    "A 3rd polygon intersects the 1st one and touches the 2nd one"
   ]
  },
  {
   "cell_type": "code",
   "execution_count": 111,
   "id": "f18e0a1e",
   "metadata": {},
   "outputs": [],
   "source": [
    "assisi = Point(12.614701534142005, 43.07119190994771)\n",
    "foligno = Point(12.703168606899375, 42.9562108203491)\n",
    "\n",
    "names = ['Assisi', 'Foligno', 'Cingoli']\n",
    "geometries = [assisi, foligno, cingoli]\n",
    "places = {'Place': names, 'geometry': geometries}\n",
    "\n",
    "geometries.append(assisi)\n",
    "places_poligon = Polygon(geometries)\n",
    "assisi_polygon = {'Polygon': ['Assisi Polygon'], 'geometry': places_poligon}\n",
    "red_polygon_df = gpd.GeoDataFrame(assisi_polygon, crs ='EPSG:4326')"
   ]
  },
  {
   "cell_type": "code",
   "execution_count": 113,
   "id": "c6a3415c",
   "metadata": {},
   "outputs": [
    {
     "data": {
      "text/plain": [
       "<AxesSubplot:>"
      ]
     },
     "execution_count": 113,
     "metadata": {},
     "output_type": "execute_result"
    },
    {
     "data": {
      "image/png": "[encoded data removed]",
      "text/plain": [
       "<Figure size 720x360 with 1 Axes>"
      ]
     },
     "metadata": {
      "needs_background": "light"
     },
     "output_type": "display_data"
    }
   ],
   "source": [
    "fig, ax = plt.subplots(1, figsize=(10, 5))\n",
    "blue_poligon_df.plot(ax=ax)\n",
    "orange_polygon_df.plot(ax=ax, color='orange')\n",
    "red_polygon_df.plot(ax=ax, color='red')"
   ]
  },
  {
   "cell_type": "markdown",
   "id": "8eb729b3",
   "metadata": {},
   "source": [
    "## Spatial relationship\n",
    "We apply the topological operators within, intersects and touch, between the polygons that we have defined.\n",
    "\n",
    "### within\n",
    "From the [operator definition](https://geopandas.org/en/stable/docs/reference/api/geopandas.GeoSeries.within.html) in Geopandas: \"An object is said to be within another if at least one of its points is located in the interior and no points are located in the exterior of the other.\""
   ]
  },
  {
   "cell_type": "code",
   "execution_count": 114,
   "id": "d77ef885",
   "metadata": {},
   "outputs": [
    {
     "data": {
      "text/plain": [
       "0    True\n",
       "dtype: bool"
      ]
     },
     "execution_count": 114,
     "metadata": {},
     "output_type": "execute_result"
    }
   ],
   "source": [
    "orange_polygon_df.within(blue_poligon_df)"
   ]
  },
  {
   "cell_type": "code",
   "execution_count": 115,
   "id": "f4dd0c7f",
   "metadata": {},
   "outputs": [
    {
     "data": {
      "text/plain": [
       "0    False\n",
       "dtype: bool"
      ]
     },
     "execution_count": 115,
     "metadata": {},
     "output_type": "execute_result"
    }
   ],
   "source": [
    "red_polygon_df.within(blue_poligon_df)"
   ]
  },
  {
   "cell_type": "markdown",
   "id": "95f6a786",
   "metadata": {},
   "source": [
    "### intersects\n",
    "From the [operator definition](https://geopandas.org/en/stable/docs/reference/api/geopandas.GeoSeries.intersects.html) in GeoPandas: \"An object is said to intersect another if its boundary and interior intersects in any way with those of the other.\""
   ]
  },
  {
   "cell_type": "code",
   "execution_count": 116,
   "id": "4cadf22f",
   "metadata": {},
   "outputs": [
    {
     "data": {
      "text/plain": [
       "0    True\n",
       "dtype: bool"
      ]
     },
     "execution_count": 116,
     "metadata": {},
     "output_type": "execute_result"
    }
   ],
   "source": [
    "orange_polygon_df.intersects(blue_poligon_df)"
   ]
  },
  {
   "cell_type": "code",
   "execution_count": 117,
   "id": "c5e70dea",
   "metadata": {},
   "outputs": [
    {
     "data": {
      "text/plain": [
       "0    True\n",
       "dtype: bool"
      ]
     },
     "execution_count": 117,
     "metadata": {},
     "output_type": "execute_result"
    }
   ],
   "source": [
    "red_polygon_df.intersects(blue_poligon_df)"
   ]
  },
  {
   "cell_type": "code",
   "execution_count": 119,
   "id": "6f487f7f",
   "metadata": {},
   "outputs": [
    {
     "data": {
      "text/plain": [
       "0    True\n",
       "dtype: bool"
      ]
     },
     "execution_count": 119,
     "metadata": {},
     "output_type": "execute_result"
    }
   ],
   "source": [
    "red_polygon_df.intersects(orange_polygon_df)"
   ]
  },
  {
   "cell_type": "markdown",
   "id": "f76fb4b2",
   "metadata": {},
   "source": [
    "### touches\n",
    "From the [operator definition](https://geopandas.org/en/stable/docs/reference/api/geopandas.GeoSeries.touches.html): \"An object is said to touch another if it has at least one point in common with other and its interior does not intersect with any part of the other. Overlapping features therefore do not touch.\" "
   ]
  },
  {
   "cell_type": "code",
   "execution_count": 120,
   "id": "ee75558b",
   "metadata": {},
   "outputs": [
    {
     "data": {
      "text/plain": [
       "0    False\n",
       "dtype: bool"
      ]
     },
     "execution_count": 120,
     "metadata": {},
     "output_type": "execute_result"
    }
   ],
   "source": [
    "orange_polygon_df.touches(blue_poligon_df)"
   ]
  },
  {
   "cell_type": "code",
   "execution_count": 121,
   "id": "a9cbc020",
   "metadata": {},
   "outputs": [
    {
     "data": {
      "text/plain": [
       "0    False\n",
       "dtype: bool"
      ]
     },
     "execution_count": 121,
     "metadata": {},
     "output_type": "execute_result"
    }
   ],
   "source": [
    "red_polygon_df.touches(blue_poligon_df)"
   ]
  },
  {
   "cell_type": "code",
   "execution_count": 122,
   "id": "eb67a8ad",
   "metadata": {},
   "outputs": [
    {
     "data": {
      "text/plain": [
       "0    True\n",
       "dtype: bool"
      ]
     },
     "execution_count": 122,
     "metadata": {},
     "output_type": "execute_result"
    }
   ],
   "source": [
    "red_polygon_df.touches(orange_polygon_df)"
   ]
  },
  {
   "cell_type": "markdown",
   "id": "33f4c9ea",
   "metadata": {},
   "source": [
    "## Projections\n",
    "Now we change the CRS to project the coordinates of the points and polygons onto a plane. We use the Transverse Mercato projection. We will replace the unprojected EPSG:4362 CRS that we have used so far to the EPSG:32632 CRS that uses the same datum and also a Transverse Mercator projection. The coordinate will be in meters instead of degrees. We reproject all the three polygons."
   ]
  },
  {
   "cell_type": "code",
   "execution_count": 124,
   "id": "7f85aec0",
   "metadata": {},
   "outputs": [
    {
     "data": {
      "text/plain": [
       "<Derived Projected CRS: EPSG:32632>\n",
       "Name: WGS 84 / UTM zone 32N\n",
       "Axis Info [cartesian]:\n",
       "- E[east]: Easting (metre)\n",
       "- N[north]: Northing (metre)\n",
       "Area of Use:\n",
       "- name: Between 6°E and 12°E, northern hemisphere between equator and 84°N, onshore and offshore. Algeria. Austria. Cameroon. Denmark. Equatorial Guinea. France. Gabon. Germany. Italy. Libya. Liechtenstein. Monaco. Netherlands. Niger. Nigeria. Norway. Sao Tome and Principe. Svalbard. Sweden. Switzerland. Tunisia. Vatican City State.\n",
       "- bounds: (6.0, 0.0, 12.0, 84.0)\n",
       "Coordinate Operation:\n",
       "- name: UTM zone 32N\n",
       "- method: Transverse Mercator\n",
       "Datum: World Geodetic System 1984 ensemble\n",
       "- Ellipsoid: WGS 84\n",
       "- Prime Meridian: Greenwich"
      ]
     },
     "execution_count": 124,
     "metadata": {},
     "output_type": "execute_result"
    }
   ],
   "source": [
    "blue_poligon_df_epsg32632 = blue_poligon_df.copy()\n",
    "blue_poligon_df_epsg32632.to_crs(epsg=32632, inplace=True)\n",
    "blue_poligon_df_epsg32632.crs"
   ]
  },
  {
   "cell_type": "code",
   "execution_count": 126,
   "id": "c9eb6343",
   "metadata": {},
   "outputs": [
    {
     "data": {
      "text/plain": [
       "0    POLYGON ((864467.163 4839253.907, 826562.436 4...\n",
       "Name: geometry, dtype: geometry"
      ]
     },
     "execution_count": 126,
     "metadata": {},
     "output_type": "execute_result"
    }
   ],
   "source": [
    "blue_poligon_df_epsg32632['geometry']"
   ]
  },
  {
   "cell_type": "code",
   "execution_count": 142,
   "id": "f9e1c19b",
   "metadata": {},
   "outputs": [],
   "source": [
    "orange_polygon_df_epsg32632 = orange_polygon_df.copy()\n",
    "orange_polygon_df_epsg32632.to_crs(epsg=32632, inplace=True)"
   ]
  },
  {
   "cell_type": "code",
   "execution_count": 130,
   "id": "3b3cc37c",
   "metadata": {},
   "outputs": [],
   "source": [
    "red_polygon_df_epsg32632 = red_polygon_df.copy()\n",
    "red_polygon_df_epsg32632.to_crs(epsg=32632, inplace=True)"
   ]
  },
  {
   "cell_type": "markdown",
   "id": "c52f99b2",
   "metadata": {},
   "source": [
    "## Spatial relationship using a projected coordinate reference system\n",
    "We use the topological operators to see whether the spatial relationships between the polygons still hold true after the change of the CRS. As we can see all of them are still valid.\n",
    "\n",
    "### From EPSG:4326 to EPSG:32632"
   ]
  },
  {
   "cell_type": "markdown",
   "id": "cdeb51b9",
   "metadata": {},
   "source": [
    "### within"
   ]
  },
  {
   "cell_type": "code",
   "execution_count": 131,
   "id": "93fac020",
   "metadata": {},
   "outputs": [
    {
     "data": {
      "text/plain": [
       "0    True\n",
       "dtype: bool"
      ]
     },
     "execution_count": 131,
     "metadata": {},
     "output_type": "execute_result"
    }
   ],
   "source": [
    "orange_polygon_df_epsg32632.within(blue_poligon_df_epsg32632)"
   ]
  },
  {
   "cell_type": "code",
   "execution_count": 132,
   "id": "e6f9f576",
   "metadata": {},
   "outputs": [
    {
     "data": {
      "text/plain": [
       "0    False\n",
       "dtype: bool"
      ]
     },
     "execution_count": 132,
     "metadata": {},
     "output_type": "execute_result"
    }
   ],
   "source": [
    "red_polygon_df_epsg32632.within(blue_poligon_df_epsg32632)"
   ]
  },
  {
   "cell_type": "markdown",
   "id": "15108213",
   "metadata": {},
   "source": [
    "### intersects"
   ]
  },
  {
   "cell_type": "code",
   "execution_count": 133,
   "id": "c5db3d29",
   "metadata": {},
   "outputs": [
    {
     "data": {
      "text/plain": [
       "0    True\n",
       "dtype: bool"
      ]
     },
     "execution_count": 133,
     "metadata": {},
     "output_type": "execute_result"
    }
   ],
   "source": [
    "orange_polygon_df_epsg32632.intersects(blue_poligon_df_epsg32632)"
   ]
  },
  {
   "cell_type": "code",
   "execution_count": 134,
   "id": "54e8353f",
   "metadata": {},
   "outputs": [
    {
     "data": {
      "text/plain": [
       "0    True\n",
       "dtype: bool"
      ]
     },
     "execution_count": 134,
     "metadata": {},
     "output_type": "execute_result"
    }
   ],
   "source": [
    "red_polygon_df_epsg32632.intersects(blue_poligon_df_epsg32632)"
   ]
  },
  {
   "cell_type": "code",
   "execution_count": 135,
   "id": "2548b9fe",
   "metadata": {},
   "outputs": [
    {
     "data": {
      "text/plain": [
       "0    True\n",
       "dtype: bool"
      ]
     },
     "execution_count": 135,
     "metadata": {},
     "output_type": "execute_result"
    }
   ],
   "source": [
    "red_polygon_df_epsg32632.intersects(orange_polygon_df_epsg32632)"
   ]
  },
  {
   "cell_type": "markdown",
   "id": "85e90dd4",
   "metadata": {},
   "source": [
    "### touches"
   ]
  },
  {
   "cell_type": "code",
   "execution_count": 136,
   "id": "d950ff9e",
   "metadata": {},
   "outputs": [
    {
     "data": {
      "text/plain": [
       "0    False\n",
       "dtype: bool"
      ]
     },
     "execution_count": 136,
     "metadata": {},
     "output_type": "execute_result"
    }
   ],
   "source": [
    "orange_polygon_df_epsg32632.touches(blue_poligon_df_epsg32632)"
   ]
  },
  {
   "cell_type": "code",
   "execution_count": 137,
   "id": "8f159db2",
   "metadata": {},
   "outputs": [
    {
     "data": {
      "text/plain": [
       "0    False\n",
       "dtype: bool"
      ]
     },
     "execution_count": 137,
     "metadata": {},
     "output_type": "execute_result"
    }
   ],
   "source": [
    "red_polygon_df_epsg32632.touches(blue_poligon_df_epsg32632)"
   ]
  },
  {
   "cell_type": "code",
   "execution_count": 138,
   "id": "fdb91d80",
   "metadata": {},
   "outputs": [
    {
     "data": {
      "text/plain": [
       "0    True\n",
       "dtype: bool"
      ]
     },
     "execution_count": 138,
     "metadata": {},
     "output_type": "execute_result"
    }
   ],
   "source": [
    "red_polygon_df_epsg32632.touches(orange_polygon_df_epsg32632)"
   ]
  },
  {
   "cell_type": "code",
   "execution_count": 139,
   "id": "00667ec8",
   "metadata": {},
   "outputs": [
    {
     "data": {
      "text/plain": [
       "<AxesSubplot:>"
      ]
     },
     "execution_count": 139,
     "metadata": {},
     "output_type": "execute_result"
    },
    {
     "data": {
      "image/png": "[encoded data removed]",
      "text/plain": [
       "<Figure size 720x360 with 1 Axes>"
      ]
     },
     "metadata": {
      "needs_background": "light"
     },
     "output_type": "display_data"
    }
   ],
   "source": [
    "fig, ax = plt.subplots(1, figsize=(10, 5))\n",
    "blue_poligon_df_epsg32632.plot(ax=ax)\n",
    "orange_polygon_df_epsg32632.plot(ax=ax, color='orange')\n",
    "red_polygon_df_epsg32632.plot(ax=ax, color='red')"
   ]
  },
  {
   "cell_type": "markdown",
   "id": "01193fd6",
   "metadata": {},
   "source": [
    "### From EPSG:32632 to EPSG:3035"
   ]
  },
  {
   "cell_type": "code",
   "execution_count": 140,
   "id": "5df4f8f1",
   "metadata": {},
   "outputs": [
    {
     "data": {
      "text/plain": [
       "<Derived Projected CRS: EPSG:3035>\n",
       "Name: ETRS89-extended / LAEA Europe\n",
       "Axis Info [cartesian]:\n",
       "- Y[north]: Northing (metre)\n",
       "- X[east]: Easting (metre)\n",
       "Area of Use:\n",
       "- name: Europe - European Union (EU) countries and candidates. Europe - onshore and offshore: Albania; Andorra; Austria; Belgium; Bosnia and Herzegovina; Bulgaria; Croatia; Cyprus; Czechia; Denmark; Estonia; Faroe Islands; Finland; France; Germany; Gibraltar; Greece; Hungary; Iceland; Ireland; Italy; Kosovo; Latvia; Liechtenstein; Lithuania; Luxembourg; Malta; Monaco; Montenegro; Netherlands; North Macedonia; Norway including Svalbard and Jan Mayen; Poland; Portugal including Madeira and Azores; Romania; San Marino; Serbia; Slovakia; Slovenia; Spain including Canary Islands; Sweden; Switzerland; Turkey; United Kingdom (UK) including Channel Islands and Isle of Man; Vatican City State.\n",
       "- bounds: (-35.58, 24.6, 44.83, 84.73)\n",
       "Coordinate Operation:\n",
       "- name: Europe Equal Area 2001\n",
       "- method: Lambert Azimuthal Equal Area\n",
       "Datum: European Terrestrial Reference System 1989 ensemble\n",
       "- Ellipsoid: GRS 1980\n",
       "- Prime Meridian: Greenwich"
      ]
     },
     "execution_count": 140,
     "metadata": {},
     "output_type": "execute_result"
    }
   ],
   "source": [
    "blue_poligon_df_epsg3035 = blue_poligon_df_epsg32632.copy()\n",
    "blue_poligon_df_epsg3035.to_crs(epsg=3035, inplace=True)\n",
    "blue_poligon_df_epsg3035.crs"
   ]
  },
  {
   "cell_type": "code",
   "execution_count": 149,
   "id": "c47bfd35",
   "metadata": {},
   "outputs": [],
   "source": [
    "orange_polygon_df_epsg3035 = orange_polygon_df_epsg32632.copy()\n",
    "orange_polygon_df_epsg3035.to_crs(epsg=3035, inplace=True)"
   ]
  },
  {
   "cell_type": "code",
   "execution_count": 150,
   "id": "034b7a20",
   "metadata": {},
   "outputs": [],
   "source": [
    "red_polygon_df_epsg3035 = red_polygon_df_epsg32632.copy()\n",
    "red_polygon_df_epsg3035.to_crs(epsg=3035, inplace=True)"
   ]
  },
  {
   "cell_type": "markdown",
   "id": "f99451a0",
   "metadata": {},
   "source": [
    "### within"
   ]
  },
  {
   "cell_type": "code",
   "execution_count": 151,
   "id": "d13194c7",
   "metadata": {},
   "outputs": [
    {
     "data": {
      "text/plain": [
       "0    True\n",
       "dtype: bool"
      ]
     },
     "execution_count": 151,
     "metadata": {},
     "output_type": "execute_result"
    }
   ],
   "source": [
    "orange_polygon_df_epsg3035.within(blue_poligon_df_epsg3035)"
   ]
  },
  {
   "cell_type": "code",
   "execution_count": 152,
   "id": "6648d4a1",
   "metadata": {},
   "outputs": [
    {
     "data": {
      "text/plain": [
       "0    False\n",
       "dtype: bool"
      ]
     },
     "execution_count": 152,
     "metadata": {},
     "output_type": "execute_result"
    }
   ],
   "source": [
    "red_polygon_df_epsg3035.within(blue_poligon_df_epsg3035)"
   ]
  },
  {
   "cell_type": "code",
   "execution_count": null,
   "id": "caac8e3e",
   "metadata": {},
   "outputs": [],
   "source": []
  }
 ],
 "metadata": {
  "kernelspec": {
   "display_name": "Python 3 (ipykernel)",
   "language": "python",
   "name": "python3"
  },
  "language_info": {
   "codemirror_mode": {
    "name": "ipython",
    "version": 3
   },
   "file_extension": ".py",
   "mimetype": "text/x-python",
   "name": "python",
   "nbconvert_exporter": "python",
   "pygments_lexer": "ipython3",
   "version": "3.9.13"
  }
 },
 "nbformat": 4,
 "nbformat_minor": 5
}
