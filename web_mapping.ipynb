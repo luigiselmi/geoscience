{
 "cells": [
  {
   "cell_type": "markdown",
   "id": "3e350359-82b5-4b61-bf37-55264bf4bd77",
   "metadata": {},
   "source": [
    "# Interactive web mapping\n",
    "In this notebook I use the [ipyleaflet]() package to show how it can be used to add some interaction to a Juptyter notebook. One example is how to draw a bounding box on a map and use the geometry to filter the administrative boundary it belongs to. "
   ]
  },
  {
   "cell_type": "markdown",
   "id": "fb5a7cce-ffb3-4f8c-b076-726d18fc5a78",
   "metadata": {},
   "source": [
    "## Rectangle on a satellite image"
   ]
  },
  {
   "cell_type": "code",
   "execution_count": 1,
   "id": "eeca9589-7179-41c7-a5b4-eaf910e33b16",
   "metadata": {},
   "outputs": [
    {
     "data": {
      "application/vnd.jupyter.widget-view+json": {
       "model_id": "c7163c5e62ec41c78a1c00b4baa190f8",
       "version_major": 2,
       "version_minor": 0
      },
      "text/plain": [
       "Map(center=[41.89, 12.492], controls=(ZoomControl(options=['position', 'zoom_in_text', 'zoom_in_title', 'zoom_…"
      ]
     },
     "execution_count": 1,
     "metadata": {},
     "output_type": "execute_result"
    }
   ],
   "source": [
    "import geopandas as gpd\n",
    "from ipyleaflet import Map, Marker, basemaps, basemap_to_tiles, Rectangle, DrawControl\n",
    "from ipywidgets import Layout\n",
    "\n",
    "m = Map(\n",
    "    basemap=basemap_to_tiles(basemaps.NASAGIBS.ModisTerraTrueColorCR, \"2017-04-08\"),\n",
    "    center=(41.890, 12.492),\n",
    "    zoom=9\n",
    ")\n",
    "m.add(Marker(location=(41.890, 12.492)))\n",
    "m.add(Marker(location=(42.0, 13.0)))\n",
    "m.add(Marker(location=(41.7, 12.6)))\n",
    "rectangle = Rectangle(bounds=((42.0, 13.0), (41.7, 12.6)), transform=True)\n",
    "m.add(rectangle)\n",
    "m"
   ]
  },
  {
   "cell_type": "code",
   "execution_count": 2,
   "id": "80b3c4de-d264-4f7a-aacf-d36ded81469f",
   "metadata": {},
   "outputs": [
    {
     "data": {
      "text/plain": [
       "[(42.0, 13.0), (41.7, 12.6)]"
      ]
     },
     "execution_count": 2,
     "metadata": {},
     "output_type": "execute_result"
    }
   ],
   "source": [
    "rectangle.bounds"
   ]
  },
  {
   "cell_type": "markdown",
   "id": "20161e76-f15f-4030-8a38-5e49895cb273",
   "metadata": {},
   "source": [
    "## Drawing a rectangle on a map"
   ]
  },
  {
   "cell_type": "code",
   "execution_count": 3,
   "id": "fde5266d-bb55-4583-bea6-a6204d8d9fa9",
   "metadata": {},
   "outputs": [
    {
     "data": {
      "application/vnd.jupyter.widget-view+json": {
       "model_id": "62115bd24fb6453e8e76d866364a39d7",
       "version_major": 2,
       "version_minor": 0
      },
      "text/plain": [
       "Map(center=[50, 354], controls=(ZoomControl(options=['position', 'zoom_in_text', 'zoom_in_title', 'zoom_out_te…"
      ]
     },
     "execution_count": 3,
     "metadata": {},
     "output_type": "execute_result"
    }
   ],
   "source": [
    "watercolor = basemap_to_tiles(basemaps.OpenStreetMap.Mapnik)\n",
    "\n",
    "m = Map(layers=(watercolor, ), center=(50, 354), zoom=5)\n",
    "\n",
    "draw_control = DrawControl()\n",
    "draw_control.rectangle = {\n",
    "    \"shapeOptions\": {\n",
    "        \"fillColor\": \"#fca45d\",\n",
    "        \"color\": \"#fca45d\",\n",
    "        \"fillOpacity\": 0.2\n",
    "    }\n",
    "}\n",
    "\n",
    "feature_collection = {\n",
    "    'type': 'FeatureCollection',\n",
    "    'features': []\n",
    "}\n",
    "\n",
    "def handle_draw(self, action, geo_json):\n",
    "    \"\"\"Do something with the GeoJSON when it's drawn on the map\"\"\"    \n",
    "    feature_collection['features'].append(geo_json)\n",
    "\n",
    "draw_control.on_draw(handle_draw)\n",
    "\n",
    "m.add(draw_control)\n",
    "\n",
    "m"
   ]
  },
  {
   "cell_type": "code",
   "execution_count": 6,
   "id": "1c078a52-0683-4176-8a14-3a933b567501",
   "metadata": {},
   "outputs": [
    {
     "data": {
      "text/plain": [
       "1"
      ]
     },
     "execution_count": 6,
     "metadata": {},
     "output_type": "execute_result"
    }
   ],
   "source": [
    "num_features = len(feature_collection['features'])\n",
    "num_features"
   ]
  },
  {
   "cell_type": "code",
   "execution_count": 7,
   "id": "5f004f19-39ae-4cff-93a5-f0e0e3dd4780",
   "metadata": {},
   "outputs": [
    {
     "name": "stdout",
     "output_type": "stream",
     "text": [
      "[[[360.775946, 47.243441], [360.775946, 49.405255], [365.435869, 49.405255], [365.435869, 47.243441], [360.775946, 47.243441]]]\n"
     ]
    }
   ],
   "source": [
    "if (num_features > 0): \n",
    "    print(feature_collection['features'][num_features - 1]['geometry']['coordinates'])"
   ]
  },
  {
   "cell_type": "markdown",
   "id": "65206298-a8d5-4e4c-b997-f0ba7487a2c8",
   "metadata": {},
   "source": [
    "## Getting the bounding box of an area of interest\n",
    "Often we need to select an area of interestt using its bounding box. For example we want to select an area that contains certain features, e.g. buildings with some attributes of interest. The bounding box can be used to select satellite images that cover that area."
   ]
  },
  {
   "cell_type": "code",
   "execution_count": 12,
   "id": "43b3508e-021e-46ac-89cc-c8c5905efa0b",
   "metadata": {},
   "outputs": [],
   "source": [
    "milan_gdf = countries = gpd.read_file('data/vector/italy/osm/milan_20240310.geojson')"
   ]
  },
  {
   "cell_type": "code",
   "execution_count": 13,
   "id": "a0dc239b-e4fc-4a06-92b2-164bfdc823f0",
   "metadata": {},
   "outputs": [
    {
     "data": {
      "application/vnd.jupyter.widget-view+json": {
       "model_id": "6059844f1a85478f993afcfce3f7cd88",
       "version_major": 2,
       "version_minor": 0
      },
      "text/plain": [
       "Map(center=[45.465, 9.188], controls=(ZoomControl(options=['position', 'zoom_in_text', 'zoom_in_title', 'zoom_…"
      ]
     },
     "execution_count": 13,
     "metadata": {},
     "output_type": "execute_result"
    }
   ],
   "source": [
    "from ipyleaflet import Map, GeoData, basemaps, LayersControl\n",
    "import json\n",
    "\n",
    "m = Map(center=(45.465, 9.188), zoom = 11, basemap= basemaps.OpenStreetMap.Mapnik)\n",
    "\n",
    "geo_data = GeoData(geo_dataframe = milan_gdf,\n",
    "                   style={'color': 'orange', 'fillColor': 'red', 'opacity':1.0, 'weight':1.0, 'dashArray':'2', 'fillOpacity':1.0},\n",
    "                   hover_style={'fillColor': 'blue' , 'fillOpacity': 1.0},\n",
    "                   name = 'Milan')\n",
    "\n",
    "m.add(geo_data)\n",
    "draw_control = DrawControl()\n",
    "draw_control.rectangle = {\n",
    "    \"shapeOptions\": {\n",
    "        \"fillColor\": \"#fca45d\",\n",
    "        \"color\": \"#fca45d\",\n",
    "        \"fillOpacity\": 0.2\n",
    "    }\n",
    "}\n",
    "\n",
    "feature_collection = {\n",
    "    'type': 'FeatureCollection',\n",
    "    'features': []\n",
    "}\n",
    "\n",
    "def handle_draw(self, action, geo_json):\n",
    "    \"\"\"Do something with the GeoJSON when it's drawn on the map\"\"\"    \n",
    "    feature_collection['features'].append(geo_json)\n",
    "\n",
    "draw_control.on_draw(handle_draw)\n",
    "\n",
    "m.add(draw_control)\n",
    "m.add(LayersControl())\n",
    "m"
   ]
  },
  {
   "cell_type": "code",
   "execution_count": 10,
   "id": "60662999-8596-4c72-b5f5-7e14b057b210",
   "metadata": {},
   "outputs": [
    {
     "data": {
      "text/plain": [
       "1"
      ]
     },
     "execution_count": 10,
     "metadata": {},
     "output_type": "execute_result"
    }
   ],
   "source": [
    "num_features = len(feature_collection['features'])\n",
    "num_features"
   ]
  },
  {
   "cell_type": "code",
   "execution_count": 11,
   "id": "da0b1cc9-3948-46cc-acc3-2d8f722e98fc",
   "metadata": {},
   "outputs": [
    {
     "name": "stdout",
     "output_type": "stream",
     "text": [
      "[[[9.163687, 45.493954], [9.163687, 45.523788], [9.218639, 45.523788], [9.218639, 45.493954], [9.163687, 45.493954]]]\n"
     ]
    }
   ],
   "source": [
    "if (num_features > 0): \n",
    "    print(feature_collection['features'][num_features - 1]['geometry']['coordinates'])"
   ]
  }
 ],
 "metadata": {
  "kernelspec": {
   "display_name": "Python 3 (ipykernel)",
   "language": "python",
   "name": "python3"
  },
  "language_info": {
   "codemirror_mode": {
    "name": "ipython",
    "version": 3
   },
   "file_extension": ".py",
   "mimetype": "text/x-python",
   "name": "python",
   "nbconvert_exporter": "python",
   "pygments_lexer": "ipython3",
   "version": "3.11.5"
  }
 },
 "nbformat": 4,
 "nbformat_minor": 5
}
