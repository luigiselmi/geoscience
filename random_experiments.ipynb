{
 "cells": [
  {
   "cell_type": "markdown",
   "id": "70ee827a",
   "metadata": {},
   "source": [
    "# Random experiments\n",
    "I use this notebook to experiment algorithims and libraries."
   ]
  },
  {
   "cell_type": "code",
   "execution_count": 1,
   "id": "900c950c",
   "metadata": {},
   "outputs": [
    {
     "name": "stdout",
     "output_type": "stream",
     "text": [
      "NumPy version: 1.23.1\n",
      "Pandas version: 1.4.3\n",
      "GeoPandas version: 0.11.1\n"
     ]
    }
   ],
   "source": [
    "import os\n",
    "import numpy as np\n",
    "import pandas as pd\n",
    "import matplotlib.pyplot as plt\n",
    "import warnings\n",
    "import geopandas as gpd\n",
    "from shapely import wkt, geometry\n",
    "from osgeo import gdal_array\n",
    "from osgeo import ogr, osr\n",
    "import pyproj\n",
    "warnings.filterwarnings('ignore')\n",
    "print(\"NumPy version: %s\"%np.__version__)\n",
    "print(\"Pandas version: %s\"%pd.__version__)\n",
    "print(\"GeoPandas version: %s\"%gpd.__version__)"
   ]
  },
  {
   "cell_type": "code",
   "execution_count": 2,
   "id": "add95d7a",
   "metadata": {},
   "outputs": [],
   "source": [
    "from shapely.geometry import Point, LineString, Polygon\n",
    "\n",
    "north_lat = 46.4849007243099\n",
    "west_long = 11.3308448611978 \n",
    "south_lat = 46.3337007085374\n",
    "east_long = 11.4133279550278\n",
    "bbox = {\n",
    "    north_lat, west_long, south_lat, east_long   \n",
    "}\n",
    "\n",
    "north_west = Point(west_long, north_lat)\n",
    "south_west = Point(west_long, south_lat)\n",
    "south_east = Point(east_long, south_lat)\n",
    "north_east = Point(east_long, north_lat)\n",
    "\n",
    "bbox_names = ['north west', 'south west', 'south east', 'north east']\n",
    "bbox_geometries = [north_west, south_west, south_east, north_east]\n",
    "bbox_dict = {'vertices': bbox_names, 'geometry': bbox_geometries}\n",
    "bbox_gdf = gpd.GeoDataFrame(bbox_dict, crs=\"EPSG:4326\")"
   ]
  },
  {
   "cell_type": "code",
   "execution_count": 3,
   "id": "e2ecb330",
   "metadata": {},
   "outputs": [],
   "source": [
    "bbox_geometries.append(north_west)\n",
    "bbox_polygon = Polygon(bbox_geometries)"
   ]
  },
  {
   "cell_type": "code",
   "execution_count": 4,
   "id": "7f761ddc",
   "metadata": {},
   "outputs": [],
   "source": [
    "bbox_polygon_dict = {'Polygon': 'Bbox Polygon', 'geometry': bbox_polygon}\n",
    "bbox_polygon_layer = gpd.GeoDataFrame(bbox_polygon_dict, crs =\"EPSG:4326\", index=range(0,1))"
   ]
  },
  {
   "cell_type": "code",
   "execution_count": 5,
   "id": "56257081",
   "metadata": {},
   "outputs": [
    {
     "data": {
      "text/plain": [
       "<AxesSubplot:xlabel='Longitude', ylabel='Latitude'>"
      ]
     },
     "execution_count": 5,
     "metadata": {},
     "output_type": "execute_result"
    },
    {
     "data": {
      "image/png": "[encoded data removed]",
      "text/plain": [
       "<Figure size 720x360 with 1 Axes>"
      ]
     },
     "metadata": {
      "needs_background": "light"
     },
     "output_type": "display_data"
    }
   ],
   "source": [
    "fig, ax = plt.subplots(1, figsize=(10, 5))\n",
    "ax.set_xlabel('Longitude')\n",
    "ax.set_ylabel('Latitude')\n",
    "bbox_polygon_layer.plot(ax=ax)"
   ]
  },
  {
   "cell_type": "markdown",
   "id": "84ba566f",
   "metadata": {},
   "source": [
    "## Plot a bounding box"
   ]
  },
  {
   "cell_type": "code",
   "execution_count": 6,
   "id": "274f11b9",
   "metadata": {},
   "outputs": [],
   "source": [
    "from shapely.geometry import Point, LineString, Polygon\n",
    "def bbox_gdf(bbox, epsg='EPSG:4326'):\n",
    "    #\n",
    "    # Transforms a list of two pairs of coordinates given in the form \n",
    "    # [south-east-lat, south-east-long, north-west-lat, north-west-long]\n",
    "    # into a GeoPandas dataframe\n",
    "    #\n",
    "    south_east_lat = bbox[0]\n",
    "    south_east_long = bbox[1] \n",
    "    north_west_lat = bbox[2]\n",
    "    north_west_long = bbox[3]\n",
    "    north_west = Point(north_west_long, north_west_lat)\n",
    "    south_east = Point(south_east_long, south_east_lat)\n",
    "    south_west = Point(north_west_long, south_east_lat)\n",
    "    north_east = Point(south_east_long, north_west_lat)\n",
    "\n",
    "    bbox_names = ['north west', 'south west', 'south east', 'north east', 'north west']\n",
    "    bbox_geometries = [north_west, south_west, south_east, north_east, north_west]\n",
    "    bbox_dict = {'vertices': bbox_names, 'geometry': bbox_geometries}\n",
    "    return gpd.GeoDataFrame(bbox_dict, crs=\"EPSG:4326\"), Polygon(bbox_geometries)"
   ]
  },
  {
   "cell_type": "markdown",
   "id": "423e2db1",
   "metadata": {},
   "source": [
    "NW = (9.18303 45.55168), SE = (9.09325 45.51483)"
   ]
  },
  {
   "cell_type": "code",
   "execution_count": 7,
   "id": "395cf83c",
   "metadata": {},
   "outputs": [],
   "source": [
    "osm_novate_bbox = (45.51483, 9.09325, 45.55168, 9.18303)\n",
    "osm_novate_bbox_gdf, osm_novate_polygon = bbox_gdf(osm_novate_bbox)"
   ]
  },
  {
   "cell_type": "code",
   "execution_count": 8,
   "id": "66ca0170",
   "metadata": {},
   "outputs": [],
   "source": [
    "image_frame_point_list = [[8.889338566832725, 45.69029224135627], \n",
    "                          [9.159585055717876, 45.6927790646609], \n",
    "                          [9.162331746044424, 45.51326154947335], \n",
    "                          [8.89296819517379, 45.51078412869796]]"
   ]
  },
  {
   "cell_type": "code",
   "execution_count": 9,
   "id": "832d2438",
   "metadata": {},
   "outputs": [],
   "source": [
    "image_frame_polygon = Polygon(image_frame_point_list)\n",
    "image_frame_polygon_df = gpd.GeoDataFrame(index=[0], crs='epsg:4326', geometry=[image_frame_polygon])"
   ]
  },
  {
   "cell_type": "code",
   "execution_count": 10,
   "id": "44dad71b",
   "metadata": {},
   "outputs": [
    {
     "data": {
      "text/html": [
       "<div style=\"width:100%;\"><div style=\"position:relative;width:100%;height:0;padding-bottom:60%;\"><span style=\"color:#565656\">Make this Notebook Trusted to load map: File -> Trust Notebook</span><iframe srcdoc=\"&lt;!DOCTYPE html&gt;\n",
       "&lt;head&gt;    \n",
       "    &lt;meta http-equiv=&quot;content-type&quot; content=&quot;text/html; charset=UTF-8&quot; /&gt;\n",
       "    \n",
       "        &lt;script&gt;\n",
       "            L_NO_TOUCH = false;\n",
       "            L_DISABLE_3D = false;\n",
       "        &lt;/script&gt;\n",
       "    \n",
       "    &lt;style&gt;html, body {width: 100%;height: 100%;margin: 0;padding: 0;}&lt;/style&gt;\n",
       "    &lt;style&gt;#map {position:absolute;top:0;bottom:0;right:0;left:0;}&lt;/style&gt;\n",
       "    &lt;script src=&quot;https://cdn.jsdelivr.net/npm/leaflet@1.6.0/dist/leaflet.js&quot;&gt;&lt;/script&gt;\n",
       "    &lt;script src=&quot;https://code.jquery.com/jquery-1.12.4.min.js&quot;&gt;&lt;/script&gt;\n",
       "    &lt;script src=&quot;https://maxcdn.bootstrapcdn.com/bootstrap/3.2.0/js/bootstrap.min.js&quot;&gt;&lt;/script&gt;\n",
       "    &lt;script src=&quot;https://cdnjs.cloudflare.com/ajax/libs/Leaflet.awesome-markers/2.0.2/leaflet.awesome-markers.js&quot;&gt;&lt;/script&gt;\n",
       "    &lt;link rel=&quot;stylesheet&quot; href=&quot;https://cdn.jsdelivr.net/npm/leaflet@1.6.0/dist/leaflet.css&quot;/&gt;\n",
       "    &lt;link rel=&quot;stylesheet&quot; href=&quot;https://maxcdn.bootstrapcdn.com/bootstrap/3.2.0/css/bootstrap.min.css&quot;/&gt;\n",
       "    &lt;link rel=&quot;stylesheet&quot; href=&quot;https://maxcdn.bootstrapcdn.com/bootstrap/3.2.0/css/bootstrap-theme.min.css&quot;/&gt;\n",
       "    &lt;link rel=&quot;stylesheet&quot; href=&quot;https://maxcdn.bootstrapcdn.com/font-awesome/4.6.3/css/font-awesome.min.css&quot;/&gt;\n",
       "    &lt;link rel=&quot;stylesheet&quot; href=&quot;https://cdnjs.cloudflare.com/ajax/libs/Leaflet.awesome-markers/2.0.2/leaflet.awesome-markers.css&quot;/&gt;\n",
       "    &lt;link rel=&quot;stylesheet&quot; href=&quot;https://cdn.jsdelivr.net/gh/python-visualization/folium/folium/templates/leaflet.awesome.rotate.min.css&quot;/&gt;\n",
       "    \n",
       "            &lt;meta name=&quot;viewport&quot; content=&quot;width=device-width,\n",
       "                initial-scale=1.0, maximum-scale=1.0, user-scalable=no&quot; /&gt;\n",
       "            &lt;style&gt;\n",
       "                #map_7fc04b0ae28a344dcac6a214c5471e5f {\n",
       "                    position: relative;\n",
       "                    width: 100.0%;\n",
       "                    height: 100.0%;\n",
       "                    left: 0.0%;\n",
       "                    top: 0.0%;\n",
       "                }\n",
       "            &lt;/style&gt;\n",
       "        \n",
       "&lt;/head&gt;\n",
       "&lt;body&gt;    \n",
       "    \n",
       "            &lt;div class=&quot;folium-map&quot; id=&quot;map_7fc04b0ae28a344dcac6a214c5471e5f&quot; &gt;&lt;/div&gt;\n",
       "        \n",
       "&lt;/body&gt;\n",
       "&lt;script&gt;    \n",
       "    \n",
       "            var map_7fc04b0ae28a344dcac6a214c5471e5f = L.map(\n",
       "                &quot;map_7fc04b0ae28a344dcac6a214c5471e5f&quot;,\n",
       "                {\n",
       "                    center: [45.6, 9.0],\n",
       "                    crs: L.CRS.EPSG3857,\n",
       "                    zoom: 11,\n",
       "                    zoomControl: true,\n",
       "                    preferCanvas: false,\n",
       "                }\n",
       "            );\n",
       "\n",
       "            \n",
       "\n",
       "        \n",
       "    \n",
       "            var tile_layer_6271e0615cb0357ad10419efbd5007a8 = L.tileLayer(\n",
       "                &quot;https://cartodb-basemaps-{s}.global.ssl.fastly.net/light_all/{z}/{x}/{y}.png&quot;,\n",
       "                {&quot;attribution&quot;: &quot;\\u0026copy; \\u003ca href=\\&quot;http://www.openstreetmap.org/copyright\\&quot;\\u003eOpenStreetMap\\u003c/a\\u003e contributors \\u0026copy; \\u003ca href=\\&quot;http://cartodb.com/attributions\\&quot;\\u003eCartoDB\\u003c/a\\u003e, CartoDB \\u003ca href =\\&quot;http://cartodb.com/attributions\\&quot;\\u003eattributions\\u003c/a\\u003e&quot;, &quot;detectRetina&quot;: false, &quot;maxNativeZoom&quot;: 18, &quot;maxZoom&quot;: 18, &quot;minZoom&quot;: 0, &quot;noWrap&quot;: false, &quot;opacity&quot;: 1, &quot;subdomains&quot;: &quot;abc&quot;, &quot;tms&quot;: false}\n",
       "            ).addTo(map_7fc04b0ae28a344dcac6a214c5471e5f);\n",
       "        \n",
       "    \n",
       "\n",
       "        function geo_json_f68c1680ec7bc3ec5d61d83e0fa7fedb_onEachFeature(feature, layer) {\n",
       "            layer.on({\n",
       "            });\n",
       "        };\n",
       "        var geo_json_f68c1680ec7bc3ec5d61d83e0fa7fedb = L.geoJson(null, {\n",
       "                onEachFeature: geo_json_f68c1680ec7bc3ec5d61d83e0fa7fedb_onEachFeature,\n",
       "            \n",
       "        });\n",
       "\n",
       "        function geo_json_f68c1680ec7bc3ec5d61d83e0fa7fedb_add (data) {\n",
       "            geo_json_f68c1680ec7bc3ec5d61d83e0fa7fedb\n",
       "                .addData(data)\n",
       "                .addTo(map_7fc04b0ae28a344dcac6a214c5471e5f);\n",
       "        }\n",
       "            geo_json_f68c1680ec7bc3ec5d61d83e0fa7fedb_add({&quot;bbox&quot;: [8.889338566832725, 45.51078412869796, 9.162331746044424, 45.6927790646609], &quot;features&quot;: [{&quot;bbox&quot;: [8.889338566832725, 45.51078412869796, 9.162331746044424, 45.6927790646609], &quot;geometry&quot;: {&quot;coordinates&quot;: [[[8.889338566832725, 45.69029224135627], [9.159585055717876, 45.6927790646609], [9.162331746044424, 45.51326154947335], [8.89296819517379, 45.51078412869796], [8.889338566832725, 45.69029224135627]]], &quot;type&quot;: &quot;Polygon&quot;}, &quot;id&quot;: &quot;0&quot;, &quot;properties&quot;: {}, &quot;type&quot;: &quot;Feature&quot;}], &quot;type&quot;: &quot;FeatureCollection&quot;});\n",
       "\n",
       "        \n",
       "    \n",
       "        function geo_json_8a2b402dd29855f2eb161c7f89404f12_styler(feature) {\n",
       "            switch(feature.id) {\n",
       "                default:\n",
       "                    return {&quot;fillColor&quot;: &quot;orange&quot;};\n",
       "            }\n",
       "        }\n",
       "\n",
       "        function geo_json_8a2b402dd29855f2eb161c7f89404f12_onEachFeature(feature, layer) {\n",
       "            layer.on({\n",
       "            });\n",
       "        };\n",
       "        var geo_json_8a2b402dd29855f2eb161c7f89404f12 = L.geoJson(null, {\n",
       "                onEachFeature: geo_json_8a2b402dd29855f2eb161c7f89404f12_onEachFeature,\n",
       "            \n",
       "                style: geo_json_8a2b402dd29855f2eb161c7f89404f12_styler,\n",
       "        });\n",
       "\n",
       "        function geo_json_8a2b402dd29855f2eb161c7f89404f12_add (data) {\n",
       "            geo_json_8a2b402dd29855f2eb161c7f89404f12\n",
       "                .addData(data)\n",
       "                .addTo(map_7fc04b0ae28a344dcac6a214c5471e5f);\n",
       "        }\n",
       "            geo_json_8a2b402dd29855f2eb161c7f89404f12_add({&quot;features&quot;: [{&quot;geometry&quot;: {&quot;coordinates&quot;: [[[9.18303, 45.55168], [9.18303, 45.51483], [9.09325, 45.51483], [9.09325, 45.55168], [9.18303, 45.55168]]], &quot;type&quot;: &quot;Polygon&quot;}, &quot;id&quot;: &quot;0&quot;, &quot;type&quot;: &quot;Feature&quot;}], &quot;type&quot;: &quot;FeatureCollection&quot;});\n",
       "\n",
       "        \n",
       "    \n",
       "                var lat_lng_popup_5730cd2f0855b24aabde15e91782348c = L.popup();\n",
       "                function latLngPop(e) {\n",
       "                    lat_lng_popup_5730cd2f0855b24aabde15e91782348c\n",
       "                        .setLatLng(e.latlng)\n",
       "                        .setContent(&quot;Latitude: &quot; + e.latlng.lat.toFixed(4) +\n",
       "                                    &quot;&lt;br&gt;Longitude: &quot; + e.latlng.lng.toFixed(4))\n",
       "                        .openOn(map_7fc04b0ae28a344dcac6a214c5471e5f);\n",
       "                    }\n",
       "                map_7fc04b0ae28a344dcac6a214c5471e5f.on(&#x27;click&#x27;, latLngPop);\n",
       "            \n",
       "&lt;/script&gt;\" style=\"position:absolute;width:100%;height:100%;left:0;top:0;border:none !important;\" allowfullscreen webkitallowfullscreen mozallowfullscreen></iframe></div></div>"
      ],
      "text/plain": [
       "<folium.folium.Map at 0x18b66ae82e0>"
      ]
     },
     "execution_count": 10,
     "metadata": {},
     "output_type": "execute_result"
    }
   ],
   "source": [
    "import folium\n",
    "m = folium.Map([45.60, 9.00], zoom_start=11, tiles='cartodbpositron')\n",
    "folium.GeoJson(image_frame_polygon_df).add_to(m)\n",
    "folium.GeoJson(osm_novate_polygon, style_function=lambda x: {'fillColor': 'orange'}).add_to(m)\n",
    "folium.LatLngPopup().add_to(m)\n",
    "m"
   ]
  },
  {
   "cell_type": "code",
   "execution_count": null,
   "id": "0aa3551f",
   "metadata": {},
   "outputs": [],
   "source": []
  }
 ],
 "metadata": {
  "kernelspec": {
   "display_name": "Python 3 (ipykernel)",
   "language": "python",
   "name": "python3"
  },
  "language_info": {
   "codemirror_mode": {
    "name": "ipython",
    "version": 3
   },
   "file_extension": ".py",
   "mimetype": "text/x-python",
   "name": "python",
   "nbconvert_exporter": "python",
   "pygments_lexer": "ipython3",
   "version": "3.9.13"
  }
 },
 "nbformat": 4,
 "nbformat_minor": 5
}
